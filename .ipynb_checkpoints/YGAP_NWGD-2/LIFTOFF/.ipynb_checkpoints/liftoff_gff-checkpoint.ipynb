{
 "cells": [
  {
   "cell_type": "code",
   "execution_count": 1,
   "id": "fbef926e",
   "metadata": {},
   "outputs": [],
   "source": [
    "# from BCBio.GFF import GFFExaminer"
   ]
  },
  {
   "cell_type": "code",
   "execution_count": 2,
   "id": "88084c43",
   "metadata": {},
   "outputs": [],
   "source": [
    "import gffpandas.gffpandas as gffpd\n",
    "import pandas as pd"
   ]
  },
  {
   "cell_type": "code",
   "execution_count": 3,
   "id": "0e4c4aab",
   "metadata": {},
   "outputs": [],
   "source": [
    "annotation = gffpd.read_gff3('YPS1009.gff')"
   ]
  },
  {
   "cell_type": "code",
   "execution_count": 4,
   "id": "8f1455ff",
   "metadata": {},
   "outputs": [
    {
     "name": "stdout",
     "output_type": "stream",
     "text": [
      "##gff-version 3\n",
      "# Liftoff v1.6.3\n",
      "# /home/mplace/anaconda3/envs/liftoff/bin/liftoff -g S288C-R64-3-1.gff -o YPS1009.gff -chroms chroms.txt -copies YPS1009-contigs.fasta S288C-R64-3-1.fa\n",
      "\n"
     ]
    }
   ],
   "source": [
    "print(annotation.header)"
   ]
  },
  {
   "cell_type": "code",
   "execution_count": null,
   "id": "882c1325",
   "metadata": {},
   "outputs": [],
   "source": []
  }
 ],
 "metadata": {
  "kernelspec": {
   "display_name": "Python 3 (ipykernel)",
   "language": "python",
   "name": "python3"
  },
  "language_info": {
   "codemirror_mode": {
    "name": "ipython",
    "version": 3
   },
   "file_extension": ".py",
   "mimetype": "text/x-python",
   "name": "python",
   "nbconvert_exporter": "python",
   "pygments_lexer": "ipython3",
   "version": "3.8.3"
  }
 },
 "nbformat": 4,
 "nbformat_minor": 5
}
