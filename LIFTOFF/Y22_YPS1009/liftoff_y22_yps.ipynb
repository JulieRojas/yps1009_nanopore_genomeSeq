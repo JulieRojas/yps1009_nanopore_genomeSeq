{
 "cells": [
  {
   "cell_type": "markdown",
   "id": "18ceb6d5",
   "metadata": {},
   "source": [
    "https://gffpandas.readthedocs.io/en/latest/tutorial.html"
   ]
  },
  {
   "cell_type": "code",
   "execution_count": 1,
   "id": "88084c43",
   "metadata": {},
   "outputs": [],
   "source": [
    "import gffpandas.gffpandas as gffpd\n",
    "import pandas as pd"
   ]
  },
  {
   "cell_type": "code",
   "execution_count": 2,
   "id": "0e4c4aab",
   "metadata": {},
   "outputs": [],
   "source": [
    "y22_yps = gffpd.read_gff3('YPS1009_Y22-3_v1_polished.gff')\n",
    "s288_yps = gffpd.read_gff3('YPS1009_S288C_v5_polished.gff')"
   ]
  },
  {
   "cell_type": "code",
   "execution_count": 3,
   "id": "e1aa57ba",
   "metadata": {},
   "outputs": [],
   "source": [
    "y22_unmapped = []\n",
    "with open('YPS1009_Y22-3_v1_unmapped_features.txt', 'r') as file:\n",
    "    for line in file:\n",
    "        y22_unmapped.append(line.strip('\\n'))"
   ]
  },
  {
   "cell_type": "code",
   "execution_count": 4,
   "id": "1f380f29",
   "metadata": {},
   "outputs": [
    {
     "data": {
      "text/plain": [
       "CDS                                   7164\n",
       "gene                                  6691\n",
       "mRNA                                  6691\n",
       "ARS                                    554\n",
       "noncoding_exon                         512\n",
       "long_terminal_repeat                   361\n",
       "tRNA                                   323\n",
       "tRNA_gene                              323\n",
       "ARS_consensus_sequence                 199\n",
       "telomere                                98\n",
       "transposable_element                    95\n",
       "transposable_element_gene               95\n",
       "region                                  82\n",
       "snoRNA                                  77\n",
       "snoRNA_gene                             77\n",
       "LTR_retrotransposon                     53\n",
       "plus_1_translational_frameshift         47\n",
       "telomeric_repeat                        42\n",
       "X_element                               35\n",
       "X_element_combinatorial_repeat          33\n",
       "centromere                              30\n",
       "pseudogene                              25\n",
       "five_prime_UTR_intron                   24\n",
       "ncRNA_gene                              23\n",
       "ncRNA                                   23\n",
       "rRNA_gene                               20\n",
       "rRNA                                    20\n",
       "chromosome                              17\n",
       "Y_prime_element                         17\n",
       "centromere_DNA_Element_II               15\n",
       "centromere_DNA_Element_III              15\n",
       "centromere_DNA_Element_I                15\n",
       "blocked_reading_frame                   12\n",
       "origin_of_replication                   10\n",
       "external_transcribed_spacer_region       6\n",
       "uORF                                     6\n",
       "snRNA_gene                               6\n",
       "snRNA                                    6\n",
       "silent_mating_type_cassette_array        4\n",
       "internal_transcribed_spacer_region       4\n",
       "X_region                                 3\n",
       "Y_region                                 3\n",
       "Z1_region                                3\n",
       "non_transcribed_region                   3\n",
       "intein_encoding_region                   2\n",
       "W_region                                 2\n",
       "mating_type_region                       2\n",
       "Z2_region                                2\n",
       "telomerase_RNA                           1\n",
       "telomerase_RNA_gene                      1\n",
       "recombination_enhancer                   1\n",
       "Name: type, dtype: int64"
      ]
     },
     "execution_count": 4,
     "metadata": {},
     "output_type": "execute_result"
    }
   ],
   "source": [
    "s288_yps.df['type'].value_counts()"
   ]
  },
  {
   "cell_type": "code",
   "execution_count": 5,
   "id": "53a100e9",
   "metadata": {},
   "outputs": [],
   "source": [
    "def mapping(df):\n",
    "    id_overlap = []\n",
    "    dupl = {}\n",
    "    for ind, row in df.iterrows():\n",
    "        start = str(row['start'])\n",
    "        end = str(row['end'])\n",
    "        \n",
    "        tmp = str(row['seq_id']) + start + end\n",
    "        id_overlap.append(tmp)\n",
    "        if tmp in dupl:\n",
    "            dupl[tmp] += 1\n",
    "        else:\n",
    "            dupl[tmp] = 1\n",
    "    df['overlap id'] = id_overlap\n",
    "    filtered_dict = {k:v for (k,v) in dupl.items() if v > 1}\n",
    "    print('Number of site annotated several time: ' + str(len(filtered_dict)))\n",
    "    return df, filtered_dict"
   ]
  },
  {
   "cell_type": "code",
   "execution_count": 6,
   "id": "8b8e6207",
   "metadata": {},
   "outputs": [],
   "source": [
    "def drop_overlap(df, filtered_dict):\n",
    "    df['sequence_ID'] = df['sequence_ID'].astype(float)\n",
    "    ind = []\n",
    "    for k in filtered_dict.keys():\n",
    "        tmp = df[df['overlap id'] == k]\n",
    "        ind.append(tmp.nsmallest(1,\"sequence_ID\").index[0])\n",
    "    df.drop(index=ind, inplace=True)\n",
    "    return df"
   ]
  },
  {
   "cell_type": "code",
   "execution_count": 7,
   "id": "a6bef2f8",
   "metadata": {},
   "outputs": [],
   "source": [
    "# This code just convert the chromosome numbering to integer and remove mitochondrial genes.\n",
    "def lat_to_arabic(DF):\n",
    "    Latin_to_arabic = {'I': 1, 'II':2, 'III':3, 'IV':4, 'V':5, 'VI':6, 'VII':7, 'VIII':8, 'IX':9, 'X':10,\n",
    "                      'XI':11, 'XII':12, 'XIII':13, 'XIV':14, 'XV':15, 'XVI':16, 'Mito': 'mitoch', 'MANY': 7}\n",
    "    seq_id = DF['seq_id']\n",
    "    ch = []\n",
    "    contig = []\n",
    "    for i in seq_id:\n",
    "        chrom, cont = i.split('_')\n",
    "        contig.append(cont)\n",
    "        chrom = chrom.replace('chr', '')\n",
    "        if '-' in chrom:\n",
    "            chrom, e = chrom.split('-')\n",
    "        ch.append(Latin_to_arabic[chrom])\n",
    "    DF['Chromosome'] = ch\n",
    "    DF['Contig'] = contig\n",
    "    return DF"
   ]
  },
  {
   "cell_type": "markdown",
   "id": "1009c702",
   "metadata": {},
   "source": [
    "## Make df by features YPS1009"
   ]
  },
  {
   "cell_type": "code",
   "execution_count": 8,
   "id": "45985f8d",
   "metadata": {},
   "outputs": [],
   "source": [
    "y22_df = y22_yps.filter_feature_of_type(['gene'])\n",
    "s288_df = s288_yps.filter_feature_of_type(['gene'])"
   ]
  },
  {
   "cell_type": "code",
   "execution_count": 9,
   "id": "e8e2bea2",
   "metadata": {},
   "outputs": [],
   "source": [
    "y22_attr = y22_df.attributes_to_columns()"
   ]
  },
  {
   "cell_type": "code",
   "execution_count": 10,
   "id": "93e0cfa2",
   "metadata": {},
   "outputs": [
    {
     "data": {
      "text/plain": [
       "Index(['seq_id', 'source', 'type', 'start', 'end', 'score', 'strand', 'phase',\n",
       "       'attributes', 'Alias', 'ID', 'Name', 'Note', 'Ontology_term',\n",
       "       'copy_num_ID', 'coverage', 'curie', 'dbxref', 'display',\n",
       "       'extra_copy_number', 'gene', 'low_identity', 'orf_classification',\n",
       "       'partial_mapping', 'sequence_ID', 'valid_ORFs'],\n",
       "      dtype='object')"
      ]
     },
     "execution_count": 10,
     "metadata": {},
     "output_type": "execute_result"
    }
   ],
   "source": [
    "s288_attr = s288_df.attributes_to_columns()\n",
    "s288_attr.columns"
   ]
  },
  {
   "cell_type": "code",
   "execution_count": 11,
   "id": "aa90ef94",
   "metadata": {},
   "outputs": [],
   "source": [
    "y22 = y22_attr[['seq_id', 'start', 'end', 'ID', 'Name', 'Dbxref',  'Note', \n",
    "       'copy_num_ID', 'coverage', 'extra_copy_number', 'gene', 'low_identity',  'matches_ref_protein', \n",
    "                'inframe_stop_codon', 'missing_start_codon', 'missing_stop_codon',\n",
    "           'partial_mapping', 'sequence_ID', 'valid_ORF', 'valid_ORFs']]\n",
    "\n",
    "s288 = s288_attr[['seq_id', 'start', 'end', 'ID', 'Name', 'dbxref', 'Alias',  'Note', 'Ontology_term', \n",
    "       'copy_num_ID', 'coverage','extra_copy_number', 'gene', 'low_identity', 'orf_classification',\n",
    "       'partial_mapping', 'sequence_ID', 'valid_ORFs']]"
   ]
  },
  {
   "cell_type": "code",
   "execution_count": 12,
   "id": "d931dc0f",
   "metadata": {},
   "outputs": [
    {
     "name": "stderr",
     "output_type": "stream",
     "text": [
      "C:\\Users\\user\\AppData\\Local\\Temp\\ipykernel_17940\\3764198105.py:15: SettingWithCopyWarning: \n",
      "A value is trying to be set on a copy of a slice from a DataFrame.\n",
      "Try using .loc[row_indexer,col_indexer] = value instead\n",
      "\n",
      "See the caveats in the documentation: https://pandas.pydata.org/pandas-docs/stable/user_guide/indexing.html#returning-a-view-versus-a-copy\n",
      "  DF['Chromosome'] = ch\n",
      "C:\\Users\\user\\AppData\\Local\\Temp\\ipykernel_17940\\3764198105.py:16: SettingWithCopyWarning: \n",
      "A value is trying to be set on a copy of a slice from a DataFrame.\n",
      "Try using .loc[row_indexer,col_indexer] = value instead\n",
      "\n",
      "See the caveats in the documentation: https://pandas.pydata.org/pandas-docs/stable/user_guide/indexing.html#returning-a-view-versus-a-copy\n",
      "  DF['Contig'] = contig\n",
      "C:\\Users\\user\\AppData\\Local\\Temp\\ipykernel_17940\\3764198105.py:15: SettingWithCopyWarning: \n",
      "A value is trying to be set on a copy of a slice from a DataFrame.\n",
      "Try using .loc[row_indexer,col_indexer] = value instead\n",
      "\n",
      "See the caveats in the documentation: https://pandas.pydata.org/pandas-docs/stable/user_guide/indexing.html#returning-a-view-versus-a-copy\n",
      "  DF['Chromosome'] = ch\n",
      "C:\\Users\\user\\AppData\\Local\\Temp\\ipykernel_17940\\3764198105.py:16: SettingWithCopyWarning: \n",
      "A value is trying to be set on a copy of a slice from a DataFrame.\n",
      "Try using .loc[row_indexer,col_indexer] = value instead\n",
      "\n",
      "See the caveats in the documentation: https://pandas.pydata.org/pandas-docs/stable/user_guide/indexing.html#returning-a-view-versus-a-copy\n",
      "  DF['Contig'] = contig\n"
     ]
    }
   ],
   "source": [
    "y22 = lat_to_arabic(y22)\n",
    "s288 = lat_to_arabic(s288)"
   ]
  },
  {
   "cell_type": "markdown",
   "id": "8657950f",
   "metadata": {},
   "source": [
    "# Filter out unvalid ORF"
   ]
  },
  {
   "cell_type": "code",
   "execution_count": 15,
   "id": "e4996c37",
   "metadata": {},
   "outputs": [],
   "source": [
    "y22 = y22[y22['valid_ORFs'] == '1']\n",
    "s288 = s288[s288['valid_ORFs'] == '1']"
   ]
  },
  {
   "cell_type": "markdown",
   "id": "58eeab05",
   "metadata": {},
   "source": [
    "# Look for ORF regions that are only identified in y22"
   ]
  },
  {
   "cell_type": "code",
   "execution_count": 18,
   "id": "b4086926",
   "metadata": {},
   "outputs": [
    {
     "name": "stdout",
     "output_type": "stream",
     "text": [
      "Number of site annotated several time: 37\n"
     ]
    },
    {
     "name": "stderr",
     "output_type": "stream",
     "text": [
      "C:\\Users\\user\\AppData\\Local\\Temp\\ipykernel_17940\\4120979712.py:14: SettingWithCopyWarning: \n",
      "A value is trying to be set on a copy of a slice from a DataFrame.\n",
      "Try using .loc[row_indexer,col_indexer] = value instead\n",
      "\n",
      "See the caveats in the documentation: https://pandas.pydata.org/pandas-docs/stable/user_guide/indexing.html#returning-a-view-versus-a-copy\n",
      "  df['overlap id'] = id_overlap\n"
     ]
    }
   ],
   "source": [
    "y22, y22_dic = mapping(y22)"
   ]
  },
  {
   "cell_type": "code",
   "execution_count": 19,
   "id": "3e233cbc",
   "metadata": {},
   "outputs": [
    {
     "name": "stderr",
     "output_type": "stream",
     "text": [
      "C:\\Users\\user\\AppData\\Local\\Temp\\ipykernel_17940\\2562817109.py:2: SettingWithCopyWarning: \n",
      "A value is trying to be set on a copy of a slice from a DataFrame.\n",
      "Try using .loc[row_indexer,col_indexer] = value instead\n",
      "\n",
      "See the caveats in the documentation: https://pandas.pydata.org/pandas-docs/stable/user_guide/indexing.html#returning-a-view-versus-a-copy\n",
      "  df['sequence_ID'] = df['sequence_ID'].astype(float)\n",
      "C:\\Users\\user\\AppData\\Local\\Temp\\ipykernel_17940\\2562817109.py:7: SettingWithCopyWarning: \n",
      "A value is trying to be set on a copy of a slice from a DataFrame\n",
      "\n",
      "See the caveats in the documentation: https://pandas.pydata.org/pandas-docs/stable/user_guide/indexing.html#returning-a-view-versus-a-copy\n",
      "  df.drop(index=ind, inplace=True)\n"
     ]
    }
   ],
   "source": [
    "# remove dually mapped annotation\n",
    "y22 = drop_overlap(y22, y22_dic)"
   ]
  },
  {
   "cell_type": "code",
   "execution_count": 20,
   "id": "ec49f4a9",
   "metadata": {},
   "outputs": [
    {
     "name": "stdout",
     "output_type": "stream",
     "text": [
      "Number of site annotated several time: 42\n"
     ]
    },
    {
     "name": "stderr",
     "output_type": "stream",
     "text": [
      "C:\\Users\\user\\AppData\\Local\\Temp\\ipykernel_17940\\4120979712.py:14: SettingWithCopyWarning: \n",
      "A value is trying to be set on a copy of a slice from a DataFrame.\n",
      "Try using .loc[row_indexer,col_indexer] = value instead\n",
      "\n",
      "See the caveats in the documentation: https://pandas.pydata.org/pandas-docs/stable/user_guide/indexing.html#returning-a-view-versus-a-copy\n",
      "  df['overlap id'] = id_overlap\n"
     ]
    }
   ],
   "source": [
    "s288, s288_dic = mapping(s288)"
   ]
  },
  {
   "cell_type": "code",
   "execution_count": 21,
   "id": "e1aa4edf",
   "metadata": {},
   "outputs": [
    {
     "name": "stderr",
     "output_type": "stream",
     "text": [
      "C:\\Users\\user\\AppData\\Local\\Temp\\ipykernel_17940\\2562817109.py:2: SettingWithCopyWarning: \n",
      "A value is trying to be set on a copy of a slice from a DataFrame.\n",
      "Try using .loc[row_indexer,col_indexer] = value instead\n",
      "\n",
      "See the caveats in the documentation: https://pandas.pydata.org/pandas-docs/stable/user_guide/indexing.html#returning-a-view-versus-a-copy\n",
      "  df['sequence_ID'] = df['sequence_ID'].astype(float)\n",
      "C:\\Users\\user\\AppData\\Local\\Temp\\ipykernel_17940\\2562817109.py:7: SettingWithCopyWarning: \n",
      "A value is trying to be set on a copy of a slice from a DataFrame\n",
      "\n",
      "See the caveats in the documentation: https://pandas.pydata.org/pandas-docs/stable/user_guide/indexing.html#returning-a-view-versus-a-copy\n",
      "  df.drop(index=ind, inplace=True)\n"
     ]
    }
   ],
   "source": [
    "s288 = drop_overlap(s288, s288_dic)"
   ]
  },
  {
   "cell_type": "markdown",
   "id": "40b89708",
   "metadata": {},
   "source": [
    "# Now identified rigions not mapped in s288c"
   ]
  },
  {
   "cell_type": "code",
   "execution_count": 25,
   "id": "332a8fb8",
   "metadata": {},
   "outputs": [],
   "source": [
    "only_y22 = list(set(y22['overlap id']) - set(s288['overlap id']))"
   ]
  },
  {
   "cell_type": "code",
   "execution_count": 27,
   "id": "3c8bae44",
   "metadata": {},
   "outputs": [
    {
     "data": {
      "text/plain": [
       "282"
      ]
     },
     "execution_count": 27,
     "metadata": {},
     "output_type": "execute_result"
    }
   ],
   "source": [
    "len(only_y22)"
   ]
  },
  {
   "cell_type": "code",
   "execution_count": 29,
   "id": "6b0c4135",
   "metadata": {},
   "outputs": [],
   "source": [
    "only_y22 = y22[y22['overlap id'].isin(only_y22)]"
   ]
  },
  {
   "cell_type": "code",
   "execution_count": 30,
   "id": "ed1e786d",
   "metadata": {},
   "outputs": [],
   "source": [
    "only_y22.to_excel('genes_mapped_only_in_y22.xlsx')"
   ]
  },
  {
   "cell_type": "code",
   "execution_count": null,
   "id": "cc1e25c3",
   "metadata": {},
   "outputs": [],
   "source": []
  },
  {
   "cell_type": "code",
   "execution_count": null,
   "id": "4b993033",
   "metadata": {},
   "outputs": [],
   "source": [
    "len(y22[ y22['Dbxref'].isin(list(set(y22['Dbxref']) - set(s288['dbxref'])))])"
   ]
  },
  {
   "cell_type": "code",
   "execution_count": null,
   "id": "acb9a8b9",
   "metadata": {},
   "outputs": [],
   "source": [
    "y22[ y22['ID'].isin(list(set(y22['ID']) - set(s288['ID'])))]"
   ]
  },
  {
   "cell_type": "code",
   "execution_count": null,
   "id": "58524e3e",
   "metadata": {},
   "outputs": [],
   "source": [
    "no_dbx = y22[y22['Dbxref'].isna()]\n",
    "no_dbx = no_dbx[no_dbx['valid_ORFs'] == '1']"
   ]
  },
  {
   "cell_type": "code",
   "execution_count": null,
   "id": "4f9105fc",
   "metadata": {},
   "outputs": [],
   "source": [
    "no_dbx"
   ]
  },
  {
   "cell_type": "code",
   "execution_count": null,
   "id": "055c0578",
   "metadata": {},
   "outputs": [],
   "source": [
    "no_dbx, dic = overlap_feat(no_dbx)"
   ]
  },
  {
   "cell_type": "code",
   "execution_count": null,
   "id": "fa9abf84",
   "metadata": {},
   "outputs": [],
   "source": [
    "no_dbx = drop_overlap(no_dbx, dic)"
   ]
  },
  {
   "cell_type": "code",
   "execution_count": null,
   "id": "f4da4cd4",
   "metadata": {},
   "outputs": [],
   "source": [
    "no_dbx"
   ]
  },
  {
   "cell_type": "code",
   "execution_count": null,
   "id": "05aa3d33",
   "metadata": {},
   "outputs": [],
   "source": []
  },
  {
   "cell_type": "code",
   "execution_count": null,
   "id": "f6116784",
   "metadata": {},
   "outputs": [],
   "source": [
    "onlyiny22 = y22[ y22['Dbxref'].isin(list(set(y22['Dbxref']) - set(s288['dbxref'])))]"
   ]
  },
  {
   "cell_type": "code",
   "execution_count": null,
   "id": "3adda59c",
   "metadata": {},
   "outputs": [],
   "source": [
    "onlyiny22"
   ]
  },
  {
   "cell_type": "code",
   "execution_count": null,
   "id": "8ff795f1",
   "metadata": {},
   "outputs": [],
   "source": [
    "# export genes not annotated in s288c\n",
    "onlyiny22.to_excel('genes_annotated_only_with_y22.xlsx')"
   ]
  },
  {
   "cell_type": "code",
   "execution_count": null,
   "id": "9a124ce5",
   "metadata": {},
   "outputs": [],
   "source": [
    "ins288_only = s288[s288['dbxref'].isin(list(set(s288['dbxref']) - set(y22['Dbxref'])))]"
   ]
  },
  {
   "cell_type": "code",
   "execution_count": null,
   "id": "35d44098",
   "metadata": {},
   "outputs": [],
   "source": [
    "ins288_only['valid_ORFs'].value_counts()"
   ]
  },
  {
   "cell_type": "markdown",
   "id": "a0ba7f7a",
   "metadata": {},
   "source": [
    "Many genes not present in y22 annotations are annotated as invalid in s288c. It's a good sign that those genes may not be needed in wild strains."
   ]
  },
  {
   "cell_type": "code",
   "execution_count": null,
   "id": "da9223db",
   "metadata": {},
   "outputs": [],
   "source": [
    "y22['valid_ORFs'].value_counts()\n",
    "# less unvalid then in s288c annotations."
   ]
  },
  {
   "cell_type": "code",
   "execution_count": null,
   "id": "5a224463",
   "metadata": {},
   "outputs": [],
   "source": [
    "y22"
   ]
  },
  {
   "cell_type": "code",
   "execution_count": null,
   "id": "610db6bb",
   "metadata": {},
   "outputs": [],
   "source": [
    "seems like a lot of overlapping features"
   ]
  },
  {
   "cell_type": "code",
   "execution_count": null,
   "id": "5db3773b",
   "metadata": {},
   "outputs": [],
   "source": [
    "# find genes with major overlap (I only round the last digit of start and end position to zero, \n",
    "# so not perfect but will cover the biggest overlaps)\n",
    "id_overlap = []\n",
    "dupl = {}\n",
    "for ind, row in y22.iterrows():\n",
    "    start = str(row['start'])\n",
    "    start = start.replace(start[len(start) - 1:], '0')\n",
    "    end = str(row['end'])\n",
    "    end = end.replace(end[len(end) - 1:], '0')\n",
    "\n",
    "    tmp = str(row['seq_id']) + start + end\n",
    "    id_overlap.append(tmp)\n",
    "    if tmp in dupl:\n",
    "        dupl[tmp] += 1\n",
    "    else:\n",
    "        dupl[tmp] = 1\n",
    "y22['overlap id'] = id_overlap"
   ]
  },
  {
   "cell_type": "code",
   "execution_count": null,
   "id": "3e050612",
   "metadata": {},
   "outputs": [],
   "source": [
    "filtered_dict = {k:v for (k,v) in dupl.items() if v > 1}"
   ]
  },
  {
   "cell_type": "code",
   "execution_count": null,
   "id": "89b7d9e6",
   "metadata": {},
   "outputs": [],
   "source": [
    "len(filtered_dict)\n",
    "# 64 positions are annotated several time, concern 164 rows"
   ]
  },
  {
   "cell_type": "code",
   "execution_count": null,
   "id": "91f399a8",
   "metadata": {},
   "outputs": [],
   "source": [
    "y22[y22['overlap id'].isin(list(filtered_dict.keys()))]"
   ]
  },
  {
   "cell_type": "code",
   "execution_count": null,
   "id": "4dc4a10e",
   "metadata": {},
   "outputs": [],
   "source": [
    "# find genes with major overlap (I only round the last digit of start and end position to zero, \n",
    "# so not perfect but will cover the biggest overlaps)\n",
    "id_overlap = []\n",
    "dupl = {}\n",
    "for ind, row in s288.iterrows():\n",
    "    start = str(row['start'])\n",
    "    start = start.replace(start[len(start) - 1:], '0')\n",
    "    end = str(row['end'])\n",
    "    end = end.replace(end[len(end) - 1:], '0')\n",
    "\n",
    "    tmp = str(row['seq_id']) + start + end\n",
    "    id_overlap.append(tmp)\n",
    "    if tmp in dupl:\n",
    "        dupl[tmp] += 1\n",
    "    else:\n",
    "        dupl[tmp] = 1\n",
    "s288['overlap id'] = id_overlap"
   ]
  },
  {
   "cell_type": "code",
   "execution_count": null,
   "id": "b56e8284",
   "metadata": {},
   "outputs": [],
   "source": [
    "only_mapped_in_y22 = y22[ y22['overlap id'].isin(list(set(y22['overlap id']) - set(s288['overlap id'])))]"
   ]
  },
  {
   "cell_type": "code",
   "execution_count": null,
   "id": "d31977e8",
   "metadata": {},
   "outputs": [],
   "source": [
    "only_mapped_in_y22"
   ]
  },
  {
   "cell_type": "code",
   "execution_count": null,
   "id": "f283c3ea",
   "metadata": {},
   "outputs": [],
   "source": [
    "len(set(y22['overlap id']) - set(s288['overlap id']))"
   ]
  },
  {
   "cell_type": "code",
   "execution_count": null,
   "id": "0919e70b",
   "metadata": {},
   "outputs": [],
   "source": [
    "y22[y22['ID'].isin(['YER170W'])]"
   ]
  },
  {
   "cell_type": "code",
   "execution_count": null,
   "id": "f9ec649d",
   "metadata": {},
   "outputs": [],
   "source": [
    "missing_stop_v5 = pd.read_csv('missing_stop_v5.txt', sep='\\t')"
   ]
  },
  {
   "cell_type": "code",
   "execution_count": null,
   "id": "7bd2af2e",
   "metadata": {},
   "outputs": [],
   "source": [
    "missing_map_y22 = y22[y22['ID'].isin(list(missing_stop_v5['ID_x']))]"
   ]
  },
  {
   "cell_type": "code",
   "execution_count": null,
   "id": "473a3bf2",
   "metadata": {},
   "outputs": [],
   "source": [
    "missing_map_y22['valid_ORFs'].value_counts()"
   ]
  },
  {
   "cell_type": "code",
   "execution_count": null,
   "id": "4f00463f",
   "metadata": {},
   "outputs": [],
   "source": [
    "missing_map_y22[missing_map_y22['valid_ORFs'] == '1']"
   ]
  },
  {
   "cell_type": "code",
   "execution_count": null,
   "id": "88d09c92",
   "metadata": {},
   "outputs": [],
   "source": [
    "missing_merge = pd.merge(missing_stop_v5, missing_map_y22[['ID', 'Name', 'start', 'end', 'valid_ORFs', 'coverage']],  how='left', left_on='ID_x', right_on = 'ID')"
   ]
  },
  {
   "cell_type": "code",
   "execution_count": null,
   "id": "38d66b0f",
   "metadata": {},
   "outputs": [],
   "source": [
    "missing_merge.to_excel('missinng_stop_merge_y22.xlsx')"
   ]
  },
  {
   "cell_type": "markdown",
   "id": "e1a524db",
   "metadata": {},
   "source": [
    "## Same for missing start"
   ]
  },
  {
   "cell_type": "code",
   "execution_count": null,
   "id": "034f0522",
   "metadata": {},
   "outputs": [],
   "source": [
    "missing_start_v5 = pd.read_csv('missing_start_v5.txt', sep='\\t')"
   ]
  },
  {
   "cell_type": "code",
   "execution_count": null,
   "id": "a2dd6289",
   "metadata": {},
   "outputs": [],
   "source": [
    "missing_start_map_y22 = y22[y22['ID'].isin(list(missing_start_v5['ID_x']))]"
   ]
  },
  {
   "cell_type": "code",
   "execution_count": null,
   "id": "8706ad0d",
   "metadata": {},
   "outputs": [],
   "source": [
    "missing_start_map_y22"
   ]
  },
  {
   "cell_type": "code",
   "execution_count": null,
   "id": "46cd82e5",
   "metadata": {},
   "outputs": [],
   "source": [
    "missing_start_map_y22['valid_ORFs'].value_counts()"
   ]
  },
  {
   "cell_type": "code",
   "execution_count": null,
   "id": "1d3621e4",
   "metadata": {},
   "outputs": [],
   "source": [
    "missing_start_merge = pd.merge(missing_start_v5, missing_start_map_y22[['ID', 'Name', 'start', 'end', 'valid_ORFs', 'coverage']],  how='left', left_on='ID_x', right_on = 'ID')"
   ]
  },
  {
   "cell_type": "code",
   "execution_count": null,
   "id": "6d6478d4",
   "metadata": {},
   "outputs": [],
   "source": [
    "missing_start_merge.to_excel('missing_start_merge_y22.xlsx')"
   ]
  },
  {
   "cell_type": "code",
   "execution_count": 31,
   "id": "a052bb0b",
   "metadata": {},
   "outputs": [
    {
     "data": {
      "text/html": [
       "<div>\n",
       "<style scoped>\n",
       "    .dataframe tbody tr th:only-of-type {\n",
       "        vertical-align: middle;\n",
       "    }\n",
       "\n",
       "    .dataframe tbody tr th {\n",
       "        vertical-align: top;\n",
       "    }\n",
       "\n",
       "    .dataframe thead th {\n",
       "        text-align: right;\n",
       "    }\n",
       "</style>\n",
       "<table border=\"1\" class=\"dataframe\">\n",
       "  <thead>\n",
       "    <tr style=\"text-align: right;\">\n",
       "      <th></th>\n",
       "      <th>seq_id</th>\n",
       "      <th>start</th>\n",
       "      <th>end</th>\n",
       "      <th>ID</th>\n",
       "      <th>Name</th>\n",
       "      <th>Dbxref</th>\n",
       "      <th>Note</th>\n",
       "      <th>copy_num_ID</th>\n",
       "      <th>coverage</th>\n",
       "      <th>extra_copy_number</th>\n",
       "      <th>...</th>\n",
       "      <th>inframe_stop_codon</th>\n",
       "      <th>missing_start_codon</th>\n",
       "      <th>missing_stop_codon</th>\n",
       "      <th>partial_mapping</th>\n",
       "      <th>sequence_ID</th>\n",
       "      <th>valid_ORF</th>\n",
       "      <th>valid_ORFs</th>\n",
       "      <th>Chromosome</th>\n",
       "      <th>Contig</th>\n",
       "      <th>overlap id</th>\n",
       "    </tr>\n",
       "  </thead>\n",
       "  <tbody>\n",
       "    <tr>\n",
       "      <th>8</th>\n",
       "      <td>chrII-2_tig00004927</td>\n",
       "      <td>14660</td>\n",
       "      <td>15022</td>\n",
       "      <td>YGR294W_1</td>\n",
       "      <td>WN66_02740</td>\n",
       "      <td>SGD:S000003526</td>\n",
       "      <td>YGR294W~PAU12~Verified</td>\n",
       "      <td>YGR294W_1</td>\n",
       "      <td>1.0</td>\n",
       "      <td>1</td>\n",
       "      <td>...</td>\n",
       "      <td>None</td>\n",
       "      <td>None</td>\n",
       "      <td>None</td>\n",
       "      <td>None</td>\n",
       "      <td>0.997</td>\n",
       "      <td>True</td>\n",
       "      <td>1</td>\n",
       "      <td>2</td>\n",
       "      <td>tig00004927</td>\n",
       "      <td>chrII-2_tig000049271466015022</td>\n",
       "    </tr>\n",
       "    <tr>\n",
       "      <th>18</th>\n",
       "      <td>chrIII-2_tig00004935</td>\n",
       "      <td>2752</td>\n",
       "      <td>3702</td>\n",
       "      <td>gene-WN66_00590_1</td>\n",
       "      <td>WN66_00590</td>\n",
       "      <td>SGD:S000000579</td>\n",
       "      <td>YCL074W</td>\n",
       "      <td>gene-WN66_00590_1</td>\n",
       "      <td>0.996</td>\n",
       "      <td>1</td>\n",
       "      <td>...</td>\n",
       "      <td>None</td>\n",
       "      <td>None</td>\n",
       "      <td>None</td>\n",
       "      <td>None</td>\n",
       "      <td>0.986</td>\n",
       "      <td>None</td>\n",
       "      <td>1</td>\n",
       "      <td>3</td>\n",
       "      <td>tig00004935</td>\n",
       "      <td>chrIII-2_tig0000493527523702</td>\n",
       "    </tr>\n",
       "    <tr>\n",
       "      <th>28</th>\n",
       "      <td>chrIII_tig00004936</td>\n",
       "      <td>2743</td>\n",
       "      <td>3696</td>\n",
       "      <td>gene-WN66_00590</td>\n",
       "      <td>WN66_00590</td>\n",
       "      <td>SGD:S000000579</td>\n",
       "      <td>YCL074W</td>\n",
       "      <td>gene-WN66_00590_0</td>\n",
       "      <td>1.0</td>\n",
       "      <td>0</td>\n",
       "      <td>...</td>\n",
       "      <td>None</td>\n",
       "      <td>None</td>\n",
       "      <td>None</td>\n",
       "      <td>None</td>\n",
       "      <td>0.990</td>\n",
       "      <td>None</td>\n",
       "      <td>1</td>\n",
       "      <td>3</td>\n",
       "      <td>tig00004936</td>\n",
       "      <td>chrIII_tig0000493627433696</td>\n",
       "    </tr>\n",
       "    <tr>\n",
       "      <th>36</th>\n",
       "      <td>chrIII_tig00004936</td>\n",
       "      <td>12617</td>\n",
       "      <td>12742</td>\n",
       "      <td>YCR038W-A_1</td>\n",
       "      <td>WN66_00709</td>\n",
       "      <td>SGD:S000007597</td>\n",
       "      <td>YCR038W-A~Dubious</td>\n",
       "      <td>YCR038W-A_1</td>\n",
       "      <td>1.0</td>\n",
       "      <td>1</td>\n",
       "      <td>...</td>\n",
       "      <td>None</td>\n",
       "      <td>None</td>\n",
       "      <td>None</td>\n",
       "      <td>None</td>\n",
       "      <td>0.992</td>\n",
       "      <td>True</td>\n",
       "      <td>1</td>\n",
       "      <td>3</td>\n",
       "      <td>tig00004936</td>\n",
       "      <td>chrIII_tig000049361261712742</td>\n",
       "    </tr>\n",
       "    <tr>\n",
       "      <th>40</th>\n",
       "      <td>chrIII_tig00004936</td>\n",
       "      <td>13765</td>\n",
       "      <td>14292</td>\n",
       "      <td>YCL066W</td>\n",
       "      <td>WN66_00595</td>\n",
       "      <td>SGD:S000000571</td>\n",
       "      <td>YCL066W~HMLALPHA1%2CALPHA1~Verified|silenced_gene</td>\n",
       "      <td>YCL066W_0</td>\n",
       "      <td>1.0</td>\n",
       "      <td>0</td>\n",
       "      <td>...</td>\n",
       "      <td>None</td>\n",
       "      <td>None</td>\n",
       "      <td>None</td>\n",
       "      <td>None</td>\n",
       "      <td>1.000</td>\n",
       "      <td>True</td>\n",
       "      <td>1</td>\n",
       "      <td>3</td>\n",
       "      <td>tig00004936</td>\n",
       "      <td>chrIII_tig000049361376514292</td>\n",
       "    </tr>\n",
       "    <tr>\n",
       "      <th>...</th>\n",
       "      <td>...</td>\n",
       "      <td>...</td>\n",
       "      <td>...</td>\n",
       "      <td>...</td>\n",
       "      <td>...</td>\n",
       "      <td>...</td>\n",
       "      <td>...</td>\n",
       "      <td>...</td>\n",
       "      <td>...</td>\n",
       "      <td>...</td>\n",
       "      <td>...</td>\n",
       "      <td>...</td>\n",
       "      <td>...</td>\n",
       "      <td>...</td>\n",
       "      <td>...</td>\n",
       "      <td>...</td>\n",
       "      <td>...</td>\n",
       "      <td>...</td>\n",
       "      <td>...</td>\n",
       "      <td>...</td>\n",
       "      <td>...</td>\n",
       "    </tr>\n",
       "    <tr>\n",
       "      <th>15057</th>\n",
       "      <td>chrX_tig00001098</td>\n",
       "      <td>713888</td>\n",
       "      <td>714784</td>\n",
       "      <td>YNL333W</td>\n",
       "      <td>WN66_05201</td>\n",
       "      <td>SGD:S000005277</td>\n",
       "      <td>YNL333W~SNZ2~Verified</td>\n",
       "      <td>YNL333W_0</td>\n",
       "      <td>1.0</td>\n",
       "      <td>0</td>\n",
       "      <td>...</td>\n",
       "      <td>None</td>\n",
       "      <td>None</td>\n",
       "      <td>None</td>\n",
       "      <td>None</td>\n",
       "      <td>0.995</td>\n",
       "      <td>True</td>\n",
       "      <td>1</td>\n",
       "      <td>10</td>\n",
       "      <td>tig00001098</td>\n",
       "      <td>chrX_tig00001098713888714784</td>\n",
       "    </tr>\n",
       "    <tr>\n",
       "      <th>15063</th>\n",
       "      <td>chrX_tig00001098</td>\n",
       "      <td>713888</td>\n",
       "      <td>714784</td>\n",
       "      <td>gene-WN66_03741</td>\n",
       "      <td>WN66_03741</td>\n",
       "      <td>None</td>\n",
       "      <td>potentially</td>\n",
       "      <td>gene-WN66_03741_0</td>\n",
       "      <td>1.0</td>\n",
       "      <td>0</td>\n",
       "      <td>...</td>\n",
       "      <td>None</td>\n",
       "      <td>None</td>\n",
       "      <td>None</td>\n",
       "      <td>None</td>\n",
       "      <td>0.992</td>\n",
       "      <td>None</td>\n",
       "      <td>1</td>\n",
       "      <td>10</td>\n",
       "      <td>tig00001098</td>\n",
       "      <td>chrX_tig00001098713888714784</td>\n",
       "    </tr>\n",
       "    <tr>\n",
       "      <th>15067</th>\n",
       "      <td>chrX_tig00001098</td>\n",
       "      <td>715169</td>\n",
       "      <td>715837</td>\n",
       "      <td>YNL334C</td>\n",
       "      <td>WN66_05200</td>\n",
       "      <td>SGD:S000005278</td>\n",
       "      <td>YNL334C~SNO2~Verified</td>\n",
       "      <td>YNL334C_0</td>\n",
       "      <td>1.0</td>\n",
       "      <td>0</td>\n",
       "      <td>...</td>\n",
       "      <td>None</td>\n",
       "      <td>None</td>\n",
       "      <td>None</td>\n",
       "      <td>None</td>\n",
       "      <td>0.979</td>\n",
       "      <td>True</td>\n",
       "      <td>1</td>\n",
       "      <td>10</td>\n",
       "      <td>tig00001098</td>\n",
       "      <td>chrX_tig00001098715169715837</td>\n",
       "    </tr>\n",
       "    <tr>\n",
       "      <th>15073</th>\n",
       "      <td>chrX_tig00001098</td>\n",
       "      <td>715169</td>\n",
       "      <td>715837</td>\n",
       "      <td>gene-WN66_03742</td>\n",
       "      <td>WN66_03742</td>\n",
       "      <td>None</td>\n",
       "      <td>potentially</td>\n",
       "      <td>gene-WN66_03742_0</td>\n",
       "      <td>1.0</td>\n",
       "      <td>0</td>\n",
       "      <td>...</td>\n",
       "      <td>None</td>\n",
       "      <td>None</td>\n",
       "      <td>None</td>\n",
       "      <td>None</td>\n",
       "      <td>0.988</td>\n",
       "      <td>None</td>\n",
       "      <td>1</td>\n",
       "      <td>10</td>\n",
       "      <td>tig00001098</td>\n",
       "      <td>chrX_tig00001098715169715837</td>\n",
       "    </tr>\n",
       "    <tr>\n",
       "      <th>15081</th>\n",
       "      <td>chrX_tig00001098</td>\n",
       "      <td>715916</td>\n",
       "      <td>716593</td>\n",
       "      <td>YNL335W</td>\n",
       "      <td>WN66_05199</td>\n",
       "      <td>SGD:S000005279</td>\n",
       "      <td>YNL335W~DDI3~Uncharacterized</td>\n",
       "      <td>YNL335W_0</td>\n",
       "      <td>1.0</td>\n",
       "      <td>0</td>\n",
       "      <td>...</td>\n",
       "      <td>None</td>\n",
       "      <td>None</td>\n",
       "      <td>None</td>\n",
       "      <td>None</td>\n",
       "      <td>0.994</td>\n",
       "      <td>True</td>\n",
       "      <td>1</td>\n",
       "      <td>10</td>\n",
       "      <td>tig00001098</td>\n",
       "      <td>chrX_tig00001098715916716593</td>\n",
       "    </tr>\n",
       "  </tbody>\n",
       "</table>\n",
       "<p>6003 rows × 23 columns</p>\n",
       "</div>"
      ],
      "text/plain": [
       "                     seq_id   start     end                 ID        Name  \\\n",
       "8       chrII-2_tig00004927   14660   15022          YGR294W_1  WN66_02740   \n",
       "18     chrIII-2_tig00004935    2752    3702  gene-WN66_00590_1  WN66_00590   \n",
       "28       chrIII_tig00004936    2743    3696    gene-WN66_00590  WN66_00590   \n",
       "36       chrIII_tig00004936   12617   12742        YCR038W-A_1  WN66_00709   \n",
       "40       chrIII_tig00004936   13765   14292            YCL066W  WN66_00595   \n",
       "...                     ...     ...     ...                ...         ...   \n",
       "15057      chrX_tig00001098  713888  714784            YNL333W  WN66_05201   \n",
       "15063      chrX_tig00001098  713888  714784    gene-WN66_03741  WN66_03741   \n",
       "15067      chrX_tig00001098  715169  715837            YNL334C  WN66_05200   \n",
       "15073      chrX_tig00001098  715169  715837    gene-WN66_03742  WN66_03742   \n",
       "15081      chrX_tig00001098  715916  716593            YNL335W  WN66_05199   \n",
       "\n",
       "               Dbxref                                               Note  \\\n",
       "8      SGD:S000003526                             YGR294W~PAU12~Verified   \n",
       "18     SGD:S000000579                                            YCL074W   \n",
       "28     SGD:S000000579                                            YCL074W   \n",
       "36     SGD:S000007597                                  YCR038W-A~Dubious   \n",
       "40     SGD:S000000571  YCL066W~HMLALPHA1%2CALPHA1~Verified|silenced_gene   \n",
       "...               ...                                                ...   \n",
       "15057  SGD:S000005277                              YNL333W~SNZ2~Verified   \n",
       "15063            None                                        potentially   \n",
       "15067  SGD:S000005278                              YNL334C~SNO2~Verified   \n",
       "15073            None                                        potentially   \n",
       "15081  SGD:S000005279                       YNL335W~DDI3~Uncharacterized   \n",
       "\n",
       "             copy_num_ID coverage extra_copy_number  ... inframe_stop_codon  \\\n",
       "8              YGR294W_1      1.0                 1  ...               None   \n",
       "18     gene-WN66_00590_1    0.996                 1  ...               None   \n",
       "28     gene-WN66_00590_0      1.0                 0  ...               None   \n",
       "36           YCR038W-A_1      1.0                 1  ...               None   \n",
       "40             YCL066W_0      1.0                 0  ...               None   \n",
       "...                  ...      ...               ...  ...                ...   \n",
       "15057          YNL333W_0      1.0                 0  ...               None   \n",
       "15063  gene-WN66_03741_0      1.0                 0  ...               None   \n",
       "15067          YNL334C_0      1.0                 0  ...               None   \n",
       "15073  gene-WN66_03742_0      1.0                 0  ...               None   \n",
       "15081          YNL335W_0      1.0                 0  ...               None   \n",
       "\n",
       "      missing_start_codon missing_stop_codon partial_mapping sequence_ID  \\\n",
       "8                    None               None            None       0.997   \n",
       "18                   None               None            None       0.986   \n",
       "28                   None               None            None       0.990   \n",
       "36                   None               None            None       0.992   \n",
       "40                   None               None            None       1.000   \n",
       "...                   ...                ...             ...         ...   \n",
       "15057                None               None            None       0.995   \n",
       "15063                None               None            None       0.992   \n",
       "15067                None               None            None       0.979   \n",
       "15073                None               None            None       0.988   \n",
       "15081                None               None            None       0.994   \n",
       "\n",
       "      valid_ORF valid_ORFs  Chromosome       Contig  \\\n",
       "8          True          1           2  tig00004927   \n",
       "18         None          1           3  tig00004935   \n",
       "28         None          1           3  tig00004936   \n",
       "36         True          1           3  tig00004936   \n",
       "40         True          1           3  tig00004936   \n",
       "...         ...        ...         ...          ...   \n",
       "15057      True          1          10  tig00001098   \n",
       "15063      None          1          10  tig00001098   \n",
       "15067      True          1          10  tig00001098   \n",
       "15073      None          1          10  tig00001098   \n",
       "15081      True          1          10  tig00001098   \n",
       "\n",
       "                          overlap id  \n",
       "8      chrII-2_tig000049271466015022  \n",
       "18      chrIII-2_tig0000493527523702  \n",
       "28        chrIII_tig0000493627433696  \n",
       "36      chrIII_tig000049361261712742  \n",
       "40      chrIII_tig000049361376514292  \n",
       "...                              ...  \n",
       "15057   chrX_tig00001098713888714784  \n",
       "15063   chrX_tig00001098713888714784  \n",
       "15067   chrX_tig00001098715169715837  \n",
       "15073   chrX_tig00001098715169715837  \n",
       "15081   chrX_tig00001098715916716593  \n",
       "\n",
       "[6003 rows x 23 columns]"
      ]
     },
     "execution_count": 31,
     "metadata": {},
     "output_type": "execute_result"
    }
   ],
   "source": [
    "y22"
   ]
  },
  {
   "cell_type": "code",
   "execution_count": 34,
   "id": "6e961194",
   "metadata": {},
   "outputs": [
    {
     "data": {
      "text/plain": [
       "157"
      ]
     },
     "execution_count": 34,
     "metadata": {},
     "output_type": "execute_result"
    }
   ],
   "source": [
    "len(y22[y22['Dbxref'].isna()])"
   ]
  },
  {
   "cell_type": "code",
   "execution_count": null,
   "id": "c654edfc",
   "metadata": {},
   "outputs": [],
   "source": []
  }
 ],
 "metadata": {
  "kernelspec": {
   "display_name": "Python 3 (ipykernel)",
   "language": "python",
   "name": "python3"
  },
  "language_info": {
   "codemirror_mode": {
    "name": "ipython",
    "version": 3
   },
   "file_extension": ".py",
   "mimetype": "text/x-python",
   "name": "python",
   "nbconvert_exporter": "python",
   "pygments_lexer": "ipython3",
   "version": "3.10.9"
  }
 },
 "nbformat": 4,
 "nbformat_minor": 5
}
