{
 "cells": [
  {
   "cell_type": "markdown",
   "id": "5aec5f49",
   "metadata": {},
   "source": [
    "## Compile  list of subtelomeric genes to compare\n",
    "\n",
    "In this paper:\n",
    "The Chromatin and Transcriptional Landscape of Native Saccharomyces cerevisiae Telomeres and Subtelomeric Domains\n",
    "Aisha Ellahi,1 Deborah M. Thurtle,1 and Jasper Rine\n",
    "\n",
    "Subtelomeric genes count all genes located under 20 kb of the chromosomes end.\n",
    "The task is to list them from the gff files of s288c, then from yps009 annotation (although we may be missing some ends)\n",
    "and compare the list.\n",
    "\n",
    "Motivation 1: telomeric regions are fast evolving. We want to pay attention wheter these genes are more prone to switch from one chromosome to another.\n",
    "\n",
    "Motivation 2: With the s288c/yps1009 list, check wether we have a statistical significant derepression of subtelomeric genes in disomes, from Leah RNAseq data. NB: reads were mapped to s288c, so for now better to do the analysis with lists from s288c and yps1009."
   ]
  },
  {
   "cell_type": "code",
   "execution_count": 77,
   "id": "514329c8",
   "metadata": {},
   "outputs": [],
   "source": [
    "import gffpandas.gffpandas as gffpd\n",
    "import pandas as pd\n",
    "import matplotlib as plt\n",
    "import numpy as np\n",
    "from scipy.stats import ranksums\n",
    "%matplotlib inline"
   ]
  },
  {
   "cell_type": "code",
   "execution_count": 2,
   "id": "44c68cdf",
   "metadata": {},
   "outputs": [
    {
     "name": "stderr",
     "output_type": "stream",
     "text": [
      "C:\\Users\\user\\anaconda3\\lib\\site-packages\\gffpandas\\gffpandas.py:32: DtypeWarning: Columns (1,2,5,6,7,8) have mixed types. Specify dtype option on import or set low_memory=False.\n",
      "  self.df = pd.read_table(self._gff_file, comment='#',\n"
     ]
    }
   ],
   "source": [
    "annotation = gffpd.read_gff3('YPS1009_S288C_v5_polished.gff')\n",
    "annot_s288c = gffpd.read_gff3('saccharomyces_cerevisiae_R64-3.gff')"
   ]
  },
  {
   "cell_type": "code",
   "execution_count": 17,
   "id": "4c79c90e",
   "metadata": {},
   "outputs": [],
   "source": [
    "Chr_df = annotation.filter_feature_of_type(['chromosome'])\n",
    "gene_df = annotation.filter_feature_of_type(['gene'])\n",
    "\n",
    "Chr_df_s288c = annot_s288c.filter_feature_of_type(['chromosome'])\n",
    "gene_df_s288c = annot_s288c.filter_feature_of_type(['gene'])"
   ]
  },
  {
   "cell_type": "code",
   "execution_count": 18,
   "id": "db0c319c",
   "metadata": {},
   "outputs": [],
   "source": [
    "Chr_attr = Chr_df.attributes_to_columns()\n",
    "gene_attr = gene_df.attributes_to_columns()\n",
    "\n",
    "Chr_attr_288c = Chr_df_s288c.attributes_to_columns()\n",
    "gene_attr_s288c = gene_df_s288c.attributes_to_columns()"
   ]
  },
  {
   "cell_type": "code",
   "execution_count": 24,
   "id": "d7eda89f",
   "metadata": {},
   "outputs": [],
   "source": [
    "Chr = Chr_attr[['seq_id', 'start', 'end']]\n",
    "\n",
    "gene = gene_attr[['seq_id', 'start', 'end', 'Name',  'Alias',  'Note', 'Ontology_term', 'score', 'strand', 'phase',\n",
    "       'copy_num_ID', 'coverage', 'curie', 'display', 'extra_copy_number', 'gene', 'low_identity', 'orf_classification',\n",
    "       'partial_mapping', 'sequence_ID', 'valid_ORFs']]\n",
    "\n",
    "Chr_288c = Chr_attr_288c[['seq_id', 'start', 'end']]\n",
    "\n",
    "gene_s288c = gene_attr_s288c[['seq_id', 'start', 'end',  'Name', 'Alias', 'Note', 'Ontology_term', 'score', 'strand', 'phase',\n",
    "       'attributes', 'curie', 'display', 'gene', 'orf_classification']]"
   ]
  },
  {
   "cell_type": "code",
   "execution_count": 28,
   "id": "da491544",
   "metadata": {},
   "outputs": [],
   "source": [
    "# This code just convert the chromosome numbering to integer and remove mitochondrial genes.\n",
    "def lat_to_arabic(DF):\n",
    "    Latin_to_arabic = {'I': 1, 'II':2, 'III':3, 'IV':4, 'V':5, 'VI':6, 'VII':7, 'VIII':8, 'IX':9, 'X':10,\n",
    "                      'XI':11, 'XII':12, 'XIII':13, 'XIV':14, 'XV':15, 'XVI':16, 'Mito': 'mitoch', 'MANY': 7}\n",
    "    seq_id = DF['seq_id']\n",
    "    ch = []\n",
    "    contig = []\n",
    "    for i in seq_id:\n",
    "        chrom, cont = i.split('_')\n",
    "        contig.append(cont)\n",
    "        chrom = chrom.replace('chr', '')\n",
    "        if '-' in chrom:\n",
    "            chrom, e = chrom.split('-')\n",
    "        ch.append(Latin_to_arabic[chrom])\n",
    "    DF['Chromosome'] = ch\n",
    "    DF['Contig'] = contig\n",
    "    return DF\n",
    "\n",
    "def clean20(DF):\n",
    "    note = DF['Note']\n",
    "    dis = DF['display']\n",
    "    clean = []\n",
    "    display = []\n",
    "    for n in note:\n",
    "        clean.append(n.replace('%20', ' '))\n",
    "    for d in dis:\n",
    "        display.append(str(d).replace('%20', ' '))\n",
    "    DF['Note'] = clean\n",
    "    DF['display'] = display\n",
    "    return DF\n",
    "\n",
    "def lat_to_arabic_S288(df):\n",
    "    # This code just convert the chromosome numbering to integer and remove mitochondrial genes.\n",
    "    Latin_to_arabic = {'I': 1, 'II':2, 'III':3, 'IV':4, 'V':5, 'VI':6, 'VII':7, 'VIII':8, 'IX':9, 'X':10,\n",
    "                      'XI':11, 'XII':12, 'XIII':13, 'XIV':14, 'XV':15, 'XVI':16, 'Mito': 'mitoch'}\n",
    "    chLat = df['seq_id']\n",
    "    ch = []\n",
    "    for chrom in chLat:\n",
    "        chrom = chrom.replace('chr', '')\n",
    "        ch.append(Latin_to_arabic[chrom])\n",
    "    df['Chromosome'] = ch\n",
    "    return df"
   ]
  },
  {
   "cell_type": "code",
   "execution_count": 29,
   "id": "ee3fe2b8",
   "metadata": {},
   "outputs": [
    {
     "name": "stderr",
     "output_type": "stream",
     "text": [
      "C:\\Users\\user\\AppData\\Local\\Temp\\ipykernel_23120\\2798434143.py:15: SettingWithCopyWarning: \n",
      "A value is trying to be set on a copy of a slice from a DataFrame.\n",
      "Try using .loc[row_indexer,col_indexer] = value instead\n",
      "\n",
      "See the caveats in the documentation: https://pandas.pydata.org/pandas-docs/stable/user_guide/indexing.html#returning-a-view-versus-a-copy\n",
      "  DF['Chromosome'] = ch\n",
      "C:\\Users\\user\\AppData\\Local\\Temp\\ipykernel_23120\\2798434143.py:16: SettingWithCopyWarning: \n",
      "A value is trying to be set on a copy of a slice from a DataFrame.\n",
      "Try using .loc[row_indexer,col_indexer] = value instead\n",
      "\n",
      "See the caveats in the documentation: https://pandas.pydata.org/pandas-docs/stable/user_guide/indexing.html#returning-a-view-versus-a-copy\n",
      "  DF['Contig'] = contig\n"
     ]
    }
   ],
   "source": [
    "Chr = lat_to_arabic(Chr)"
   ]
  },
  {
   "cell_type": "code",
   "execution_count": 30,
   "id": "417c4cd5",
   "metadata": {},
   "outputs": [
    {
     "name": "stderr",
     "output_type": "stream",
     "text": [
      "C:\\Users\\user\\AppData\\Local\\Temp\\ipykernel_23120\\2798434143.py:41: SettingWithCopyWarning: \n",
      "A value is trying to be set on a copy of a slice from a DataFrame.\n",
      "Try using .loc[row_indexer,col_indexer] = value instead\n",
      "\n",
      "See the caveats in the documentation: https://pandas.pydata.org/pandas-docs/stable/user_guide/indexing.html#returning-a-view-versus-a-copy\n",
      "  df['Chromosome'] = ch\n"
     ]
    }
   ],
   "source": [
    "Chr_288c = lat_to_arabic_S288(Chr_288c)"
   ]
  },
  {
   "cell_type": "code",
   "execution_count": 32,
   "id": "9716fac2",
   "metadata": {},
   "outputs": [
    {
     "name": "stderr",
     "output_type": "stream",
     "text": [
      "C:\\Users\\user\\AppData\\Local\\Temp\\ipykernel_23120\\2798434143.py:15: SettingWithCopyWarning: \n",
      "A value is trying to be set on a copy of a slice from a DataFrame.\n",
      "Try using .loc[row_indexer,col_indexer] = value instead\n",
      "\n",
      "See the caveats in the documentation: https://pandas.pydata.org/pandas-docs/stable/user_guide/indexing.html#returning-a-view-versus-a-copy\n",
      "  DF['Chromosome'] = ch\n",
      "C:\\Users\\user\\AppData\\Local\\Temp\\ipykernel_23120\\2798434143.py:16: SettingWithCopyWarning: \n",
      "A value is trying to be set on a copy of a slice from a DataFrame.\n",
      "Try using .loc[row_indexer,col_indexer] = value instead\n",
      "\n",
      "See the caveats in the documentation: https://pandas.pydata.org/pandas-docs/stable/user_guide/indexing.html#returning-a-view-versus-a-copy\n",
      "  DF['Contig'] = contig\n",
      "C:\\Users\\user\\AppData\\Local\\Temp\\ipykernel_23120\\2798434143.py:41: SettingWithCopyWarning: \n",
      "A value is trying to be set on a copy of a slice from a DataFrame.\n",
      "Try using .loc[row_indexer,col_indexer] = value instead\n",
      "\n",
      "See the caveats in the documentation: https://pandas.pydata.org/pandas-docs/stable/user_guide/indexing.html#returning-a-view-versus-a-copy\n",
      "  df['Chromosome'] = ch\n",
      "C:\\Users\\user\\AppData\\Local\\Temp\\ipykernel_23120\\2798434143.py:28: SettingWithCopyWarning: \n",
      "A value is trying to be set on a copy of a slice from a DataFrame.\n",
      "Try using .loc[row_indexer,col_indexer] = value instead\n",
      "\n",
      "See the caveats in the documentation: https://pandas.pydata.org/pandas-docs/stable/user_guide/indexing.html#returning-a-view-versus-a-copy\n",
      "  DF['Note'] = clean\n",
      "C:\\Users\\user\\AppData\\Local\\Temp\\ipykernel_23120\\2798434143.py:29: SettingWithCopyWarning: \n",
      "A value is trying to be set on a copy of a slice from a DataFrame.\n",
      "Try using .loc[row_indexer,col_indexer] = value instead\n",
      "\n",
      "See the caveats in the documentation: https://pandas.pydata.org/pandas-docs/stable/user_guide/indexing.html#returning-a-view-versus-a-copy\n",
      "  DF['display'] = display\n"
     ]
    }
   ],
   "source": [
    "gene = lat_to_arabic(gene)\n",
    "gene_s288c = lat_to_arabic_S288(gene_s288c)\n",
    "\n",
    "gene = clean20(gene)\n",
    "gene_s288c = clean20(gene_s288c)"
   ]
  },
  {
   "cell_type": "code",
   "execution_count": 34,
   "id": "68d9d1db",
   "metadata": {},
   "outputs": [
    {
     "data": {
      "text/html": [
       "<div>\n",
       "<style scoped>\n",
       "    .dataframe tbody tr th:only-of-type {\n",
       "        vertical-align: middle;\n",
       "    }\n",
       "\n",
       "    .dataframe tbody tr th {\n",
       "        vertical-align: top;\n",
       "    }\n",
       "\n",
       "    .dataframe thead th {\n",
       "        text-align: right;\n",
       "    }\n",
       "</style>\n",
       "<table border=\"1\" class=\"dataframe\">\n",
       "  <thead>\n",
       "    <tr style=\"text-align: right;\">\n",
       "      <th></th>\n",
       "      <th>seq_id</th>\n",
       "      <th>start</th>\n",
       "      <th>end</th>\n",
       "      <th>Chromosome</th>\n",
       "    </tr>\n",
       "  </thead>\n",
       "  <tbody>\n",
       "    <tr>\n",
       "      <th>0</th>\n",
       "      <td>chrI</td>\n",
       "      <td>1.0</td>\n",
       "      <td>230218.0</td>\n",
       "      <td>1</td>\n",
       "    </tr>\n",
       "    <tr>\n",
       "      <th>506</th>\n",
       "      <td>chrII</td>\n",
       "      <td>1.0</td>\n",
       "      <td>813184.0</td>\n",
       "      <td>2</td>\n",
       "    </tr>\n",
       "    <tr>\n",
       "      <th>2423</th>\n",
       "      <td>chrIII</td>\n",
       "      <td>1.0</td>\n",
       "      <td>316620.0</td>\n",
       "      <td>3</td>\n",
       "    </tr>\n",
       "    <tr>\n",
       "      <th>3277</th>\n",
       "      <td>chrIV</td>\n",
       "      <td>1.0</td>\n",
       "      <td>1531933.0</td>\n",
       "      <td>4</td>\n",
       "    </tr>\n",
       "    <tr>\n",
       "      <th>6792</th>\n",
       "      <td>chrV</td>\n",
       "      <td>1.0</td>\n",
       "      <td>576874.0</td>\n",
       "      <td>5</td>\n",
       "    </tr>\n",
       "    <tr>\n",
       "      <th>8222</th>\n",
       "      <td>chrVI</td>\n",
       "      <td>1.0</td>\n",
       "      <td>270161.0</td>\n",
       "      <td>6</td>\n",
       "    </tr>\n",
       "    <tr>\n",
       "      <th>8870</th>\n",
       "      <td>chrVII</td>\n",
       "      <td>1.0</td>\n",
       "      <td>1090940.0</td>\n",
       "      <td>7</td>\n",
       "    </tr>\n",
       "    <tr>\n",
       "      <th>11431</th>\n",
       "      <td>chrVIII</td>\n",
       "      <td>1.0</td>\n",
       "      <td>562643.0</td>\n",
       "      <td>8</td>\n",
       "    </tr>\n",
       "    <tr>\n",
       "      <th>12784</th>\n",
       "      <td>chrIX</td>\n",
       "      <td>1.0</td>\n",
       "      <td>439888.0</td>\n",
       "      <td>9</td>\n",
       "    </tr>\n",
       "    <tr>\n",
       "      <th>13805</th>\n",
       "      <td>chrX</td>\n",
       "      <td>1.0</td>\n",
       "      <td>745751.0</td>\n",
       "      <td>10</td>\n",
       "    </tr>\n",
       "    <tr>\n",
       "      <th>15508</th>\n",
       "      <td>chrXI</td>\n",
       "      <td>1.0</td>\n",
       "      <td>666816.0</td>\n",
       "      <td>11</td>\n",
       "    </tr>\n",
       "    <tr>\n",
       "      <th>16961</th>\n",
       "      <td>chrXII</td>\n",
       "      <td>1.0</td>\n",
       "      <td>1078177.0</td>\n",
       "      <td>12</td>\n",
       "    </tr>\n",
       "    <tr>\n",
       "      <th>19463</th>\n",
       "      <td>chrXIII</td>\n",
       "      <td>1.0</td>\n",
       "      <td>924431.0</td>\n",
       "      <td>13</td>\n",
       "    </tr>\n",
       "    <tr>\n",
       "      <th>21652</th>\n",
       "      <td>chrXIV</td>\n",
       "      <td>1.0</td>\n",
       "      <td>784333.0</td>\n",
       "      <td>14</td>\n",
       "    </tr>\n",
       "    <tr>\n",
       "      <th>23474</th>\n",
       "      <td>chrXV</td>\n",
       "      <td>1.0</td>\n",
       "      <td>1091291.0</td>\n",
       "      <td>15</td>\n",
       "    </tr>\n",
       "    <tr>\n",
       "      <th>25953</th>\n",
       "      <td>chrXVI</td>\n",
       "      <td>1.0</td>\n",
       "      <td>948066.0</td>\n",
       "      <td>16</td>\n",
       "    </tr>\n",
       "    <tr>\n",
       "      <th>28145</th>\n",
       "      <td>chrMito</td>\n",
       "      <td>1.0</td>\n",
       "      <td>85779.0</td>\n",
       "      <td>mitoch</td>\n",
       "    </tr>\n",
       "  </tbody>\n",
       "</table>\n",
       "</div>"
      ],
      "text/plain": [
       "        seq_id  start        end Chromosome\n",
       "0         chrI    1.0   230218.0          1\n",
       "506      chrII    1.0   813184.0          2\n",
       "2423    chrIII    1.0   316620.0          3\n",
       "3277     chrIV    1.0  1531933.0          4\n",
       "6792      chrV    1.0   576874.0          5\n",
       "8222     chrVI    1.0   270161.0          6\n",
       "8870    chrVII    1.0  1090940.0          7\n",
       "11431  chrVIII    1.0   562643.0          8\n",
       "12784    chrIX    1.0   439888.0          9\n",
       "13805     chrX    1.0   745751.0         10\n",
       "15508    chrXI    1.0   666816.0         11\n",
       "16961   chrXII    1.0  1078177.0         12\n",
       "19463  chrXIII    1.0   924431.0         13\n",
       "21652   chrXIV    1.0   784333.0         14\n",
       "23474    chrXV    1.0  1091291.0         15\n",
       "25953   chrXVI    1.0   948066.0         16\n",
       "28145  chrMito    1.0    85779.0     mitoch"
      ]
     },
     "execution_count": 34,
     "metadata": {},
     "output_type": "execute_result"
    }
   ],
   "source": [
    "Chr_288c"
   ]
  },
  {
   "cell_type": "code",
   "execution_count": 46,
   "id": "f69cad52",
   "metadata": {},
   "outputs": [],
   "source": [
    "# look for genes in the 20 kb chromosome ends\n",
    "# the 5' it's gene whose end is <= 20000\n",
    "# for the 3', genes start is chrX end - 20 kbp\n",
    "\n",
    "# size of subtelomeric regions, 20kbp\n",
    "size_T = 20*1000\n",
    "\n",
    "subT_genes = []\n",
    "for ind, row in gene_s288c.iterrows():\n",
    "    if row['end'] <= size_T:\n",
    "        subT_genes.append(row['Name'])\n",
    "    elif row['start'] >= int(Chr_288c[Chr_288c['Chromosome'] == row['Chromosome']]['end'])-size_T:\n",
    "        subT_genes.append(row['Name'])"
   ]
  },
  {
   "cell_type": "code",
   "execution_count": 50,
   "id": "4b98e3f8",
   "metadata": {},
   "outputs": [],
   "source": [
    "subT_genes = gene_s288c[gene_s288c['Name'].isin(subT_genes)]\n",
    "subT_genes = subT_genes[subT_genes['Chromosome'] != 'mitoch']"
   ]
  },
  {
   "cell_type": "code",
   "execution_count": 52,
   "id": "659f5de6",
   "metadata": {},
   "outputs": [
    {
     "data": {
      "text/plain": [
       "Verified           145\n",
       "Uncharacterized     83\n",
       "Dubious             75\n",
       "Name: orf_classification, dtype: int64"
      ]
     },
     "execution_count": 52,
     "metadata": {},
     "output_type": "execute_result"
    }
   ],
   "source": [
    "subT_genes['orf_classification'].value_counts()"
   ]
  },
  {
   "cell_type": "code",
   "execution_count": 53,
   "id": "c47ff970",
   "metadata": {},
   "outputs": [],
   "source": [
    "subT_genes_yps = gene[gene['Name'].isin(list(subT_genes['Name']))]\n",
    "# Where are those genes in yps1009\n",
    "# How do I analyse that while I don't know where the contigs align precisely?"
   ]
  },
  {
   "cell_type": "markdown",
   "id": "74d80f8d",
   "metadata": {},
   "source": [
    "## RNA seq statistical test for subtelomeric genes "
   ]
  },
  {
   "cell_type": "code",
   "execution_count": 63,
   "id": "7c6e0535",
   "metadata": {},
   "outputs": [],
   "source": [
    "rnaseq_gml = pd.read_csv('RNAseqLeah_glm_rnaseq_annot.txt', sep = '\\t', index_col=0)\n",
    "rnaseq_tmm = pd.read_csv('RNAseqLeah_log2_normTMM_annotations.txt', sep = '\\t', index_col=0)"
   ]
  },
  {
   "cell_type": "code",
   "execution_count": 66,
   "id": "1ba561af",
   "metadata": {},
   "outputs": [],
   "source": [
    "rnaseq_tmm_subT = rnaseq_tmm[rnaseq_tmm.index.isin(list(subT_genes['Name']))]\n",
    "# ~ revert the command!\n",
    "rnaseq_tmm_notsubT = rnaseq_tmm[~rnaseq_tmm.index.isin(list(subT_genes['Name']))]"
   ]
  },
  {
   "cell_type": "code",
   "execution_count": 72,
   "id": "8966670c",
   "metadata": {},
   "outputs": [
    {
     "data": {
      "text/plain": [
       "Index(['NAME', '1 731', '2 731', '1 735', '2 735', '1 1835', '2 1835',\n",
       "       '1 1839', '2 1839', '1 1845', '2 1845'],\n",
       "      dtype='object')"
      ]
     },
     "execution_count": 72,
     "metadata": {},
     "output_type": "execute_result"
    }
   ],
   "source": [
    "rnaseq_tmm_subT.columns         "
   ]
  },
  {
   "cell_type": "code",
   "execution_count": 73,
   "id": "cec82ba6",
   "metadata": {},
   "outputs": [
    {
     "data": {
      "text/plain": [
       "<AxesSubplot: >"
      ]
     },
     "execution_count": 73,
     "metadata": {},
     "output_type": "execute_result"
    },
    {
     "data": {
      "image/png": "[encoded data removed]",
      "text/plain": [
       "<Figure size 640x480 with 1 Axes>"
      ]
     },
     "metadata": {},
     "output_type": "display_data"
    }
   ],
   "source": [
    "rnaseq_tmm_subT.boxplot(column=[ '1 731', '2 731', '1 735', '2 735', '1 1835', '2 1835',\n",
    "       '1 1839', '2 1839', '1 1845', '2 1845'])  \n"
   ]
  },
  {
   "cell_type": "code",
   "execution_count": 79,
   "id": "76a24fbb",
   "metadata": {},
   "outputs": [
    {
     "data": {
      "text/plain": [
       "<AxesSubplot: >"
      ]
     },
     "execution_count": 79,
     "metadata": {},
     "output_type": "execute_result"
    },
    {
     "data": {
      "image/png": "[encoded data removed]",
      "text/plain": [
       "<Figure size 640x480 with 1 Axes>"
      ]
     },
     "metadata": {},
     "output_type": "display_data"
    }
   ],
   "source": [
    "rnaseq_tmm_notsubT.boxplot(column=[ '1 731', '2 731', '1 735', '2 735', '1 1835', '2 1835',\n",
    "       '1 1839', '2 1839', '1 1845', '2 1845'])"
   ]
  },
  {
   "cell_type": "code",
   "execution_count": 75,
   "id": "09a55598",
   "metadata": {},
   "outputs": [
    {
     "data": {
      "text/html": [
       "<div>\n",
       "<style scoped>\n",
       "    .dataframe tbody tr th:only-of-type {\n",
       "        vertical-align: middle;\n",
       "    }\n",
       "\n",
       "    .dataframe tbody tr th {\n",
       "        vertical-align: top;\n",
       "    }\n",
       "\n",
       "    .dataframe thead th {\n",
       "        text-align: right;\n",
       "    }\n",
       "</style>\n",
       "<table border=\"1\" class=\"dataframe\">\n",
       "  <thead>\n",
       "    <tr style=\"text-align: right;\">\n",
       "      <th></th>\n",
       "      <th>NAME</th>\n",
       "      <th>1 731</th>\n",
       "      <th>2 731</th>\n",
       "      <th>1 735</th>\n",
       "      <th>2 735</th>\n",
       "      <th>1 1835</th>\n",
       "      <th>2 1835</th>\n",
       "      <th>1 1839</th>\n",
       "      <th>2 1839</th>\n",
       "      <th>1 1845</th>\n",
       "      <th>2 1845</th>\n",
       "    </tr>\n",
       "  </thead>\n",
       "  <tbody>\n",
       "    <tr>\n",
       "      <th>YAL063C</th>\n",
       "      <td>YAL063C FLO9 Lectin-like protein with similari...</td>\n",
       "      <td>3.794996</td>\n",
       "      <td>3.728189</td>\n",
       "      <td>4.086323</td>\n",
       "      <td>3.731380</td>\n",
       "      <td>3.849742</td>\n",
       "      <td>3.849336</td>\n",
       "      <td>3.710767</td>\n",
       "      <td>3.898373</td>\n",
       "      <td>3.740567</td>\n",
       "      <td>3.898779</td>\n",
       "    </tr>\n",
       "    <tr>\n",
       "      <th>YAL062W</th>\n",
       "      <td>YAL062W GDH3 NADP(+)-dependent glutamate dehyd...</td>\n",
       "      <td>2.765850</td>\n",
       "      <td>2.463047</td>\n",
       "      <td>2.851547</td>\n",
       "      <td>2.778174</td>\n",
       "      <td>2.779353</td>\n",
       "      <td>3.056265</td>\n",
       "      <td>3.193604</td>\n",
       "      <td>3.337658</td>\n",
       "      <td>2.715032</td>\n",
       "      <td>2.642439</td>\n",
       "    </tr>\n",
       "    <tr>\n",
       "      <th>YAL061W</th>\n",
       "      <td>YAL061W BDH2 Putative medium-chain alcohol deh...</td>\n",
       "      <td>2.436542</td>\n",
       "      <td>1.839610</td>\n",
       "      <td>2.665991</td>\n",
       "      <td>2.896010</td>\n",
       "      <td>2.705352</td>\n",
       "      <td>2.798197</td>\n",
       "      <td>3.076686</td>\n",
       "      <td>3.131207</td>\n",
       "      <td>2.431239</td>\n",
       "      <td>2.403251</td>\n",
       "    </tr>\n",
       "    <tr>\n",
       "      <th>YAL060W</th>\n",
       "      <td>YAL060W BDH1 NAD-dependent (R,R)-butanediol de...</td>\n",
       "      <td>5.473068</td>\n",
       "      <td>5.364867</td>\n",
       "      <td>5.829616</td>\n",
       "      <td>6.064363</td>\n",
       "      <td>5.002776</td>\n",
       "      <td>5.120125</td>\n",
       "      <td>6.911219</td>\n",
       "      <td>6.539292</td>\n",
       "      <td>5.838415</td>\n",
       "      <td>5.769430</td>\n",
       "    </tr>\n",
       "    <tr>\n",
       "      <th>YAL059W</th>\n",
       "      <td>YAL059W ECM1 Pre-ribosomal factor involved in ...</td>\n",
       "      <td>4.477569</td>\n",
       "      <td>4.364867</td>\n",
       "      <td>4.848434</td>\n",
       "      <td>4.284281</td>\n",
       "      <td>4.217646</td>\n",
       "      <td>4.099151</td>\n",
       "      <td>3.667881</td>\n",
       "      <td>3.734548</td>\n",
       "      <td>4.188448</td>\n",
       "      <td>4.420881</td>\n",
       "    </tr>\n",
       "    <tr>\n",
       "      <th>...</th>\n",
       "      <td>...</td>\n",
       "      <td>...</td>\n",
       "      <td>...</td>\n",
       "      <td>...</td>\n",
       "      <td>...</td>\n",
       "      <td>...</td>\n",
       "      <td>...</td>\n",
       "      <td>...</td>\n",
       "      <td>...</td>\n",
       "      <td>...</td>\n",
       "      <td>...</td>\n",
       "    </tr>\n",
       "    <tr>\n",
       "      <th>Q0182</th>\n",
       "      <td>NaN</td>\n",
       "      <td>1.238603</td>\n",
       "      <td>0.952085</td>\n",
       "      <td>-0.836509</td>\n",
       "      <td>-0.316983</td>\n",
       "      <td>0.042387</td>\n",
       "      <td>-0.479788</td>\n",
       "      <td>0.269332</td>\n",
       "      <td>0.752696</td>\n",
       "      <td>-0.004860</td>\n",
       "      <td>0.720441</td>\n",
       "    </tr>\n",
       "    <tr>\n",
       "      <th>Q0250</th>\n",
       "      <td>Q0250 COX2 Subunit II of cytochrome c oxidase ...</td>\n",
       "      <td>8.541846</td>\n",
       "      <td>8.210416</td>\n",
       "      <td>7.121560</td>\n",
       "      <td>7.106992</td>\n",
       "      <td>8.141472</td>\n",
       "      <td>7.619297</td>\n",
       "      <td>8.991363</td>\n",
       "      <td>9.010319</td>\n",
       "      <td>8.214593</td>\n",
       "      <td>8.403621</td>\n",
       "    </tr>\n",
       "    <tr>\n",
       "      <th>Q0255</th>\n",
       "      <td>NaN</td>\n",
       "      <td>0.543457</td>\n",
       "      <td>1.274013</td>\n",
       "      <td>0.851547</td>\n",
       "      <td>0.978472</td>\n",
       "      <td>0.993478</td>\n",
       "      <td>0.783247</td>\n",
       "      <td>1.537820</td>\n",
       "      <td>1.600693</td>\n",
       "      <td>0.299995</td>\n",
       "      <td>0.057476</td>\n",
       "    </tr>\n",
       "    <tr>\n",
       "      <th>Q0275</th>\n",
       "      <td>Q0275 COX3 Subunit III of cytochrome c oxidase...</td>\n",
       "      <td>9.405430</td>\n",
       "      <td>9.163243</td>\n",
       "      <td>7.979407</td>\n",
       "      <td>7.933961</td>\n",
       "      <td>8.758235</td>\n",
       "      <td>8.282096</td>\n",
       "      <td>9.677854</td>\n",
       "      <td>9.820802</td>\n",
       "      <td>9.480733</td>\n",
       "      <td>9.590482</td>\n",
       "    </tr>\n",
       "    <tr>\n",
       "      <th>YFL002W-A,YGR161W-B</th>\n",
       "      <td>YFL002W-A,YGR161W-B</td>\n",
       "      <td>5.581592</td>\n",
       "      <td>5.563848</td>\n",
       "      <td>6.185858</td>\n",
       "      <td>6.224993</td>\n",
       "      <td>6.603102</td>\n",
       "      <td>6.450950</td>\n",
       "      <td>7.399551</td>\n",
       "      <td>7.586851</td>\n",
       "      <td>4.665901</td>\n",
       "      <td>4.976340</td>\n",
       "    </tr>\n",
       "  </tbody>\n",
       "</table>\n",
       "<p>5708 rows × 11 columns</p>\n",
       "</div>"
      ],
      "text/plain": [
       "                                                                  NAME  \\\n",
       "YAL063C              YAL063C FLO9 Lectin-like protein with similari...   \n",
       "YAL062W              YAL062W GDH3 NADP(+)-dependent glutamate dehyd...   \n",
       "YAL061W              YAL061W BDH2 Putative medium-chain alcohol deh...   \n",
       "YAL060W              YAL060W BDH1 NAD-dependent (R,R)-butanediol de...   \n",
       "YAL059W              YAL059W ECM1 Pre-ribosomal factor involved in ...   \n",
       "...                                                                ...   \n",
       "Q0182                                                              NaN   \n",
       "Q0250                Q0250 COX2 Subunit II of cytochrome c oxidase ...   \n",
       "Q0255                                                              NaN   \n",
       "Q0275                Q0275 COX3 Subunit III of cytochrome c oxidase...   \n",
       "YFL002W-A,YGR161W-B                                YFL002W-A,YGR161W-B   \n",
       "\n",
       "                        1 731     2 731     1 735     2 735    1 1835  \\\n",
       "YAL063C              3.794996  3.728189  4.086323  3.731380  3.849742   \n",
       "YAL062W              2.765850  2.463047  2.851547  2.778174  2.779353   \n",
       "YAL061W              2.436542  1.839610  2.665991  2.896010  2.705352   \n",
       "YAL060W              5.473068  5.364867  5.829616  6.064363  5.002776   \n",
       "YAL059W              4.477569  4.364867  4.848434  4.284281  4.217646   \n",
       "...                       ...       ...       ...       ...       ...   \n",
       "Q0182                1.238603  0.952085 -0.836509 -0.316983  0.042387   \n",
       "Q0250                8.541846  8.210416  7.121560  7.106992  8.141472   \n",
       "Q0255                0.543457  1.274013  0.851547  0.978472  0.993478   \n",
       "Q0275                9.405430  9.163243  7.979407  7.933961  8.758235   \n",
       "YFL002W-A,YGR161W-B  5.581592  5.563848  6.185858  6.224993  6.603102   \n",
       "\n",
       "                       2 1835    1 1839    2 1839    1 1845    2 1845  \n",
       "YAL063C              3.849336  3.710767  3.898373  3.740567  3.898779  \n",
       "YAL062W              3.056265  3.193604  3.337658  2.715032  2.642439  \n",
       "YAL061W              2.798197  3.076686  3.131207  2.431239  2.403251  \n",
       "YAL060W              5.120125  6.911219  6.539292  5.838415  5.769430  \n",
       "YAL059W              4.099151  3.667881  3.734548  4.188448  4.420881  \n",
       "...                       ...       ...       ...       ...       ...  \n",
       "Q0182               -0.479788  0.269332  0.752696 -0.004860  0.720441  \n",
       "Q0250                7.619297  8.991363  9.010319  8.214593  8.403621  \n",
       "Q0255                0.783247  1.537820  1.600693  0.299995  0.057476  \n",
       "Q0275                8.282096  9.677854  9.820802  9.480733  9.590482  \n",
       "YFL002W-A,YGR161W-B  6.450950  7.399551  7.586851  4.665901  4.976340  \n",
       "\n",
       "[5708 rows x 11 columns]"
      ]
     },
     "execution_count": 75,
     "metadata": {},
     "output_type": "execute_result"
    }
   ],
   "source": [
    "rnaseq_tmm_notsubT"
   ]
  },
  {
   "cell_type": "code",
   "execution_count": 81,
   "id": "2bfa6444",
   "metadata": {},
   "outputs": [],
   "source": [
    "rnaseq_gml_subT = rnaseq_gml[rnaseq_gml.index.isin(list(subT_genes['Name']))]\n",
    "# ~ revert the command!\n",
    "rnaseq_gml_notsubT = rnaseq_gml[~rnaseq_gml.index.isin(list(subT_genes['Name']))]"
   ]
  },
  {
   "cell_type": "code",
   "execution_count": 84,
   "id": "b64b7f60",
   "metadata": {},
   "outputs": [
    {
     "data": {
      "text/plain": [
       "Index(['NAME', 'logFC.dis4', 'logFC.dis12', 'logFC.dis14', 'logFC.dis15'], dtype='object')"
      ]
     },
     "execution_count": 84,
     "metadata": {},
     "output_type": "execute_result"
    }
   ],
   "source": [
    "rnaseq_gml_subT.columns"
   ]
  },
  {
   "cell_type": "code",
   "execution_count": 85,
   "id": "7a82554a",
   "metadata": {},
   "outputs": [
    {
     "data": {
      "text/plain": [
       "<AxesSubplot: >"
      ]
     },
     "execution_count": 85,
     "metadata": {},
     "output_type": "execute_result"
    },
    {
     "data": {
      "image/png": "[encoded data removed]",
      "text/plain": [
       "<Figure size 640x480 with 1 Axes>"
      ]
     },
     "metadata": {},
     "output_type": "display_data"
    }
   ],
   "source": [
    "rnaseq_gml_subT.boxplot(column=['logFC.dis4', 'logFC.dis12', 'logFC.dis14', 'logFC.dis15'])"
   ]
  },
  {
   "cell_type": "code",
   "execution_count": 86,
   "id": "e76d083f",
   "metadata": {},
   "outputs": [
    {
     "data": {
      "text/plain": [
       "<AxesSubplot: >"
      ]
     },
     "execution_count": 86,
     "metadata": {},
     "output_type": "execute_result"
    },
    {
     "data": {
      "image/png": "[encoded data removed]",
      "text/plain": [
       "<Figure size 640x480 with 1 Axes>"
      ]
     },
     "metadata": {},
     "output_type": "display_data"
    }
   ],
   "source": [
    "rnaseq_gml_notsubT.boxplot(column=['logFC.dis4', 'logFC.dis12', 'logFC.dis14', 'logFC.dis15'])  "
   ]
  },
  {
   "cell_type": "code",
   "execution_count": 142,
   "id": "1ba3c61c",
   "metadata": {},
   "outputs": [
    {
     "name": "stdout",
     "output_type": "stream",
     "text": [
      "Dis4: RanksumsResult(statistic=-3.9353699178971, pvalue=8.306864819625006e-05)\n",
      "Dis12: RanksumsResult(statistic=-8.573330377462394, pvalue=1.0053456248289543e-17)\n",
      "Dis14: RanksumsResult(statistic=-4.545552567657182, pvalue=5.4791319812013665e-06)\n",
      "Dis15: RanksumsResult(statistic=-6.881240179516594, pvalue=5.9333714423214595e-12)\n"
     ]
    }
   ],
   "source": [
    "print('Dis4: ' + str(ranksums(rnaseq_gml_notsubT['logFC.dis4'], rnaseq_gml_subT['logFC.dis4'])))\n",
    "print('Dis12: ' + str(ranksums(rnaseq_gml_notsubT['logFC.dis12'], rnaseq_gml_subT['logFC.dis12'])))\n",
    "print('Dis14: ' + str(ranksums(rnaseq_gml_notsubT['logFC.dis14'], rnaseq_gml_subT['logFC.dis14'])))\n",
    "print('Dis15: ' + str(ranksums(rnaseq_gml_notsubT['logFC.dis15'], rnaseq_gml_subT['logFC.dis15'])))"
   ]
  },
  {
   "cell_type": "code",
   "execution_count": 144,
   "id": "52ae26ef",
   "metadata": {},
   "outputs": [
    {
     "data": {
      "text/plain": [
       "(184, 5)"
      ]
     },
     "execution_count": 144,
     "metadata": {},
     "output_type": "execute_result"
    }
   ],
   "source": [
    "rnaseq_gml_subT.shape"
   ]
  },
  {
   "cell_type": "markdown",
   "id": "fe2ffd58",
   "metadata": {},
   "source": [
    "# checking enrichment for sir1,2,3 regulated genes\n",
    "\n",
    "from Ellahi aper"
   ]
  },
  {
   "cell_type": "code",
   "execution_count": 99,
   "id": "091109da",
   "metadata": {},
   "outputs": [],
   "source": [
    "sir_genes = []\n",
    "with open('sir_silenced_genes_Ellahi2015.txt', 'r') as file:\n",
    "    for line in file:\n",
    "        sir_genes.append(line.strip())"
   ]
  },
  {
   "cell_type": "code",
   "execution_count": 101,
   "id": "e947d2c4",
   "metadata": {},
   "outputs": [],
   "source": [
    "rnaseq_gml_sir = rnaseq_gml[rnaseq_gml.index.isin(sir_genes)]\n",
    "# ~ revert the command!\n",
    "rnaseq_gml_notsir = rnaseq_gml[~rnaseq_gml.index.isin(sir_genes)]"
   ]
  },
  {
   "cell_type": "code",
   "execution_count": 103,
   "id": "5d819c7f",
   "metadata": {},
   "outputs": [
    {
     "data": {
      "text/plain": [
       "<AxesSubplot: >"
      ]
     },
     "execution_count": 103,
     "metadata": {},
     "output_type": "execute_result"
    },
    {
     "data": {
      "image/png": "[encoded data removed]",
      "text/plain": [
       "<Figure size 640x480 with 1 Axes>"
      ]
     },
     "metadata": {},
     "output_type": "display_data"
    }
   ],
   "source": [
    "rnaseq_gml_subT.boxplot(column=['logFC.dis4', 'logFC.dis12', 'logFC.dis14', 'logFC.dis15'])  "
   ]
  },
  {
   "cell_type": "code",
   "execution_count": 102,
   "id": "8f7607cb",
   "metadata": {},
   "outputs": [
    {
     "data": {
      "text/plain": [
       "<AxesSubplot: >"
      ]
     },
     "execution_count": 102,
     "metadata": {},
     "output_type": "execute_result"
    },
    {
     "data": {
      "image/png": "[encoded data removed]",
      "text/plain": [
       "<Figure size 640x480 with 1 Axes>"
      ]
     },
     "metadata": {},
     "output_type": "display_data"
    }
   ],
   "source": [
    "rnaseq_gml_sir.boxplot(column=['logFC.dis4', 'logFC.dis12', 'logFC.dis14', 'logFC.dis15'])  "
   ]
  },
  {
   "cell_type": "code",
   "execution_count": 148,
   "id": "e9c4c1ed",
   "metadata": {},
   "outputs": [
    {
     "name": "stdout",
     "output_type": "stream",
     "text": [
      "Dis4: RanksumsResult(statistic=-3.0693846078155596, pvalue=0.0021450025119619394)\n",
      "Dis12: RanksumsResult(statistic=0.3004301044759503, pvalue=0.763849103584157)\n",
      "Dis14: RanksumsResult(statistic=2.4929041361691042, pvalue=0.012670304939286505)\n",
      "Dis15: RanksumsResult(statistic=-7.00203078670347, pvalue=2.5227862375236835e-12)\n"
     ]
    }
   ],
   "source": [
    "print('Dis4: '+ str(ranksums(rnaseq_gml_notsir['logFC.dis4'], rnaseq_gml_sir['logFC.dis4'])))\n",
    "print('Dis12: '+ str(ranksums(rnaseq_gml_notsir['logFC.dis12'], rnaseq_gml_sir['logFC.dis12'])))\n",
    "print('Dis14: ' + str(ranksums(rnaseq_gml_notsir['logFC.dis14'], rnaseq_gml_sir['logFC.dis14'])))\n",
    "print('Dis15: ' + str(ranksums(rnaseq_gml_notsir['logFC.dis15'], rnaseq_gml_sir['logFC.dis15'])))"
   ]
  },
  {
   "cell_type": "code",
   "execution_count": 145,
   "id": "20a65a0d",
   "metadata": {},
   "outputs": [
    {
     "data": {
      "text/plain": [
       "(95, 5)"
      ]
     },
     "execution_count": 145,
     "metadata": {},
     "output_type": "execute_result"
    }
   ],
   "source": [
    "rnaseq_gml_sir.shape"
   ]
  },
  {
   "cell_type": "markdown",
   "id": "6c6212bf",
   "metadata": {},
   "source": [
    "### is subtelomeric sir-silenced genes more prone to being expressed in disomes\n",
    "the genes in sir list are not all located around telomere"
   ]
  },
  {
   "cell_type": "code",
   "execution_count": 117,
   "id": "4342ec90",
   "metadata": {},
   "outputs": [],
   "source": [
    "sir_subT_genes = set(subT_genes['Name']) & set(sir_genes)"
   ]
  },
  {
   "cell_type": "code",
   "execution_count": 119,
   "id": "77a6e864",
   "metadata": {},
   "outputs": [
    {
     "data": {
      "text/plain": [
       "27"
      ]
     },
     "execution_count": 119,
     "metadata": {},
     "output_type": "execute_result"
    }
   ],
   "source": [
    "len(sir_subT_genes)"
   ]
  },
  {
   "cell_type": "code",
   "execution_count": 120,
   "id": "7d29ce7b",
   "metadata": {},
   "outputs": [],
   "source": [
    "sir_subT_gml = rnaseq_gml[rnaseq_gml.index.isin(sir_subT_genes)]\n",
    "# ~ revert the command!\n",
    "not_sir_subT_gml = rnaseq_gml[~rnaseq_gml.index.isin(sir_subT_genes)]"
   ]
  },
  {
   "cell_type": "code",
   "execution_count": 121,
   "id": "061bbc34",
   "metadata": {},
   "outputs": [
    {
     "data": {
      "text/plain": [
       "<AxesSubplot: >"
      ]
     },
     "execution_count": 121,
     "metadata": {},
     "output_type": "execute_result"
    },
    {
     "data": {
      "image/png": "[encoded data removed]",
      "text/plain": [
       "<Figure size 640x480 with 1 Axes>"
      ]
     },
     "metadata": {},
     "output_type": "display_data"
    }
   ],
   "source": [
    "sir_subT_gml.boxplot(column=['logFC.dis4', 'logFC.dis12', 'logFC.dis14', 'logFC.dis15'])  "
   ]
  },
  {
   "cell_type": "code",
   "execution_count": 147,
   "id": "fd1c98f3",
   "metadata": {},
   "outputs": [
    {
     "name": "stdout",
     "output_type": "stream",
     "text": [
      "Dis4: RanksumsResult(statistic=-0.8852112300001552, pvalue=0.3760427166228999)\n",
      "Dis12: RanksumsResult(statistic=4.409209939995129, pvalue=1.037484136461614e-05)\n",
      "Dis14: RanksumsResult(statistic=-0.07616485625434768, pvalue=0.939287942090324)\n",
      "Dis15: RanksumsResult(statistic=3.9936938872710814, pvalue=6.505183751141818e-05)\n"
     ]
    }
   ],
   "source": [
    "print('Dis4: ' + str(ranksums(sir_subT_gml['logFC.dis4'], not_sir_subT_gml['logFC.dis4'])))\n",
    "print('Dis12: ' + str(ranksums(sir_subT_gml['logFC.dis12'], not_sir_subT_gml['logFC.dis12'])))\n",
    "print('Dis14: ' + str(ranksums(sir_subT_gml['logFC.dis14'], not_sir_subT_gml['logFC.dis14'])))\n",
    "print('Dis15: ' + str(ranksums(sir_subT_gml['logFC.dis15'], not_sir_subT_gml['logFC.dis15'])))"
   ]
  },
  {
   "cell_type": "markdown",
   "id": "c2dc2dbf",
   "metadata": {},
   "source": [
    "# Sub-telomeric genes minus the sir regulated genes.\n",
    "If remaining genes are still significant, meaning there is another meachanism at play in disome telomeric derepression.\n",
    "Else, it means Sir-dependent genes are te one driving the apparent derepression on subtelomeric silencing. "
   ]
  },
  {
   "cell_type": "code",
   "execution_count": 128,
   "id": "d0e10f8a",
   "metadata": {},
   "outputs": [],
   "source": [
    "subT_wo_sir_genes = set(subT_genes['Name']) - set(sir_genes)"
   ]
  },
  {
   "cell_type": "code",
   "execution_count": 132,
   "id": "23e15f36",
   "metadata": {},
   "outputs": [],
   "source": [
    "subT_wo_sir_gml = rnaseq_gml[rnaseq_gml.index.isin(subT_wo_sir_genes)]\n",
    "# ~ revert the command!\n",
    "not_subT_wo_sir_gml = rnaseq_gml[~rnaseq_gml.index.isin(subT_wo_sir_genes)]"
   ]
  },
  {
   "cell_type": "code",
   "execution_count": 134,
   "id": "8f912858",
   "metadata": {},
   "outputs": [
    {
     "data": {
      "text/plain": [
       "<AxesSubplot: >"
      ]
     },
     "execution_count": 134,
     "metadata": {},
     "output_type": "execute_result"
    },
    {
     "data": {
      "image/png": "[encoded data removed]",
      "text/plain": [
       "<Figure size 640x480 with 1 Axes>"
      ]
     },
     "metadata": {},
     "output_type": "display_data"
    }
   ],
   "source": [
    "subT_wo_sir_gml.boxplot(column=['logFC.dis4', 'logFC.dis12', 'logFC.dis14', 'logFC.dis15'])  "
   ]
  },
  {
   "cell_type": "code",
   "execution_count": 149,
   "id": "6390b88d",
   "metadata": {},
   "outputs": [
    {
     "name": "stdout",
     "output_type": "stream",
     "text": [
      "Dis4: RanksumsResult(statistic=4.410790018468721, pvalue=1.029941584089349e-05)\n",
      "Dis12: RanksumsResult(statistic=7.5606654749288165, pvalue=4.010123658288616e-14)\n",
      "Dis14: RanksumsResult(statistic=4.788835981418116, pvalue=1.6775151741678656e-06)\n",
      "Dis15: RanksumsResult(statistic=5.921474237189793, pvalue=3.190682958065641e-09)\n"
     ]
    }
   ],
   "source": [
    "print('Dis4: ' + str(ranksums(subT_wo_sir_gml['logFC.dis4'], not_subT_wo_sir_gml['logFC.dis4'])))\n",
    "print('Dis12: ' + str(ranksums(subT_wo_sir_gml['logFC.dis12'], not_subT_wo_sir_gml['logFC.dis12'])))\n",
    "print('Dis14: ' + str(ranksums(subT_wo_sir_gml['logFC.dis14'], not_subT_wo_sir_gml['logFC.dis14'])))\n",
    "print('Dis15: ' + str(ranksums(subT_wo_sir_gml['logFC.dis15'], not_subT_wo_sir_gml['logFC.dis15'])))"
   ]
  },
  {
   "cell_type": "markdown",
   "id": "2de4d567",
   "metadata": {},
   "source": [
    "So not only driven by sir genes. That's cool.\n",
    "Considering that sir-controlled genes are not significant for disome 12 and 14, Sir proteins are probably not the main player in what we observed."
   ]
  },
  {
   "cell_type": "markdown",
   "id": "97bc80fa",
   "metadata": {},
   "source": [
    "### sanity check\n",
    "testing on random selection of the same size as subtelomeric genes population"
   ]
  },
  {
   "cell_type": "code",
   "execution_count": 109,
   "id": "1e4a663c",
   "metadata": {},
   "outputs": [],
   "source": [
    "random_glm = rnaseq_gml.sample(n = 184)"
   ]
  },
  {
   "cell_type": "code",
   "execution_count": 110,
   "id": "458110c8",
   "metadata": {},
   "outputs": [
    {
     "data": {
      "text/plain": [
       "RanksumsResult(statistic=0.567098010957871, pvalue=0.570647594197198)"
      ]
     },
     "execution_count": 110,
     "metadata": {},
     "output_type": "execute_result"
    }
   ],
   "source": [
    "ranksums(random_glm['logFC.dis4'], rnaseq_gml['logFC.dis4'])"
   ]
  },
  {
   "cell_type": "code",
   "execution_count": 111,
   "id": "2285c312",
   "metadata": {},
   "outputs": [
    {
     "data": {
      "text/plain": [
       "RanksumsResult(statistic=1.2318273423876465, pvalue=0.21801358723530184)"
      ]
     },
     "execution_count": 111,
     "metadata": {},
     "output_type": "execute_result"
    }
   ],
   "source": [
    "ranksums(random_glm['logFC.dis15'], rnaseq_gml['logFC.dis15'])"
   ]
  },
  {
   "cell_type": "code",
   "execution_count": null,
   "id": "95c4c169",
   "metadata": {},
   "outputs": [],
   "source": []
  }
 ],
 "metadata": {
  "kernelspec": {
   "display_name": "Python 3 (ipykernel)",
   "language": "python",
   "name": "python3"
  },
  "language_info": {
   "codemirror_mode": {
    "name": "ipython",
    "version": 3
   },
   "file_extension": ".py",
   "mimetype": "text/x-python",
   "name": "python",
   "nbconvert_exporter": "python",
   "pygments_lexer": "ipython3",
   "version": "3.8.3"
  }
 },
 "nbformat": 4,
 "nbformat_minor": 5
}
