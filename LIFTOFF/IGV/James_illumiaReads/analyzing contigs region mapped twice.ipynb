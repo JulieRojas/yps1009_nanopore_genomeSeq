{
 "cells": [
  {
   "cell_type": "code",
   "execution_count": 1,
   "id": "1ec3e84c",
   "metadata": {},
   "outputs": [],
   "source": [
    "import gffpandas.gffpandas as gffpd\n",
    "import pandas as pd\n",
    "# Import Biopython tools for running local BLASTX\n",
    "from Bio.Blast.Applications import NcbiblastnCommandline\n",
    "from Bio import SeqIO"
   ]
  },
  {
   "cell_type": "code",
   "execution_count": 2,
   "id": "95aa9c68",
   "metadata": {},
   "outputs": [
    {
     "name": "stderr",
     "output_type": "stream",
     "text": [
      "C:\\Users\\user\\anaconda3\\lib\\site-packages\\gffpandas\\gffpandas.py:32: DtypeWarning: Columns (1,2,5,6,7,8) have mixed types. Specify dtype option on import or set low_memory=False.\n",
      "  self.df = pd.read_table(self._gff_file, comment='#',\n"
     ]
    }
   ],
   "source": [
    "annot_s288c = gffpd.read_gff3('saccharomyces_cerevisiae_R64-3.gff')"
   ]
  },
  {
   "cell_type": "code",
   "execution_count": 3,
   "id": "bb8a64cb",
   "metadata": {},
   "outputs": [
    {
     "data": {
      "text/plain": [
       "<gffpandas.gffpandas.Gff3DataFrame at 0x216f4766a40>"
      ]
     },
     "execution_count": 3,
     "metadata": {},
     "output_type": "execute_result"
    }
   ],
   "source": [
    "annot_s288c"
   ]
  },
  {
   "cell_type": "code",
   "execution_count": 6,
   "id": "8515df9b",
   "metadata": {},
   "outputs": [],
   "source": [
    "s288c_df = annot_s288c.filter_feature_of_type(['gene'])\n",
    "s288c_attr = s288c_df.attributes_to_columns()"
   ]
  },
  {
   "cell_type": "code",
   "execution_count": 7,
   "id": "8ee2bc3b",
   "metadata": {},
   "outputs": [
    {
     "data": {
      "text/html": [
       "<div>\n",
       "<style scoped>\n",
       "    .dataframe tbody tr th:only-of-type {\n",
       "        vertical-align: middle;\n",
       "    }\n",
       "\n",
       "    .dataframe tbody tr th {\n",
       "        vertical-align: top;\n",
       "    }\n",
       "\n",
       "    .dataframe thead th {\n",
       "        text-align: right;\n",
       "    }\n",
       "</style>\n",
       "<table border=\"1\" class=\"dataframe\">\n",
       "  <thead>\n",
       "    <tr style=\"text-align: right;\">\n",
       "      <th></th>\n",
       "      <th>seq_id</th>\n",
       "      <th>source</th>\n",
       "      <th>type</th>\n",
       "      <th>start</th>\n",
       "      <th>end</th>\n",
       "      <th>score</th>\n",
       "      <th>strand</th>\n",
       "      <th>phase</th>\n",
       "      <th>attributes</th>\n",
       "      <th>Alias</th>\n",
       "      <th>ID</th>\n",
       "      <th>Name</th>\n",
       "      <th>Note</th>\n",
       "      <th>Ontology_term</th>\n",
       "      <th>curie</th>\n",
       "      <th>dbxref</th>\n",
       "      <th>display</th>\n",
       "      <th>gene</th>\n",
       "      <th>orf_classification</th>\n",
       "    </tr>\n",
       "  </thead>\n",
       "  <tbody>\n",
       "    <tr>\n",
       "      <th>6</th>\n",
       "      <td>chrI</td>\n",
       "      <td>SGD</td>\n",
       "      <td>gene</td>\n",
       "      <td>335.0</td>\n",
       "      <td>649.0</td>\n",
       "      <td>.</td>\n",
       "      <td>+</td>\n",
       "      <td>.</td>\n",
       "      <td>ID=YAL069W;Name=YAL069W;Ontology_term=GO:00036...</td>\n",
       "      <td>None</td>\n",
       "      <td>YAL069W</td>\n",
       "      <td>YAL069W</td>\n",
       "      <td>Dubious%20open%20reading%20frame%3B%20unlikely...</td>\n",
       "      <td>GO:0003674,GO:0005575,GO:0008150,SO:0000704</td>\n",
       "      <td>SGD:S000002143</td>\n",
       "      <td>SGD:S000002143</td>\n",
       "      <td>Dubious%20open%20reading%20frame</td>\n",
       "      <td>None</td>\n",
       "      <td>Dubious</td>\n",
       "    </tr>\n",
       "    <tr>\n",
       "      <th>9</th>\n",
       "      <td>chrI</td>\n",
       "      <td>SGD</td>\n",
       "      <td>gene</td>\n",
       "      <td>538.0</td>\n",
       "      <td>792.0</td>\n",
       "      <td>.</td>\n",
       "      <td>+</td>\n",
       "      <td>.</td>\n",
       "      <td>ID=YAL068W-A;Name=YAL068W-A;Ontology_term=GO:0...</td>\n",
       "      <td>None</td>\n",
       "      <td>YAL068W-A</td>\n",
       "      <td>YAL068W-A</td>\n",
       "      <td>Dubious%20open%20reading%20frame%3B%20unlikely...</td>\n",
       "      <td>GO:0003674,GO:0005575,GO:0008150,SO:0000704</td>\n",
       "      <td>SGD:S000028594</td>\n",
       "      <td>SGD:S000028594</td>\n",
       "      <td>Dubious%20open%20reading%20frame</td>\n",
       "      <td>None</td>\n",
       "      <td>Dubious</td>\n",
       "    </tr>\n",
       "    <tr>\n",
       "      <th>13</th>\n",
       "      <td>chrI</td>\n",
       "      <td>SGD</td>\n",
       "      <td>gene</td>\n",
       "      <td>1807.0</td>\n",
       "      <td>2169.0</td>\n",
       "      <td>.</td>\n",
       "      <td>-</td>\n",
       "      <td>.</td>\n",
       "      <td>ID=YAL068C;Name=YAL068C;gene=PAU8;Alias=PAU8,s...</td>\n",
       "      <td>PAU8,seripauperin%20PAU8</td>\n",
       "      <td>YAL068C</td>\n",
       "      <td>YAL068C</td>\n",
       "      <td>Protein%20of%20unknown%20function%3B%20member%...</td>\n",
       "      <td>GO:0003674,GO:0005575,GO:0030437,GO:0045944,SO...</td>\n",
       "      <td>SGD:S000002142</td>\n",
       "      <td>SGD:S000002142</td>\n",
       "      <td>Protein%20of%20unknown%20function</td>\n",
       "      <td>PAU8</td>\n",
       "      <td>Verified</td>\n",
       "    </tr>\n",
       "    <tr>\n",
       "      <th>16</th>\n",
       "      <td>chrI</td>\n",
       "      <td>SGD</td>\n",
       "      <td>gene</td>\n",
       "      <td>2480.0</td>\n",
       "      <td>2707.0</td>\n",
       "      <td>.</td>\n",
       "      <td>+</td>\n",
       "      <td>.</td>\n",
       "      <td>ID=YAL067W-A;Name=YAL067W-A;Ontology_term=GO:0...</td>\n",
       "      <td>None</td>\n",
       "      <td>YAL067W-A</td>\n",
       "      <td>YAL067W-A</td>\n",
       "      <td>Putative%20protein%20of%20unknown%20function%3...</td>\n",
       "      <td>GO:0003674,GO:0005575,GO:0008150,SO:0000704</td>\n",
       "      <td>SGD:S000028593</td>\n",
       "      <td>SGD:S000028593</td>\n",
       "      <td>Putative%20protein%20of%20unknown%20function</td>\n",
       "      <td>None</td>\n",
       "      <td>Uncharacterized</td>\n",
       "    </tr>\n",
       "    <tr>\n",
       "      <th>19</th>\n",
       "      <td>chrI</td>\n",
       "      <td>SGD</td>\n",
       "      <td>gene</td>\n",
       "      <td>7235.0</td>\n",
       "      <td>9016.0</td>\n",
       "      <td>.</td>\n",
       "      <td>-</td>\n",
       "      <td>.</td>\n",
       "      <td>ID=YAL067C;Name=YAL067C;gene=SEO1;Alias=SEO1,p...</td>\n",
       "      <td>SEO1,putative%20permease%20SEO1</td>\n",
       "      <td>YAL067C</td>\n",
       "      <td>YAL067C</td>\n",
       "      <td>Putative%20permease%3B%20member%20of%20the%20a...</td>\n",
       "      <td>GO:0015124,GO:0016020,GO:0055085,GO:0055085,GO...</td>\n",
       "      <td>SGD:S000000062</td>\n",
       "      <td>SGD:S000000062</td>\n",
       "      <td>Putative%20permease</td>\n",
       "      <td>SEO1</td>\n",
       "      <td>Verified</td>\n",
       "    </tr>\n",
       "    <tr>\n",
       "      <th>...</th>\n",
       "      <td>...</td>\n",
       "      <td>...</td>\n",
       "      <td>...</td>\n",
       "      <td>...</td>\n",
       "      <td>...</td>\n",
       "      <td>...</td>\n",
       "      <td>...</td>\n",
       "      <td>...</td>\n",
       "      <td>...</td>\n",
       "      <td>...</td>\n",
       "      <td>...</td>\n",
       "      <td>...</td>\n",
       "      <td>...</td>\n",
       "      <td>...</td>\n",
       "      <td>...</td>\n",
       "      <td>...</td>\n",
       "      <td>...</td>\n",
       "      <td>...</td>\n",
       "      <td>...</td>\n",
       "    </tr>\n",
       "    <tr>\n",
       "      <th>28311</th>\n",
       "      <td>chrMito</td>\n",
       "      <td>SGD</td>\n",
       "      <td>gene</td>\n",
       "      <td>65770.0</td>\n",
       "      <td>66174.0</td>\n",
       "      <td>.</td>\n",
       "      <td>+</td>\n",
       "      <td>.</td>\n",
       "      <td>ID=Q0182;Name=Q0182;Alias=ORF11;Ontology_term=...</td>\n",
       "      <td>ORF11</td>\n",
       "      <td>Q0182</td>\n",
       "      <td>Q0182</td>\n",
       "      <td>Dubious%20open%20reading%20frame%3B%20unlikely...</td>\n",
       "      <td>GO:0003674,GO:0005575,GO:0008150,SO:0000704</td>\n",
       "      <td>SGD:S000007280</td>\n",
       "      <td>SGD:S000007280</td>\n",
       "      <td>Dubious%20open%20reading%20frame</td>\n",
       "      <td>None</td>\n",
       "      <td>Dubious</td>\n",
       "    </tr>\n",
       "    <tr>\n",
       "      <th>28354</th>\n",
       "      <td>chrMito</td>\n",
       "      <td>SGD</td>\n",
       "      <td>gene</td>\n",
       "      <td>73758.0</td>\n",
       "      <td>74513.0</td>\n",
       "      <td>.</td>\n",
       "      <td>+</td>\n",
       "      <td>.</td>\n",
       "      <td>ID=Q0250;Name=Q0250;gene=COX2;Alias=COX2,OXI1,...</td>\n",
       "      <td>COX2,OXI1,OXII,cytochrome%20c%20oxidase%20subu...</td>\n",
       "      <td>Q0250</td>\n",
       "      <td>Q0250</td>\n",
       "      <td>Subunit%20II%20of%20cytochrome%20c%20oxidase%2...</td>\n",
       "      <td>GO:0004129,GO:0004129,GO:0005739,GO:0005739,GO...</td>\n",
       "      <td>SGD:S000007281</td>\n",
       "      <td>SGD:S000007281</td>\n",
       "      <td>Subunit%20II%20of%20cytochrome%20c%20oxidase%2...</td>\n",
       "      <td>COX2</td>\n",
       "      <td>Verified</td>\n",
       "    </tr>\n",
       "    <tr>\n",
       "      <th>28357</th>\n",
       "      <td>chrMito</td>\n",
       "      <td>SGD</td>\n",
       "      <td>gene</td>\n",
       "      <td>74495.0</td>\n",
       "      <td>75984.0</td>\n",
       "      <td>.</td>\n",
       "      <td>+</td>\n",
       "      <td>.</td>\n",
       "      <td>ID=Q0255;Name=Q0255;Alias=ORF1,RF1,maturase-li...</td>\n",
       "      <td>ORF1,RF1,maturase-like%20protein</td>\n",
       "      <td>Q0255</td>\n",
       "      <td>Q0255</td>\n",
       "      <td>Maturase-like%20protein</td>\n",
       "      <td>GO:0003674,GO:0005739,GO:0008150,SO:0000704</td>\n",
       "      <td>SGD:S000007282</td>\n",
       "      <td>SGD:S000007282</td>\n",
       "      <td>Maturase-like%20protein</td>\n",
       "      <td>None</td>\n",
       "      <td>Uncharacterized</td>\n",
       "    </tr>\n",
       "    <tr>\n",
       "      <th>28373</th>\n",
       "      <td>chrMito</td>\n",
       "      <td>SGD</td>\n",
       "      <td>gene</td>\n",
       "      <td>79213.0</td>\n",
       "      <td>80022.0</td>\n",
       "      <td>.</td>\n",
       "      <td>+</td>\n",
       "      <td>.</td>\n",
       "      <td>ID=Q0275;Name=Q0275;gene=COX3;Alias=COX3,OXI2,...</td>\n",
       "      <td>COX3,OXI2,cytochrome%20c%20oxidase%20subunit%203</td>\n",
       "      <td>Q0275</td>\n",
       "      <td>Q0275</td>\n",
       "      <td>Subunit%20III%20of%20cytochrome%20c%20oxidase%...</td>\n",
       "      <td>GO:0004129,GO:0004129,GO:0005739,GO:0005739,GO...</td>\n",
       "      <td>SGD:S000007283</td>\n",
       "      <td>SGD:S000007283</td>\n",
       "      <td>Subunit%20III%20of%20cytochrome%20c%20oxidase%...</td>\n",
       "      <td>COX3</td>\n",
       "      <td>Verified</td>\n",
       "    </tr>\n",
       "    <tr>\n",
       "      <th>28383</th>\n",
       "      <td>chrMito</td>\n",
       "      <td>SGD</td>\n",
       "      <td>gene</td>\n",
       "      <td>85554.0</td>\n",
       "      <td>85709.0</td>\n",
       "      <td>.</td>\n",
       "      <td>+</td>\n",
       "      <td>.</td>\n",
       "      <td>ID=Q0297;Name=Q0297;Alias=ORF12;Ontology_term=...</td>\n",
       "      <td>ORF12</td>\n",
       "      <td>Q0297</td>\n",
       "      <td>Q0297</td>\n",
       "      <td>Dubious%20open%20reading%20frame%3B%20unlikely...</td>\n",
       "      <td>GO:0003674,GO:0005575,GO:0008150,SO:0000704</td>\n",
       "      <td>SGD:S000007284</td>\n",
       "      <td>SGD:S000007284</td>\n",
       "      <td>Dubious%20open%20reading%20frame</td>\n",
       "      <td>None</td>\n",
       "      <td>Dubious</td>\n",
       "    </tr>\n",
       "  </tbody>\n",
       "</table>\n",
       "<p>6607 rows × 19 columns</p>\n",
       "</div>"
      ],
      "text/plain": [
       "        seq_id source  type    start      end score strand phase  \\\n",
       "6         chrI    SGD  gene    335.0    649.0     .      +     .   \n",
       "9         chrI    SGD  gene    538.0    792.0     .      +     .   \n",
       "13        chrI    SGD  gene   1807.0   2169.0     .      -     .   \n",
       "16        chrI    SGD  gene   2480.0   2707.0     .      +     .   \n",
       "19        chrI    SGD  gene   7235.0   9016.0     .      -     .   \n",
       "...        ...    ...   ...      ...      ...   ...    ...   ...   \n",
       "28311  chrMito    SGD  gene  65770.0  66174.0     .      +     .   \n",
       "28354  chrMito    SGD  gene  73758.0  74513.0     .      +     .   \n",
       "28357  chrMito    SGD  gene  74495.0  75984.0     .      +     .   \n",
       "28373  chrMito    SGD  gene  79213.0  80022.0     .      +     .   \n",
       "28383  chrMito    SGD  gene  85554.0  85709.0     .      +     .   \n",
       "\n",
       "                                              attributes  \\\n",
       "6      ID=YAL069W;Name=YAL069W;Ontology_term=GO:00036...   \n",
       "9      ID=YAL068W-A;Name=YAL068W-A;Ontology_term=GO:0...   \n",
       "13     ID=YAL068C;Name=YAL068C;gene=PAU8;Alias=PAU8,s...   \n",
       "16     ID=YAL067W-A;Name=YAL067W-A;Ontology_term=GO:0...   \n",
       "19     ID=YAL067C;Name=YAL067C;gene=SEO1;Alias=SEO1,p...   \n",
       "...                                                  ...   \n",
       "28311  ID=Q0182;Name=Q0182;Alias=ORF11;Ontology_term=...   \n",
       "28354  ID=Q0250;Name=Q0250;gene=COX2;Alias=COX2,OXI1,...   \n",
       "28357  ID=Q0255;Name=Q0255;Alias=ORF1,RF1,maturase-li...   \n",
       "28373  ID=Q0275;Name=Q0275;gene=COX3;Alias=COX3,OXI2,...   \n",
       "28383  ID=Q0297;Name=Q0297;Alias=ORF12;Ontology_term=...   \n",
       "\n",
       "                                                   Alias         ID  \\\n",
       "6                                                   None    YAL069W   \n",
       "9                                                   None  YAL068W-A   \n",
       "13                              PAU8,seripauperin%20PAU8    YAL068C   \n",
       "16                                                  None  YAL067W-A   \n",
       "19                       SEO1,putative%20permease%20SEO1    YAL067C   \n",
       "...                                                  ...        ...   \n",
       "28311                                              ORF11      Q0182   \n",
       "28354  COX2,OXI1,OXII,cytochrome%20c%20oxidase%20subu...      Q0250   \n",
       "28357                   ORF1,RF1,maturase-like%20protein      Q0255   \n",
       "28373   COX3,OXI2,cytochrome%20c%20oxidase%20subunit%203      Q0275   \n",
       "28383                                              ORF12      Q0297   \n",
       "\n",
       "            Name                                               Note  \\\n",
       "6        YAL069W  Dubious%20open%20reading%20frame%3B%20unlikely...   \n",
       "9      YAL068W-A  Dubious%20open%20reading%20frame%3B%20unlikely...   \n",
       "13       YAL068C  Protein%20of%20unknown%20function%3B%20member%...   \n",
       "16     YAL067W-A  Putative%20protein%20of%20unknown%20function%3...   \n",
       "19       YAL067C  Putative%20permease%3B%20member%20of%20the%20a...   \n",
       "...          ...                                                ...   \n",
       "28311      Q0182  Dubious%20open%20reading%20frame%3B%20unlikely...   \n",
       "28354      Q0250  Subunit%20II%20of%20cytochrome%20c%20oxidase%2...   \n",
       "28357      Q0255                            Maturase-like%20protein   \n",
       "28373      Q0275  Subunit%20III%20of%20cytochrome%20c%20oxidase%...   \n",
       "28383      Q0297  Dubious%20open%20reading%20frame%3B%20unlikely...   \n",
       "\n",
       "                                           Ontology_term           curie  \\\n",
       "6            GO:0003674,GO:0005575,GO:0008150,SO:0000704  SGD:S000002143   \n",
       "9            GO:0003674,GO:0005575,GO:0008150,SO:0000704  SGD:S000028594   \n",
       "13     GO:0003674,GO:0005575,GO:0030437,GO:0045944,SO...  SGD:S000002142   \n",
       "16           GO:0003674,GO:0005575,GO:0008150,SO:0000704  SGD:S000028593   \n",
       "19     GO:0015124,GO:0016020,GO:0055085,GO:0055085,GO...  SGD:S000000062   \n",
       "...                                                  ...             ...   \n",
       "28311        GO:0003674,GO:0005575,GO:0008150,SO:0000704  SGD:S000007280   \n",
       "28354  GO:0004129,GO:0004129,GO:0005739,GO:0005739,GO...  SGD:S000007281   \n",
       "28357        GO:0003674,GO:0005739,GO:0008150,SO:0000704  SGD:S000007282   \n",
       "28373  GO:0004129,GO:0004129,GO:0005739,GO:0005739,GO...  SGD:S000007283   \n",
       "28383        GO:0003674,GO:0005575,GO:0008150,SO:0000704  SGD:S000007284   \n",
       "\n",
       "               dbxref                                            display  \\\n",
       "6      SGD:S000002143                   Dubious%20open%20reading%20frame   \n",
       "9      SGD:S000028594                   Dubious%20open%20reading%20frame   \n",
       "13     SGD:S000002142                  Protein%20of%20unknown%20function   \n",
       "16     SGD:S000028593       Putative%20protein%20of%20unknown%20function   \n",
       "19     SGD:S000000062                                Putative%20permease   \n",
       "...               ...                                                ...   \n",
       "28311  SGD:S000007280                   Dubious%20open%20reading%20frame   \n",
       "28354  SGD:S000007281  Subunit%20II%20of%20cytochrome%20c%20oxidase%2...   \n",
       "28357  SGD:S000007282                            Maturase-like%20protein   \n",
       "28373  SGD:S000007283  Subunit%20III%20of%20cytochrome%20c%20oxidase%...   \n",
       "28383  SGD:S000007284                   Dubious%20open%20reading%20frame   \n",
       "\n",
       "       gene orf_classification  \n",
       "6      None            Dubious  \n",
       "9      None            Dubious  \n",
       "13     PAU8           Verified  \n",
       "16     None    Uncharacterized  \n",
       "19     SEO1           Verified  \n",
       "...     ...                ...  \n",
       "28311  None            Dubious  \n",
       "28354  COX2           Verified  \n",
       "28357  None    Uncharacterized  \n",
       "28373  COX3           Verified  \n",
       "28383  None            Dubious  \n",
       "\n",
       "[6607 rows x 19 columns]"
      ]
     },
     "execution_count": 7,
     "metadata": {},
     "output_type": "execute_result"
    }
   ],
   "source": [
    "s288c_attr"
   ]
  },
  {
   "cell_type": "markdown",
   "id": "b888e0e8",
   "metadata": {},
   "source": [
    "# Prep the illumina rpkm file"
   ]
  },
  {
   "cell_type": "code",
   "execution_count": 14,
   "id": "b52ff646",
   "metadata": {},
   "outputs": [],
   "source": [
    "rpkm = pd.read_csv('James_220427_KC5T7-RPKM.results', sep = '\\t', index_col=0)\n",
    "samples = pd.read_csv('YPS1009-Disomes_GenomicSeq.txt', sep = '\\t')\n",
    "dic = {}\n",
    "for ind, row in samples.iterrows():\n",
    "    code = row['Next-Gen Gasch #'].replace(' ', '-')\n",
    "    dic[code] = row['Strain']"
   ]
  },
  {
   "cell_type": "code",
   "execution_count": 15,
   "id": "16027711",
   "metadata": {},
   "outputs": [],
   "source": [
    "for c in list(rpkm.columns):\n",
    "    cs, t = c.split('_')\n",
    "    rpkm = rpkm.rename(columns={c: dic[cs]})"
   ]
  },
  {
   "cell_type": "code",
   "execution_count": 17,
   "id": "7f6b7cfe",
   "metadata": {},
   "outputs": [
    {
     "data": {
      "text/plain": [
       "Index(['Dis16 wild-type', 'Dis13 wild-type', 'Dis13 ssd1-', 'Dis1 wild-type',\n",
       "       'Dis4 ssd1-/ssd1-', 'Dis3 wild-type', 'Dis14 ssd1-', 'Dis5 wild-type',\n",
       "       'Dis1 ssd1-', 'Dis5 ssd1-', 'Dis4 wild-type', 'Dis3 ssd1-',\n",
       "       'Dis14 wild-type', 'Dis7 wild-type', 'Dis2 wild-type',\n",
       "       'Euploid wild-type', 'Dis7 ssd1-', 'Dis14 ssd1-', 'Dis10 ssd1-',\n",
       "       'Euploid wild-type', 'Dis8 ssd1-', 'Dis11 wild-type', 'Dis2 ssd1-',\n",
       "       'Dis16 wild-type', 'Dis11 ssd1-', 'Dis8 wild-type', 'Dis12 wild-type',\n",
       "       'Dis12 ssd1-', 'Dis15 wild-type', 'Dis10 wild-type', 'Dis16 ssd1-',\n",
       "       'Dis7 wild-type', 'Dis9 wild-type', 'Dis15 ssd1-', 'Dis14 wild-type',\n",
       "       'Dis9 ssd1-', 'Dis13 ssd1-', 'Dis7 ssd1-', 'Dis13 wild-type',\n",
       "       'Euploid wild-type', 'Dis4 ssd1-/ssd1-', 'Dis4 wild-type',\n",
       "       'Euploid ssd1-', 'Dis15 wild-type', 'Euploid CEN15 wild-type',\n",
       "       'Dis12 wild-type', 'Euploid ssd1-',\n",
       "       'Dis12 wild-type rDNA hemizygous clone #3', 'Dis15 ssd1-'],\n",
       "      dtype='object')"
      ]
     },
     "execution_count": 17,
     "metadata": {},
     "output_type": "execute_result"
    }
   ],
   "source": [
    "rpkm.columns"
   ]
  },
  {
   "cell_type": "code",
   "execution_count": 19,
   "id": "932827df",
   "metadata": {},
   "outputs": [],
   "source": [
    "rpkm_Eupl = rpkm.filter(like=\"Euploid\", axis=1)"
   ]
  },
  {
   "cell_type": "code",
   "execution_count": 25,
   "id": "67b753d0",
   "metadata": {},
   "outputs": [
    {
     "name": "stderr",
     "output_type": "stream",
     "text": [
      "C:\\Users\\user\\AppData\\Local\\Temp\\ipykernel_7016\\240443541.py:1: SettingWithCopyWarning: \n",
      "A value is trying to be set on a copy of a slice from a DataFrame.\n",
      "Try using .loc[row_indexer,col_indexer] = value instead\n",
      "\n",
      "See the caveats in the documentation: https://pandas.pydata.org/pandas-docs/stable/user_guide/indexing.html#returning-a-view-versus-a-copy\n",
      "  rpkm_Eupl['Median'] = rpkm_Eupl.median(axis=1)\n"
     ]
    }
   ],
   "source": [
    "rpkm_Eupl['Median'] = rpkm_Eupl.median(axis=1)"
   ]
  },
  {
   "cell_type": "code",
   "execution_count": 30,
   "id": "bafae77d",
   "metadata": {},
   "outputs": [
    {
     "data": {
      "text/plain": [
       "(6714, 7)"
      ]
     },
     "execution_count": 30,
     "metadata": {},
     "output_type": "execute_result"
    }
   ],
   "source": [
    "rpkm_Eupl.shape"
   ]
  },
  {
   "cell_type": "code",
   "execution_count": 31,
   "id": "dd3baa46",
   "metadata": {},
   "outputs": [],
   "source": [
    "#filter 0 and low detection genes\n",
    "rpkm_Eupl = rpkm_Eupl[rpkm_Eupl['Median'] > 5]"
   ]
  },
  {
   "cell_type": "code",
   "execution_count": 32,
   "id": "8705b72a",
   "metadata": {},
   "outputs": [
    {
     "data": {
      "text/plain": [
       "(6449, 7)"
      ]
     },
     "execution_count": 32,
     "metadata": {},
     "output_type": "execute_result"
    }
   ],
   "source": [
    "rpkm_Eupl.shape"
   ]
  },
  {
   "cell_type": "code",
   "execution_count": 33,
   "id": "9a9466d1",
   "metadata": {},
   "outputs": [
    {
     "data": {
      "text/plain": [
       "Euploid wild-type          40.463167\n",
       "Euploid wild-type          40.266336\n",
       "Euploid wild-type          39.366439\n",
       "Euploid ssd1-              39.119373\n",
       "Euploid CEN15 wild-type    39.327753\n",
       "Euploid ssd1-              38.277280\n",
       "Median                     39.485199\n",
       "dtype: float64"
      ]
     },
     "execution_count": 33,
     "metadata": {},
     "output_type": "execute_result"
    }
   ],
   "source": [
    "rpkm_Eupl.median()"
   ]
  },
  {
   "cell_type": "code",
   "execution_count": 34,
   "id": "c51465e7",
   "metadata": {},
   "outputs": [
    {
     "data": {
      "text/html": [
       "<div>\n",
       "<style scoped>\n",
       "    .dataframe tbody tr th:only-of-type {\n",
       "        vertical-align: middle;\n",
       "    }\n",
       "\n",
       "    .dataframe tbody tr th {\n",
       "        vertical-align: top;\n",
       "    }\n",
       "\n",
       "    .dataframe thead th {\n",
       "        text-align: right;\n",
       "    }\n",
       "</style>\n",
       "<table border=\"1\" class=\"dataframe\">\n",
       "  <thead>\n",
       "    <tr style=\"text-align: right;\">\n",
       "      <th></th>\n",
       "      <th>Euploid wild-type</th>\n",
       "      <th>Euploid wild-type</th>\n",
       "      <th>Euploid wild-type</th>\n",
       "      <th>Euploid ssd1-</th>\n",
       "      <th>Euploid CEN15 wild-type</th>\n",
       "      <th>Euploid ssd1-</th>\n",
       "      <th>Median</th>\n",
       "    </tr>\n",
       "    <tr>\n",
       "      <th>Gene</th>\n",
       "      <th></th>\n",
       "      <th></th>\n",
       "      <th></th>\n",
       "      <th></th>\n",
       "      <th></th>\n",
       "      <th></th>\n",
       "      <th></th>\n",
       "    </tr>\n",
       "  </thead>\n",
       "  <tbody>\n",
       "    <tr>\n",
       "      <th>Q0010</th>\n",
       "      <td>109.002468</td>\n",
       "      <td>101.579970</td>\n",
       "      <td>387.255899</td>\n",
       "      <td>268.351822</td>\n",
       "      <td>316.200153</td>\n",
       "      <td>505.995971</td>\n",
       "      <td>292.275987</td>\n",
       "    </tr>\n",
       "    <tr>\n",
       "      <th>Q0017</th>\n",
       "      <td>192.465710</td>\n",
       "      <td>128.468786</td>\n",
       "      <td>256.975365</td>\n",
       "      <td>140.721077</td>\n",
       "      <td>188.841758</td>\n",
       "      <td>298.052421</td>\n",
       "      <td>190.653734</td>\n",
       "    </tr>\n",
       "    <tr>\n",
       "      <th>Q0032</th>\n",
       "      <td>163.870138</td>\n",
       "      <td>119.197842</td>\n",
       "      <td>600.845493</td>\n",
       "      <td>400.402241</td>\n",
       "      <td>525.642007</td>\n",
       "      <td>811.194218</td>\n",
       "      <td>463.022124</td>\n",
       "    </tr>\n",
       "    <tr>\n",
       "      <th>Q0045</th>\n",
       "      <td>226.260954</td>\n",
       "      <td>240.608829</td>\n",
       "      <td>346.700595</td>\n",
       "      <td>235.148866</td>\n",
       "      <td>317.008928</td>\n",
       "      <td>351.813278</td>\n",
       "      <td>278.808878</td>\n",
       "    </tr>\n",
       "    <tr>\n",
       "      <th>Q0060</th>\n",
       "      <td>374.752945</td>\n",
       "      <td>455.817134</td>\n",
       "      <td>611.551950</td>\n",
       "      <td>505.378100</td>\n",
       "      <td>455.427833</td>\n",
       "      <td>660.945573</td>\n",
       "      <td>480.597617</td>\n",
       "    </tr>\n",
       "    <tr>\n",
       "      <th>...</th>\n",
       "      <td>...</td>\n",
       "      <td>...</td>\n",
       "      <td>...</td>\n",
       "      <td>...</td>\n",
       "      <td>...</td>\n",
       "      <td>...</td>\n",
       "      <td>...</td>\n",
       "    </tr>\n",
       "    <tr>\n",
       "      <th>YPR197C</th>\n",
       "      <td>58.534628</td>\n",
       "      <td>49.200812</td>\n",
       "      <td>66.430866</td>\n",
       "      <td>53.893179</td>\n",
       "      <td>51.386951</td>\n",
       "      <td>33.293090</td>\n",
       "      <td>52.640065</td>\n",
       "    </tr>\n",
       "    <tr>\n",
       "      <th>YPR198W</th>\n",
       "      <td>39.333931</td>\n",
       "      <td>34.006443</td>\n",
       "      <td>51.867454</td>\n",
       "      <td>34.145556</td>\n",
       "      <td>46.370006</td>\n",
       "      <td>28.764250</td>\n",
       "      <td>36.739743</td>\n",
       "    </tr>\n",
       "    <tr>\n",
       "      <th>YPR199C</th>\n",
       "      <td>53.882723</td>\n",
       "      <td>41.806791</td>\n",
       "      <td>23.519779</td>\n",
       "      <td>54.380349</td>\n",
       "      <td>41.845043</td>\n",
       "      <td>30.310416</td>\n",
       "      <td>41.825917</td>\n",
       "    </tr>\n",
       "    <tr>\n",
       "      <th>YPR200C</th>\n",
       "      <td>65.336361</td>\n",
       "      <td>41.188466</td>\n",
       "      <td>67.088225</td>\n",
       "      <td>12.890480</td>\n",
       "      <td>77.843167</td>\n",
       "      <td>10.238442</td>\n",
       "      <td>53.262414</td>\n",
       "    </tr>\n",
       "    <tr>\n",
       "      <th>YPR201W</th>\n",
       "      <td>48.305119</td>\n",
       "      <td>49.484273</td>\n",
       "      <td>36.547607</td>\n",
       "      <td>45.864647</td>\n",
       "      <td>37.105749</td>\n",
       "      <td>36.428629</td>\n",
       "      <td>41.485198</td>\n",
       "    </tr>\n",
       "  </tbody>\n",
       "</table>\n",
       "<p>6449 rows × 7 columns</p>\n",
       "</div>"
      ],
      "text/plain": [
       "         Euploid wild-type  Euploid wild-type  Euploid wild-type  \\\n",
       "Gene                                                               \n",
       "Q0010           109.002468         101.579970         387.255899   \n",
       "Q0017           192.465710         128.468786         256.975365   \n",
       "Q0032           163.870138         119.197842         600.845493   \n",
       "Q0045           226.260954         240.608829         346.700595   \n",
       "Q0060           374.752945         455.817134         611.551950   \n",
       "...                    ...                ...                ...   \n",
       "YPR197C          58.534628          49.200812          66.430866   \n",
       "YPR198W          39.333931          34.006443          51.867454   \n",
       "YPR199C          53.882723          41.806791          23.519779   \n",
       "YPR200C          65.336361          41.188466          67.088225   \n",
       "YPR201W          48.305119          49.484273          36.547607   \n",
       "\n",
       "         Euploid ssd1-  Euploid CEN15 wild-type  Euploid ssd1-      Median  \n",
       "Gene                                                                        \n",
       "Q0010       268.351822               316.200153     505.995971  292.275987  \n",
       "Q0017       140.721077               188.841758     298.052421  190.653734  \n",
       "Q0032       400.402241               525.642007     811.194218  463.022124  \n",
       "Q0045       235.148866               317.008928     351.813278  278.808878  \n",
       "Q0060       505.378100               455.427833     660.945573  480.597617  \n",
       "...                ...                      ...            ...         ...  \n",
       "YPR197C      53.893179                51.386951      33.293090   52.640065  \n",
       "YPR198W      34.145556                46.370006      28.764250   36.739743  \n",
       "YPR199C      54.380349                41.845043      30.310416   41.825917  \n",
       "YPR200C      12.890480                77.843167      10.238442   53.262414  \n",
       "YPR201W      45.864647                37.105749      36.428629   41.485198  \n",
       "\n",
       "[6449 rows x 7 columns]"
      ]
     },
     "execution_count": 34,
     "metadata": {},
     "output_type": "execute_result"
    }
   ],
   "source": [
    "rpkm_Eupl"
   ]
  },
  {
   "cell_type": "markdown",
   "id": "15346dd7",
   "metadata": {},
   "source": [
    "## contig tig00004927 chr2-2"
   ]
  },
  {
   "cell_type": "code",
   "execution_count": 36,
   "id": "3324c9ab",
   "metadata": {},
   "outputs": [],
   "source": [
    "ch2 = s288c_attr[s288c_attr['seq_id'] == 'chrII']\n",
    "ch2_dupl = ch2[ch2['start'] > 800895]\n",
    "ch2_genes = list(ch2['Name'])\n",
    "ch2_dupl_genes = list(ch2_dupl['Name'])\n",
    "ch2_genes = list(set(ch2['Name']) - set(ch2_dupl_genes))"
   ]
  },
  {
   "cell_type": "code",
   "execution_count": 37,
   "id": "bb154b9d",
   "metadata": {},
   "outputs": [],
   "source": [
    "ch2_rp = rpkm_Eupl[rpkm_Eupl.index.isin(ch2_genes)]\n",
    "ch2_dupl_rp = rpkm_Eupl[rpkm_Eupl.index.isin(ch2_dupl_genes)]"
   ]
  },
  {
   "cell_type": "code",
   "execution_count": 41,
   "id": "0045350c",
   "metadata": {},
   "outputs": [
    {
     "data": {
      "text/plain": [
       "Euploid wild-type          24.784932\n",
       "Euploid wild-type          26.352571\n",
       "Euploid wild-type          31.627737\n",
       "Euploid ssd1-              22.819634\n",
       "Euploid CEN15 wild-type    21.101346\n",
       "Euploid ssd1-              21.545958\n",
       "Median                     22.195007\n",
       "dtype: float64"
      ]
     },
     "execution_count": 41,
     "metadata": {},
     "output_type": "execute_result"
    }
   ],
   "source": [
    "ch2_dupl_rp.median()"
   ]
  },
  {
   "cell_type": "code",
   "execution_count": 62,
   "id": "eccffcec",
   "metadata": {},
   "outputs": [
    {
     "data": {
      "text/plain": [
       "['YBR298C', 'YBR298C-A', 'YBR299W', 'YBR300C', 'YBR301W', 'YBR302C']"
      ]
     },
     "execution_count": 62,
     "metadata": {},
     "output_type": "execute_result"
    }
   ],
   "source": [
    "ch2_dupl_genes"
   ]
  },
  {
   "cell_type": "code",
   "execution_count": 43,
   "id": "c662584d",
   "metadata": {},
   "outputs": [
    {
     "data": {
      "text/plain": [
       "Euploid wild-type          40.757445\n",
       "Euploid wild-type          39.603159\n",
       "Euploid wild-type          39.317231\n",
       "Euploid ssd1-              39.401902\n",
       "Euploid CEN15 wild-type    39.053608\n",
       "Euploid ssd1-              38.649321\n",
       "Median                     39.755536\n",
       "dtype: float64"
      ]
     },
     "execution_count": 43,
     "metadata": {},
     "output_type": "execute_result"
    }
   ],
   "source": [
    "ch2_rp.median()"
   ]
  },
  {
   "cell_type": "markdown",
   "id": "ddee3d88",
   "metadata": {},
   "source": [
    "it doesn't look like on get more reads for these genes that are supposely duplicated "
   ]
  },
  {
   "cell_type": "markdown",
   "id": "1bf76cfd",
   "metadata": {},
   "source": [
    "# Chromosome 3 \n",
    "tig00004935\tIII\t68\t12091"
   ]
  },
  {
   "cell_type": "code",
   "execution_count": 46,
   "id": "46fb9882",
   "metadata": {},
   "outputs": [],
   "source": [
    "ch3 = s288c_attr[s288c_attr['seq_id'] == 'chrIII']\n",
    "ch3_dupl = ch3[ch3['start'] > 68]\n",
    "ch3_dupl = ch3[ch3['end'] < 12091]\n",
    "\n",
    "ch3_genes = list(ch3['Name'])\n",
    "ch3_dupl_genes = list(ch3_dupl['Name'])\n",
    "ch3_genes = list(set(ch3['Name']) - set(ch3_dupl_genes))"
   ]
  },
  {
   "cell_type": "code",
   "execution_count": 47,
   "id": "96caa7a2",
   "metadata": {},
   "outputs": [],
   "source": [
    "ch3_rp = rpkm_Eupl[rpkm_Eupl.index.isin(ch3_genes)]\n",
    "ch3_dupl_rp = rpkm_Eupl[rpkm_Eupl.index.isin(ch3_dupl_genes)]"
   ]
  },
  {
   "cell_type": "code",
   "execution_count": 50,
   "id": "373a6fdb",
   "metadata": {},
   "outputs": [
    {
     "data": {
      "text/plain": [
       "Euploid wild-type          40.634681\n",
       "Euploid wild-type          39.903183\n",
       "Euploid wild-type          41.624859\n",
       "Euploid ssd1-              37.989990\n",
       "Euploid CEN15 wild-type    40.270959\n",
       "Euploid ssd1-              37.323675\n",
       "Median                     39.106325\n",
       "dtype: float64"
      ]
     },
     "execution_count": 50,
     "metadata": {},
     "output_type": "execute_result"
    }
   ],
   "source": [
    "ch3_rp.median()"
   ]
  },
  {
   "cell_type": "code",
   "execution_count": 51,
   "id": "021bfac9",
   "metadata": {},
   "outputs": [
    {
     "data": {
      "text/plain": [
       "Euploid wild-type          31.759048\n",
       "Euploid wild-type          33.785622\n",
       "Euploid wild-type          43.552318\n",
       "Euploid ssd1-              21.930558\n",
       "Euploid CEN15 wild-type    38.586861\n",
       "Euploid ssd1-              32.142908\n",
       "Median                     31.483729\n",
       "dtype: float64"
      ]
     },
     "execution_count": 51,
     "metadata": {},
     "output_type": "execute_result"
    }
   ],
   "source": [
    "ch3_dupl_rp.median()"
   ]
  },
  {
   "cell_type": "markdown",
   "id": "d48df7fc",
   "metadata": {},
   "source": [
    "# Chr12\n",
    "\n",
    "tig00004933\tXII\t12994\t31794"
   ]
  },
  {
   "cell_type": "code",
   "execution_count": 53,
   "id": "78ea6412",
   "metadata": {},
   "outputs": [],
   "source": [
    "ch12 = s288c_attr[s288c_attr['seq_id'] == 'chrIII']\n",
    "ch12_dupl = ch12[ch12['start'] >= 2994]\n",
    "ch12_dupl = ch12[ch12['end'] <= 31794 ]\n",
    "\n",
    "ch12_genes = list(ch12['Name'])\n",
    "ch12_dupl_genes = list(ch12_dupl['Name'])\n",
    "ch12_genes = list(set(ch12['Name']) - set(ch12_dupl_genes))"
   ]
  },
  {
   "cell_type": "code",
   "execution_count": 55,
   "id": "7f8a79b9",
   "metadata": {},
   "outputs": [],
   "source": [
    "ch12_rp = rpkm_Eupl[rpkm_Eupl.index.isin(ch12_genes)]\n",
    "ch12_dupl_rp = rpkm_Eupl[rpkm_Eupl.index.isin(ch12_dupl_genes)]"
   ]
  },
  {
   "cell_type": "code",
   "execution_count": 57,
   "id": "5fd8b50d",
   "metadata": {},
   "outputs": [
    {
     "data": {
      "text/plain": [
       "Euploid wild-type          40.335651\n",
       "Euploid wild-type          39.903183\n",
       "Euploid wild-type          41.697604\n",
       "Euploid ssd1-              37.989990\n",
       "Euploid CEN15 wild-type    40.270959\n",
       "Euploid ssd1-              37.357367\n",
       "Median                     39.031152\n",
       "dtype: float64"
      ]
     },
     "execution_count": 57,
     "metadata": {},
     "output_type": "execute_result"
    }
   ],
   "source": [
    "ch12_rp.median()"
   ]
  },
  {
   "cell_type": "code",
   "execution_count": 58,
   "id": "1b7197c5",
   "metadata": {},
   "outputs": [
    {
     "data": {
      "text/plain": [
       "Euploid wild-type          44.031588\n",
       "Euploid wild-type          37.600620\n",
       "Euploid wild-type          40.870977\n",
       "Euploid ssd1-              35.844048\n",
       "Euploid CEN15 wild-type    38.586861\n",
       "Euploid ssd1-              32.142908\n",
       "Median                     39.843307\n",
       "dtype: float64"
      ]
     },
     "execution_count": 58,
     "metadata": {},
     "output_type": "execute_result"
    }
   ],
   "source": [
    "ch12_dupl_rp.median()"
   ]
  },
  {
   "cell_type": "code",
   "execution_count": 61,
   "id": "857eba4b",
   "metadata": {},
   "outputs": [],
   "source": [
    "# nope"
   ]
  },
  {
   "cell_type": "code",
   "execution_count": null,
   "id": "b08938d5",
   "metadata": {},
   "outputs": [],
   "source": []
  }
 ],
 "metadata": {
  "kernelspec": {
   "display_name": "Python 3 (ipykernel)",
   "language": "python",
   "name": "python3"
  },
  "language_info": {
   "codemirror_mode": {
    "name": "ipython",
    "version": 3
   },
   "file_extension": ".py",
   "mimetype": "text/x-python",
   "name": "python",
   "nbconvert_exporter": "python",
   "pygments_lexer": "ipython3",
   "version": "3.10.9"
  }
 },
 "nbformat": 4,
 "nbformat_minor": 5
}
