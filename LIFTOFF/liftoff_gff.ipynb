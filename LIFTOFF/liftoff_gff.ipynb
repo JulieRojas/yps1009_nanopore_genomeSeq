{
 "cells": [
  {
   "cell_type": "code",
   "execution_count": 1,
   "id": "fbef926e",
   "metadata": {},
   "outputs": [],
   "source": [
    "# from BCBio.GFF import GFFExaminer"
   ]
  },
  {
   "cell_type": "markdown",
   "id": "18ceb6d5",
   "metadata": {},
   "source": [
    "https://gffpandas.readthedocs.io/en/latest/tutorial.html"
   ]
  },
  {
   "cell_type": "code",
   "execution_count": 1,
   "id": "88084c43",
   "metadata": {},
   "outputs": [],
   "source": [
    "import gffpandas.gffpandas as gffpd\n",
    "import pandas as pd"
   ]
  },
  {
   "cell_type": "code",
   "execution_count": 2,
   "id": "0e4c4aab",
   "metadata": {},
   "outputs": [
    {
     "name": "stderr",
     "output_type": "stream",
     "text": [
      "C:\\Users\\user\\anaconda3\\lib\\site-packages\\gffpandas\\gffpandas.py:32: DtypeWarning: Columns (1,2,5,6,7,8) have mixed types. Specify dtype option on import or set low_memory=False.\n",
      "  self.df = pd.read_table(self._gff_file, comment='#',\n"
     ]
    }
   ],
   "source": [
    "annotation = gffpd.read_gff3('YPS1009_S288C_v4_polished.gff')\n",
    "annot_s288c = gffpd.read_gff3('saccharomyces_cerevisiae_R64-3.gff')"
   ]
  },
  {
   "cell_type": "code",
   "execution_count": 3,
   "id": "05ec8c7a",
   "metadata": {},
   "outputs": [
    {
     "data": {
      "text/plain": [
       "CDS                                7178\n",
       "gene                               6707\n",
       "mRNA                               6707\n",
       "noncoding_exon                      493\n",
       "tRNA_gene                           321\n",
       "tRNA                                321\n",
       "transposable_element_gene            99\n",
       "transposable_element                 99\n",
       "snoRNA                               77\n",
       "snoRNA_gene                          77\n",
       "plus_1_translational_frameshift      47\n",
       "five_prime_UTR_intron                24\n",
       "ncRNA_gene                           23\n",
       "ncRNA                                23\n",
       "snRNA_gene                            6\n",
       "snRNA                                 6\n",
       "uORF                                  6\n",
       "telomeric_repeat                      3\n",
       "intein_encoding_region                1\n",
       "Name: type, dtype: int64"
      ]
     },
     "execution_count": 3,
     "metadata": {},
     "output_type": "execute_result"
    }
   ],
   "source": [
    "annotation.df['type'].value_counts()"
   ]
  },
  {
   "cell_type": "code",
   "execution_count": 4,
   "id": "1f380f29",
   "metadata": {},
   "outputs": [
    {
     "data": {
      "text/plain": [
       "mRNA                                  11119\n",
       "CDS                                    7066\n",
       "gene                                   6607\n",
       "ARS                                     543\n",
       "noncoding_exon                          489\n",
       "long_terminal_repeat                    384\n",
       "intron                                  378\n",
       "tRNA                                    299\n",
       "tRNA_gene                               299\n",
       "ARS_consensus_sequence                  196\n",
       "transposable_element_gene                91\n",
       "transposable_element                     91\n",
       "region                                   78\n",
       "snoRNA_gene                              77\n",
       "snoRNA                                   77\n",
       "telomere                                 64\n",
       "LTR_retrotransposon                      50\n",
       "plus_1_translational_frameshift          47\n",
       "X_element                                32\n",
       "centromere                               32\n",
       "telomeric_repeat                         31\n",
       "X_element_combinatorial_repeat           28\n",
       "rRNA                                     24\n",
       "rRNA_gene                                24\n",
       "five_prime_UTR_intron                    24\n",
       "ncRNA                                    23\n",
       "ncRNA_gene                               23\n",
       "Y_prime_element                          19\n",
       "chromosome                               17\n",
       "centromere_DNA_Element_III               16\n",
       "centromere_DNA_Element_II                16\n",
       "centromere_DNA_Element_I                 16\n",
       "pseudogene                               12\n",
       "blocked_reading_frame                    12\n",
       "uORF                                     11\n",
       "internal_transcribed_spacer_region        8\n",
       "external_transcribed_spacer_region        8\n",
       "origin_of_replication                     8\n",
       "matrix_attachment_site                    8\n",
       "snRNA                                     6\n",
       "snRNA_gene                                6\n",
       "silent_mating_type_cassette_array         4\n",
       "X_region                                  3\n",
       "Y_region                                  3\n",
       "non_transcribed_region                    3\n",
       "Z1_region                                 3\n",
       "W_region                                  2\n",
       "Z2_region                                 2\n",
       "mating_type_region                        2\n",
       "intein_encoding_region                    2\n",
       "recombination_enhancer                    1\n",
       "telomerase_RNA                            1\n",
       "telomerase_RNA_gene                       1\n",
       "Name: type, dtype: int64"
      ]
     },
     "execution_count": 4,
     "metadata": {},
     "output_type": "execute_result"
    }
   ],
   "source": [
    "annot_s288c.df['type'].value_counts()"
   ]
  },
  {
   "cell_type": "markdown",
   "id": "1009c702",
   "metadata": {},
   "source": [
    "## Make df by features YPS1009"
   ]
  },
  {
   "cell_type": "code",
   "execution_count": 5,
   "id": "45985f8d",
   "metadata": {},
   "outputs": [],
   "source": [
    "TE_df = annotation.filter_feature_of_type(['transposable_element_gene'])\n",
    "sno_df = annotation.filter_feature_of_type(['snoRNA_gene'])\n",
    "tRNA_df = annotation.filter_feature_of_type(['tRNA_gene'])\n",
    "gene_df = annotation.filter_feature_of_type(['gene'])"
   ]
  },
  {
   "cell_type": "code",
   "execution_count": 6,
   "id": "aa90ef94",
   "metadata": {},
   "outputs": [],
   "source": [
    "gene_attr = gene_df.attributes_to_columns()\n",
    "gene = gene_attr[['seq_id', 'start', 'end', 'Name',  'Alias',  'Note', 'Ontology_term', 'score', 'strand', 'phase',\n",
    "       'copy_num_ID', 'coverage', 'curie', 'display', 'extra_copy_number', 'gene', 'low_identity', 'orf_classification',\n",
    "       'partial_mapping', 'sequence_ID', 'valid_ORFs']]"
   ]
  },
  {
   "cell_type": "code",
   "execution_count": 7,
   "id": "da9223db",
   "metadata": {},
   "outputs": [
    {
     "data": {
      "text/plain": [
       "1    6175\n",
       "0     530\n",
       "Name: valid_ORFs, dtype: int64"
      ]
     },
     "execution_count": 7,
     "metadata": {},
     "output_type": "execute_result"
    }
   ],
   "source": [
    "gene_attr['valid_ORFs'].value_counts()\n",
    "# so valid_ORFs in gene does count itself and I should look carefully at the 439 genes with no valid ORF"
   ]
  },
  {
   "cell_type": "code",
   "execution_count": 8,
   "id": "a2feefd3",
   "metadata": {},
   "outputs": [],
   "source": [
    "TE_attr = TE_df.attributes_to_columns()\n",
    "sno_attr = sno_df.attributes_to_columns()\n",
    "tRNA_attr = tRNA_df.attributes_to_columns()"
   ]
  },
  {
   "cell_type": "code",
   "execution_count": 9,
   "id": "65fb5bab",
   "metadata": {},
   "outputs": [
    {
     "data": {
      "text/plain": [
       "Index(['seq_id', 'source', 'type', 'start', 'end', 'score', 'strand', 'phase',\n",
       "       'attributes', 'Alias', 'ID', 'Name', 'Note', 'Ontology_term',\n",
       "       'copy_num_ID', 'coverage', 'curie', 'dbxref', 'display',\n",
       "       'extra_copy_number', 'gene', 'sequence_ID'],\n",
       "      dtype='object')"
      ]
     },
     "execution_count": 9,
     "metadata": {},
     "output_type": "execute_result"
    }
   ],
   "source": [
    "tRNA_attr.columns"
   ]
  },
  {
   "cell_type": "code",
   "execution_count": 10,
   "id": "8d70a21e",
   "metadata": {},
   "outputs": [],
   "source": [
    "TE = TE_attr[['seq_id', 'start', 'end', 'Name',  'Alias',  'Note', 'Ontology_term', 'score', 'strand', 'phase',\n",
    "       'copy_num_ID', 'coverage', 'curie', 'display', 'extra_copy_number', 'sequence_ID', 'valid_ORFs']]\n",
    "\n",
    "sno = sno_attr[['seq_id', 'start', 'end', 'Name',  'Alias',  'Note', 'Ontology_term', 'score', 'strand', 'phase',\n",
    "       'copy_num_ID', 'coverage', 'curie', 'display', 'extra_copy_number', 'gene', 'sequence_ID']]\n",
    "\n",
    "tRNA = tRNA_attr[['seq_id', 'start', 'end', 'Name',  'Alias',  'Note', 'Ontology_term', 'score', 'strand', 'phase',\n",
    "       'copy_num_ID', 'coverage', 'curie', 'display', 'extra_copy_number', 'gene', 'sequence_ID']]"
   ]
  },
  {
   "cell_type": "code",
   "execution_count": 11,
   "id": "4b9d5296",
   "metadata": {},
   "outputs": [],
   "source": [
    "# This code just convert the chromosome numbering to integer and remove mitochondrial genes.\n",
    "def lat_to_arabic(DF):\n",
    "    Latin_to_arabic = {'I': 1, 'II':2, 'III':3, 'IV':4, 'V':5, 'VI':6, 'VII':7, 'VIII':8, 'IX':9, 'X':10,\n",
    "                      'XI':11, 'XII':12, 'XIII':13, 'XIV':14, 'XV':15, 'XVI':16, 'Mito': 'mitoch', 'MANY': 7}\n",
    "    seq_id = DF['seq_id']\n",
    "    ch = []\n",
    "    contig = []\n",
    "    for i in seq_id:\n",
    "        chrom, cont = i.split('_')\n",
    "        contig.append(cont)\n",
    "        chrom = chrom.replace('chr', '')\n",
    "        if '-' in chrom:\n",
    "            chrom, e = chrom.split('-')\n",
    "        ch.append(Latin_to_arabic[chrom])\n",
    "    DF['Chromosome'] = ch\n",
    "    DF['Contig'] = contig\n",
    "    return DF"
   ]
  },
  {
   "cell_type": "code",
   "execution_count": 12,
   "id": "aae0f024",
   "metadata": {},
   "outputs": [
    {
     "name": "stderr",
     "output_type": "stream",
     "text": [
      "C:\\Users\\user\\AppData\\Local\\Temp\\ipykernel_12224\\3764198105.py:15: SettingWithCopyWarning: \n",
      "A value is trying to be set on a copy of a slice from a DataFrame.\n",
      "Try using .loc[row_indexer,col_indexer] = value instead\n",
      "\n",
      "See the caveats in the documentation: https://pandas.pydata.org/pandas-docs/stable/user_guide/indexing.html#returning-a-view-versus-a-copy\n",
      "  DF['Chromosome'] = ch\n",
      "C:\\Users\\user\\AppData\\Local\\Temp\\ipykernel_12224\\3764198105.py:16: SettingWithCopyWarning: \n",
      "A value is trying to be set on a copy of a slice from a DataFrame.\n",
      "Try using .loc[row_indexer,col_indexer] = value instead\n",
      "\n",
      "See the caveats in the documentation: https://pandas.pydata.org/pandas-docs/stable/user_guide/indexing.html#returning-a-view-versus-a-copy\n",
      "  DF['Contig'] = contig\n"
     ]
    }
   ],
   "source": [
    "gene = lat_to_arabic(gene)"
   ]
  },
  {
   "cell_type": "code",
   "execution_count": 13,
   "id": "47a1360f",
   "metadata": {},
   "outputs": [
    {
     "name": "stderr",
     "output_type": "stream",
     "text": [
      "C:\\Users\\user\\AppData\\Local\\Temp\\ipykernel_12224\\3764198105.py:15: SettingWithCopyWarning: \n",
      "A value is trying to be set on a copy of a slice from a DataFrame.\n",
      "Try using .loc[row_indexer,col_indexer] = value instead\n",
      "\n",
      "See the caveats in the documentation: https://pandas.pydata.org/pandas-docs/stable/user_guide/indexing.html#returning-a-view-versus-a-copy\n",
      "  DF['Chromosome'] = ch\n",
      "C:\\Users\\user\\AppData\\Local\\Temp\\ipykernel_12224\\3764198105.py:16: SettingWithCopyWarning: \n",
      "A value is trying to be set on a copy of a slice from a DataFrame.\n",
      "Try using .loc[row_indexer,col_indexer] = value instead\n",
      "\n",
      "See the caveats in the documentation: https://pandas.pydata.org/pandas-docs/stable/user_guide/indexing.html#returning-a-view-versus-a-copy\n",
      "  DF['Contig'] = contig\n",
      "C:\\Users\\user\\AppData\\Local\\Temp\\ipykernel_12224\\3764198105.py:15: SettingWithCopyWarning: \n",
      "A value is trying to be set on a copy of a slice from a DataFrame.\n",
      "Try using .loc[row_indexer,col_indexer] = value instead\n",
      "\n",
      "See the caveats in the documentation: https://pandas.pydata.org/pandas-docs/stable/user_guide/indexing.html#returning-a-view-versus-a-copy\n",
      "  DF['Chromosome'] = ch\n",
      "C:\\Users\\user\\AppData\\Local\\Temp\\ipykernel_12224\\3764198105.py:16: SettingWithCopyWarning: \n",
      "A value is trying to be set on a copy of a slice from a DataFrame.\n",
      "Try using .loc[row_indexer,col_indexer] = value instead\n",
      "\n",
      "See the caveats in the documentation: https://pandas.pydata.org/pandas-docs/stable/user_guide/indexing.html#returning-a-view-versus-a-copy\n",
      "  DF['Contig'] = contig\n",
      "C:\\Users\\user\\AppData\\Local\\Temp\\ipykernel_12224\\3764198105.py:15: SettingWithCopyWarning: \n",
      "A value is trying to be set on a copy of a slice from a DataFrame.\n",
      "Try using .loc[row_indexer,col_indexer] = value instead\n",
      "\n",
      "See the caveats in the documentation: https://pandas.pydata.org/pandas-docs/stable/user_guide/indexing.html#returning-a-view-versus-a-copy\n",
      "  DF['Chromosome'] = ch\n",
      "C:\\Users\\user\\AppData\\Local\\Temp\\ipykernel_12224\\3764198105.py:16: SettingWithCopyWarning: \n",
      "A value is trying to be set on a copy of a slice from a DataFrame.\n",
      "Try using .loc[row_indexer,col_indexer] = value instead\n",
      "\n",
      "See the caveats in the documentation: https://pandas.pydata.org/pandas-docs/stable/user_guide/indexing.html#returning-a-view-versus-a-copy\n",
      "  DF['Contig'] = contig\n"
     ]
    }
   ],
   "source": [
    "TE = lat_to_arabic(TE)\n",
    "sno = lat_to_arabic(sno)\n",
    "tRNA = lat_to_arabic(tRNA)"
   ]
  },
  {
   "cell_type": "code",
   "execution_count": 14,
   "id": "8aa57968",
   "metadata": {},
   "outputs": [
    {
     "data": {
      "text/html": [
       "<div>\n",
       "<style scoped>\n",
       "    .dataframe tbody tr th:only-of-type {\n",
       "        vertical-align: middle;\n",
       "    }\n",
       "\n",
       "    .dataframe tbody tr th {\n",
       "        vertical-align: top;\n",
       "    }\n",
       "\n",
       "    .dataframe thead th {\n",
       "        text-align: right;\n",
       "    }\n",
       "</style>\n",
       "<table border=\"1\" class=\"dataframe\">\n",
       "  <thead>\n",
       "    <tr style=\"text-align: right;\">\n",
       "      <th></th>\n",
       "      <th>seq_id</th>\n",
       "      <th>start</th>\n",
       "      <th>end</th>\n",
       "      <th>Name</th>\n",
       "      <th>Alias</th>\n",
       "      <th>Note</th>\n",
       "      <th>Ontology_term</th>\n",
       "      <th>score</th>\n",
       "      <th>strand</th>\n",
       "      <th>phase</th>\n",
       "      <th>...</th>\n",
       "      <th>display</th>\n",
       "      <th>extra_copy_number</th>\n",
       "      <th>gene</th>\n",
       "      <th>low_identity</th>\n",
       "      <th>orf_classification</th>\n",
       "      <th>partial_mapping</th>\n",
       "      <th>sequence_ID</th>\n",
       "      <th>valid_ORFs</th>\n",
       "      <th>Chromosome</th>\n",
       "      <th>Contig</th>\n",
       "    </tr>\n",
       "  </thead>\n",
       "  <tbody>\n",
       "    <tr>\n",
       "      <th>0</th>\n",
       "      <td>chrII-2_tig00004927</td>\n",
       "      <td>8297</td>\n",
       "      <td>10119</td>\n",
       "      <td>YBR298C</td>\n",
       "      <td>MAL31,MAL3T,MALT,maltose%20permease</td>\n",
       "      <td>Maltose%20permease%3B%20high-affinity%20maltos...</td>\n",
       "      <td>GO:0000017,GO:0005352,GO:0071944,SO:0000704</td>\n",
       "      <td>.</td>\n",
       "      <td>-</td>\n",
       "      <td>.</td>\n",
       "      <td>...</td>\n",
       "      <td>Maltose%20permease</td>\n",
       "      <td>1</td>\n",
       "      <td>MAL31</td>\n",
       "      <td>None</td>\n",
       "      <td>Verified</td>\n",
       "      <td>None</td>\n",
       "      <td>0.946</td>\n",
       "      <td>0</td>\n",
       "      <td>2</td>\n",
       "      <td>tig00004927</td>\n",
       "    </tr>\n",
       "    <tr>\n",
       "      <th>3</th>\n",
       "      <td>chrII-2_tig00004927</td>\n",
       "      <td>10675</td>\n",
       "      <td>10894</td>\n",
       "      <td>YBR298C-A</td>\n",
       "      <td>None</td>\n",
       "      <td>Putative%20protein%20of%20unknown%20function%3...</td>\n",
       "      <td>GO:0003674,GO:0005575,GO:0008150,SO:0000704</td>\n",
       "      <td>.</td>\n",
       "      <td>-</td>\n",
       "      <td>.</td>\n",
       "      <td>...</td>\n",
       "      <td>Putative%20protein%20of%20unknown%20function</td>\n",
       "      <td>1</td>\n",
       "      <td>None</td>\n",
       "      <td>None</td>\n",
       "      <td>Uncharacterized</td>\n",
       "      <td>None</td>\n",
       "      <td>0.981</td>\n",
       "      <td>0</td>\n",
       "      <td>2</td>\n",
       "      <td>tig00004927</td>\n",
       "    </tr>\n",
       "    <tr>\n",
       "      <th>6</th>\n",
       "      <td>chrII-2_tig00004927</td>\n",
       "      <td>10985</td>\n",
       "      <td>12717</td>\n",
       "      <td>YBR299W</td>\n",
       "      <td>MAL32,MAL3S,MALS,alpha-glucosidase%20MAL32</td>\n",
       "      <td>Maltase%20%28alpha-D-glucosidase%29%3B%20induc...</td>\n",
       "      <td>GO:0000025,GO:0004575,GO:0005886,GO:0005987,GO...</td>\n",
       "      <td>.</td>\n",
       "      <td>+</td>\n",
       "      <td>.</td>\n",
       "      <td>...</td>\n",
       "      <td>Maltase%20%28alpha-D-glucosidase%29</td>\n",
       "      <td>1</td>\n",
       "      <td>MAL32</td>\n",
       "      <td>None</td>\n",
       "      <td>Verified</td>\n",
       "      <td>None</td>\n",
       "      <td>0.981</td>\n",
       "      <td>0</td>\n",
       "      <td>2</td>\n",
       "      <td>tig00004927</td>\n",
       "    </tr>\n",
       "    <tr>\n",
       "      <th>9</th>\n",
       "      <td>chrII-2_tig00004927</td>\n",
       "      <td>14242</td>\n",
       "      <td>14700</td>\n",
       "      <td>YGR293C</td>\n",
       "      <td>None</td>\n",
       "      <td>Dubious%20open%20reading%20frame%3B%20unlikely...</td>\n",
       "      <td>GO:0003674,GO:0005575,GO:0008150,SO:0000704</td>\n",
       "      <td>.</td>\n",
       "      <td>-</td>\n",
       "      <td>.</td>\n",
       "      <td>...</td>\n",
       "      <td>Dubious%20open%20reading%20frame</td>\n",
       "      <td>2</td>\n",
       "      <td>None</td>\n",
       "      <td>None</td>\n",
       "      <td>Dubious</td>\n",
       "      <td>None</td>\n",
       "      <td>0.989</td>\n",
       "      <td>0</td>\n",
       "      <td>2</td>\n",
       "      <td>tig00004927</td>\n",
       "    </tr>\n",
       "    <tr>\n",
       "      <th>12</th>\n",
       "      <td>chrII-2_tig00004927</td>\n",
       "      <td>14660</td>\n",
       "      <td>15022</td>\n",
       "      <td>YGR294W</td>\n",
       "      <td>PAU12,seripauperin%20PAU12</td>\n",
       "      <td>Protein%20of%20unknown%20function%3B%20member%...</td>\n",
       "      <td>GO:0003674,GO:0005575,GO:0008150,SO:0000704</td>\n",
       "      <td>.</td>\n",
       "      <td>+</td>\n",
       "      <td>.</td>\n",
       "      <td>...</td>\n",
       "      <td>Protein%20of%20unknown%20function</td>\n",
       "      <td>1</td>\n",
       "      <td>PAU12</td>\n",
       "      <td>None</td>\n",
       "      <td>Verified</td>\n",
       "      <td>None</td>\n",
       "      <td>0.983</td>\n",
       "      <td>1</td>\n",
       "      <td>2</td>\n",
       "      <td>tig00004927</td>\n",
       "    </tr>\n",
       "  </tbody>\n",
       "</table>\n",
       "<p>5 rows × 23 columns</p>\n",
       "</div>"
      ],
      "text/plain": [
       "                 seq_id  start    end       Name  \\\n",
       "0   chrII-2_tig00004927   8297  10119    YBR298C   \n",
       "3   chrII-2_tig00004927  10675  10894  YBR298C-A   \n",
       "6   chrII-2_tig00004927  10985  12717    YBR299W   \n",
       "9   chrII-2_tig00004927  14242  14700    YGR293C   \n",
       "12  chrII-2_tig00004927  14660  15022    YGR294W   \n",
       "\n",
       "                                         Alias  \\\n",
       "0          MAL31,MAL3T,MALT,maltose%20permease   \n",
       "3                                         None   \n",
       "6   MAL32,MAL3S,MALS,alpha-glucosidase%20MAL32   \n",
       "9                                         None   \n",
       "12                  PAU12,seripauperin%20PAU12   \n",
       "\n",
       "                                                 Note  \\\n",
       "0   Maltose%20permease%3B%20high-affinity%20maltos...   \n",
       "3   Putative%20protein%20of%20unknown%20function%3...   \n",
       "6   Maltase%20%28alpha-D-glucosidase%29%3B%20induc...   \n",
       "9   Dubious%20open%20reading%20frame%3B%20unlikely...   \n",
       "12  Protein%20of%20unknown%20function%3B%20member%...   \n",
       "\n",
       "                                        Ontology_term score strand phase  ...  \\\n",
       "0         GO:0000017,GO:0005352,GO:0071944,SO:0000704     .      -     .  ...   \n",
       "3         GO:0003674,GO:0005575,GO:0008150,SO:0000704     .      -     .  ...   \n",
       "6   GO:0000025,GO:0004575,GO:0005886,GO:0005987,GO...     .      +     .  ...   \n",
       "9         GO:0003674,GO:0005575,GO:0008150,SO:0000704     .      -     .  ...   \n",
       "12        GO:0003674,GO:0005575,GO:0008150,SO:0000704     .      +     .  ...   \n",
       "\n",
       "                                         display extra_copy_number   gene  \\\n",
       "0                             Maltose%20permease                 1  MAL31   \n",
       "3   Putative%20protein%20of%20unknown%20function                 1   None   \n",
       "6            Maltase%20%28alpha-D-glucosidase%29                 1  MAL32   \n",
       "9               Dubious%20open%20reading%20frame                 2   None   \n",
       "12             Protein%20of%20unknown%20function                 1  PAU12   \n",
       "\n",
       "   low_identity orf_classification partial_mapping sequence_ID valid_ORFs  \\\n",
       "0          None           Verified            None       0.946          0   \n",
       "3          None    Uncharacterized            None       0.981          0   \n",
       "6          None           Verified            None       0.981          0   \n",
       "9          None            Dubious            None       0.989          0   \n",
       "12         None           Verified            None       0.983          1   \n",
       "\n",
       "   Chromosome       Contig  \n",
       "0           2  tig00004927  \n",
       "3           2  tig00004927  \n",
       "6           2  tig00004927  \n",
       "9           2  tig00004927  \n",
       "12          2  tig00004927  \n",
       "\n",
       "[5 rows x 23 columns]"
      ]
     },
     "execution_count": 14,
     "metadata": {},
     "output_type": "execute_result"
    }
   ],
   "source": [
    "gene.head()"
   ]
  },
  {
   "cell_type": "code",
   "execution_count": 15,
   "id": "88d25b7d",
   "metadata": {},
   "outputs": [],
   "source": [
    "def clean20(DF):\n",
    "    note = DF['Note']\n",
    "    dis = DF['display']\n",
    "    clean = []\n",
    "    display = []\n",
    "    for n in note:\n",
    "        clean.append(n.replace('%20', ' '))\n",
    "    for d in dis:\n",
    "        display.append(str(d).replace('%20', ' '))\n",
    "    DF['Note'] = clean\n",
    "    DF['display'] = display\n",
    "    return DF"
   ]
  },
  {
   "cell_type": "code",
   "execution_count": 16,
   "id": "50940e10",
   "metadata": {},
   "outputs": [
    {
     "name": "stderr",
     "output_type": "stream",
     "text": [
      "C:\\Users\\user\\AppData\\Local\\Temp\\ipykernel_12224\\741321415.py:10: SettingWithCopyWarning: \n",
      "A value is trying to be set on a copy of a slice from a DataFrame.\n",
      "Try using .loc[row_indexer,col_indexer] = value instead\n",
      "\n",
      "See the caveats in the documentation: https://pandas.pydata.org/pandas-docs/stable/user_guide/indexing.html#returning-a-view-versus-a-copy\n",
      "  DF['Note'] = clean\n",
      "C:\\Users\\user\\AppData\\Local\\Temp\\ipykernel_12224\\741321415.py:11: SettingWithCopyWarning: \n",
      "A value is trying to be set on a copy of a slice from a DataFrame.\n",
      "Try using .loc[row_indexer,col_indexer] = value instead\n",
      "\n",
      "See the caveats in the documentation: https://pandas.pydata.org/pandas-docs/stable/user_guide/indexing.html#returning-a-view-versus-a-copy\n",
      "  DF['display'] = display\n"
     ]
    }
   ],
   "source": [
    "gene = clean20(gene)\n",
    "TE = clean20(TE)\n",
    "sno = clean20(sno)\n",
    "tRNA = clean20(tRNA)"
   ]
  },
  {
   "cell_type": "markdown",
   "id": "259832d6",
   "metadata": {},
   "source": [
    "## Df by attribute for S288C"
   ]
  },
  {
   "cell_type": "code",
   "execution_count": 17,
   "id": "685b570a",
   "metadata": {},
   "outputs": [],
   "source": [
    "TE_df_s288c = annot_s288c.filter_feature_of_type(['transposable_element_gene'])\n",
    "sno_df_s288c = annot_s288c.filter_feature_of_type(['snoRNA_gene'])\n",
    "tRNA_df_s288c = annot_s288c.filter_feature_of_type(['tRNA_gene'])\n",
    "gene_df_s288c = annot_s288c.filter_feature_of_type(['gene'])"
   ]
  },
  {
   "cell_type": "code",
   "execution_count": 18,
   "id": "98713fc0",
   "metadata": {},
   "outputs": [],
   "source": [
    "gene_attr_s288c = gene_df_s288c.attributes_to_columns()\n",
    "TE_attr_s288c = TE_df_s288c.attributes_to_columns()\n",
    "sno_attr_s288c = sno_df_s288c.attributes_to_columns()\n",
    "tRNA_attr_s288c = tRNA_df_s288c.attributes_to_columns()"
   ]
  },
  {
   "cell_type": "code",
   "execution_count": 19,
   "id": "4dc8b278",
   "metadata": {},
   "outputs": [
    {
     "data": {
      "text/plain": [
       "Index(['seq_id', 'source', 'type', 'start', 'end', 'score', 'strand', 'phase',\n",
       "       'attributes', 'Alias', 'ID', 'Name', 'Note', 'Ontology_term', 'curie',\n",
       "       'dbxref', 'display'],\n",
       "      dtype='object')"
      ]
     },
     "execution_count": 19,
     "metadata": {},
     "output_type": "execute_result"
    }
   ],
   "source": [
    "TE_attr_s288c.columns"
   ]
  },
  {
   "cell_type": "code",
   "execution_count": 20,
   "id": "a65bdbc7",
   "metadata": {},
   "outputs": [],
   "source": [
    "gene_s288c = gene_attr_s288c[['seq_id', 'start', 'end', 'Name', 'gene',  'Alias',  'Note', 'Ontology_term', 'strand', 'phase', 'curie',\n",
    "        'orf_classification', 'display']]\n",
    "\n",
    "TE_s288c = TE_attr_s288c[['seq_id', 'start', 'end', 'Name',  'Alias',  'Note', 'Ontology_term', 'score', 'strand', 'phase',\n",
    "      'curie', 'display']]\n",
    "\n",
    "sno_s288c = sno_attr_s288c[['seq_id', 'start', 'end', 'Name',  'Alias',  'Note', 'Ontology_term', 'score', 'strand', 'phase',\n",
    "      'curie', 'display']]\n",
    "\n",
    "tRNA_s288c = tRNA_attr_s288c[['seq_id', 'start', 'end', 'Name',  'Alias',  'Note', 'Ontology_term', 'score', 'strand', 'phase',\n",
    "      'curie', 'display']]"
   ]
  },
  {
   "cell_type": "code",
   "execution_count": 21,
   "id": "d230909b",
   "metadata": {},
   "outputs": [],
   "source": [
    "def lat_to_arabic_S288(df):\n",
    "    # This code just convert the chromosome numbering to integer and remove mitochondrial genes.\n",
    "    Latin_to_arabic = {'I': 1, 'II':2, 'III':3, 'IV':4, 'V':5, 'VI':6, 'VII':7, 'VIII':8, 'IX':9, 'X':10,\n",
    "                      'XI':11, 'XII':12, 'XIII':13, 'XIV':14, 'XV':15, 'XVI':16, 'Mito': 'mitoch'}\n",
    "    chLat = df['seq_id']\n",
    "    ch = []\n",
    "    for chrom in chLat:\n",
    "        chrom = chrom.replace('chr', '')\n",
    "        ch.append(Latin_to_arabic[chrom])\n",
    "    df['Chromosome'] = ch\n",
    "    return df"
   ]
  },
  {
   "cell_type": "code",
   "execution_count": 22,
   "id": "4ef36a0d",
   "metadata": {},
   "outputs": [
    {
     "name": "stderr",
     "output_type": "stream",
     "text": [
      "C:\\Users\\user\\AppData\\Local\\Temp\\ipykernel_12224\\760545625.py:10: SettingWithCopyWarning: \n",
      "A value is trying to be set on a copy of a slice from a DataFrame.\n",
      "Try using .loc[row_indexer,col_indexer] = value instead\n",
      "\n",
      "See the caveats in the documentation: https://pandas.pydata.org/pandas-docs/stable/user_guide/indexing.html#returning-a-view-versus-a-copy\n",
      "  df['Chromosome'] = ch\n",
      "C:\\Users\\user\\AppData\\Local\\Temp\\ipykernel_12224\\760545625.py:10: SettingWithCopyWarning: \n",
      "A value is trying to be set on a copy of a slice from a DataFrame.\n",
      "Try using .loc[row_indexer,col_indexer] = value instead\n",
      "\n",
      "See the caveats in the documentation: https://pandas.pydata.org/pandas-docs/stable/user_guide/indexing.html#returning-a-view-versus-a-copy\n",
      "  df['Chromosome'] = ch\n",
      "C:\\Users\\user\\AppData\\Local\\Temp\\ipykernel_12224\\760545625.py:10: SettingWithCopyWarning: \n",
      "A value is trying to be set on a copy of a slice from a DataFrame.\n",
      "Try using .loc[row_indexer,col_indexer] = value instead\n",
      "\n",
      "See the caveats in the documentation: https://pandas.pydata.org/pandas-docs/stable/user_guide/indexing.html#returning-a-view-versus-a-copy\n",
      "  df['Chromosome'] = ch\n",
      "C:\\Users\\user\\AppData\\Local\\Temp\\ipykernel_12224\\760545625.py:10: SettingWithCopyWarning: \n",
      "A value is trying to be set on a copy of a slice from a DataFrame.\n",
      "Try using .loc[row_indexer,col_indexer] = value instead\n",
      "\n",
      "See the caveats in the documentation: https://pandas.pydata.org/pandas-docs/stable/user_guide/indexing.html#returning-a-view-versus-a-copy\n",
      "  df['Chromosome'] = ch\n"
     ]
    }
   ],
   "source": [
    "gene_s288c = lat_to_arabic_S288(gene_s288c)\n",
    "TE_s288c = lat_to_arabic_S288(TE_s288c)\n",
    "sno_s288c = lat_to_arabic_S288(sno_s288c)\n",
    "tRNA_s288c = lat_to_arabic_S288(tRNA_s288c)"
   ]
  },
  {
   "cell_type": "code",
   "execution_count": 23,
   "id": "ea5b328c",
   "metadata": {},
   "outputs": [
    {
     "name": "stderr",
     "output_type": "stream",
     "text": [
      "C:\\Users\\user\\AppData\\Local\\Temp\\ipykernel_12224\\741321415.py:10: SettingWithCopyWarning: \n",
      "A value is trying to be set on a copy of a slice from a DataFrame.\n",
      "Try using .loc[row_indexer,col_indexer] = value instead\n",
      "\n",
      "See the caveats in the documentation: https://pandas.pydata.org/pandas-docs/stable/user_guide/indexing.html#returning-a-view-versus-a-copy\n",
      "  DF['Note'] = clean\n",
      "C:\\Users\\user\\AppData\\Local\\Temp\\ipykernel_12224\\741321415.py:11: SettingWithCopyWarning: \n",
      "A value is trying to be set on a copy of a slice from a DataFrame.\n",
      "Try using .loc[row_indexer,col_indexer] = value instead\n",
      "\n",
      "See the caveats in the documentation: https://pandas.pydata.org/pandas-docs/stable/user_guide/indexing.html#returning-a-view-versus-a-copy\n",
      "  DF['display'] = display\n"
     ]
    }
   ],
   "source": [
    "gene_s288c = clean20(gene_s288c)\n",
    "TE_s288c = clean20(TE_s288c)\n",
    "sno_s288c = clean20(sno_s288c)\n",
    "tRNA_s288c = clean20(tRNA_s288c)"
   ]
  },
  {
   "cell_type": "markdown",
   "id": "d2920e19",
   "metadata": {},
   "source": [
    "# TE"
   ]
  },
  {
   "cell_type": "code",
   "execution_count": 24,
   "id": "cd662573",
   "metadata": {},
   "outputs": [],
   "source": [
    "TE.to_excel('TE_liftoff4_yps1009.xlsx')"
   ]
  },
  {
   "cell_type": "code",
   "execution_count": 25,
   "id": "afedef40",
   "metadata": {},
   "outputs": [
    {
     "data": {
      "text/plain": [
       "4     17\n",
       "7     10\n",
       "16     9\n",
       "12     8\n",
       "13     8\n",
       "15     8\n",
       "2      6\n",
       "10     6\n",
       "5      4\n",
       "8      4\n",
       "14     4\n",
       "1      2\n",
       "3      2\n",
       "6      2\n",
       "9      1\n",
       "Name: Chromosome, dtype: int64"
      ]
     },
     "execution_count": 25,
     "metadata": {},
     "output_type": "execute_result"
    }
   ],
   "source": [
    "TE_s288c['Chromosome'].value_counts()"
   ]
  },
  {
   "cell_type": "code",
   "execution_count": 26,
   "id": "63004716",
   "metadata": {},
   "outputs": [
    {
     "data": {
      "text/plain": [
       "7     54\n",
       "12    14\n",
       "4     12\n",
       "5      8\n",
       "2      2\n",
       "6      2\n",
       "15     2\n",
       "3      1\n",
       "1      1\n",
       "8      1\n",
       "16     1\n",
       "10     1\n",
       "Name: Chromosome, dtype: int64"
      ]
     },
     "execution_count": 26,
     "metadata": {},
     "output_type": "execute_result"
    }
   ],
   "source": [
    "TE['Chromosome'].value_counts()"
   ]
  },
  {
   "cell_type": "code",
   "execution_count": 27,
   "id": "54f1cf55",
   "metadata": {},
   "outputs": [
    {
     "data": {
      "text/plain": [
       "1    61\n",
       "0    38\n",
       "Name: valid_ORFs, dtype: int64"
      ]
     },
     "execution_count": 27,
     "metadata": {},
     "output_type": "execute_result"
    }
   ],
   "source": [
    "TE['valid_ORFs'].value_counts()"
   ]
  },
  {
   "cell_type": "code",
   "execution_count": 28,
   "id": "19aaa023",
   "metadata": {},
   "outputs": [],
   "source": [
    "TE_count = TE['Chromosome'].value_counts().to_frame()\n",
    "TE_count = TE_count.rename(columns = {'Chromosome': 'yps1009 TE'})\n",
    "TE_count_s = TE_s288c['Chromosome'].value_counts().to_frame()\n",
    "TE_count_s = TE_count_s.rename(columns = {'Chromosome': 'S288C TE'})"
   ]
  },
  {
   "cell_type": "code",
   "execution_count": 29,
   "id": "6db5428c",
   "metadata": {},
   "outputs": [],
   "source": [
    "TE_count = TE_count_s.join(TE_count)"
   ]
  },
  {
   "cell_type": "code",
   "execution_count": 30,
   "id": "eb2b5881",
   "metadata": {},
   "outputs": [
    {
     "data": {
      "text/html": [
       "<div>\n",
       "<style scoped>\n",
       "    .dataframe tbody tr th:only-of-type {\n",
       "        vertical-align: middle;\n",
       "    }\n",
       "\n",
       "    .dataframe tbody tr th {\n",
       "        vertical-align: top;\n",
       "    }\n",
       "\n",
       "    .dataframe thead th {\n",
       "        text-align: right;\n",
       "    }\n",
       "</style>\n",
       "<table border=\"1\" class=\"dataframe\">\n",
       "  <thead>\n",
       "    <tr style=\"text-align: right;\">\n",
       "      <th></th>\n",
       "      <th>S288C TE</th>\n",
       "      <th>yps1009 TE</th>\n",
       "    </tr>\n",
       "  </thead>\n",
       "  <tbody>\n",
       "    <tr>\n",
       "      <th>4</th>\n",
       "      <td>17</td>\n",
       "      <td>12.0</td>\n",
       "    </tr>\n",
       "    <tr>\n",
       "      <th>7</th>\n",
       "      <td>10</td>\n",
       "      <td>54.0</td>\n",
       "    </tr>\n",
       "    <tr>\n",
       "      <th>16</th>\n",
       "      <td>9</td>\n",
       "      <td>1.0</td>\n",
       "    </tr>\n",
       "    <tr>\n",
       "      <th>12</th>\n",
       "      <td>8</td>\n",
       "      <td>14.0</td>\n",
       "    </tr>\n",
       "    <tr>\n",
       "      <th>13</th>\n",
       "      <td>8</td>\n",
       "      <td>NaN</td>\n",
       "    </tr>\n",
       "    <tr>\n",
       "      <th>15</th>\n",
       "      <td>8</td>\n",
       "      <td>2.0</td>\n",
       "    </tr>\n",
       "    <tr>\n",
       "      <th>2</th>\n",
       "      <td>6</td>\n",
       "      <td>2.0</td>\n",
       "    </tr>\n",
       "    <tr>\n",
       "      <th>10</th>\n",
       "      <td>6</td>\n",
       "      <td>1.0</td>\n",
       "    </tr>\n",
       "    <tr>\n",
       "      <th>5</th>\n",
       "      <td>4</td>\n",
       "      <td>8.0</td>\n",
       "    </tr>\n",
       "    <tr>\n",
       "      <th>8</th>\n",
       "      <td>4</td>\n",
       "      <td>1.0</td>\n",
       "    </tr>\n",
       "    <tr>\n",
       "      <th>14</th>\n",
       "      <td>4</td>\n",
       "      <td>NaN</td>\n",
       "    </tr>\n",
       "    <tr>\n",
       "      <th>1</th>\n",
       "      <td>2</td>\n",
       "      <td>1.0</td>\n",
       "    </tr>\n",
       "    <tr>\n",
       "      <th>3</th>\n",
       "      <td>2</td>\n",
       "      <td>1.0</td>\n",
       "    </tr>\n",
       "    <tr>\n",
       "      <th>6</th>\n",
       "      <td>2</td>\n",
       "      <td>2.0</td>\n",
       "    </tr>\n",
       "    <tr>\n",
       "      <th>9</th>\n",
       "      <td>1</td>\n",
       "      <td>NaN</td>\n",
       "    </tr>\n",
       "  </tbody>\n",
       "</table>\n",
       "</div>"
      ],
      "text/plain": [
       "    S288C TE  yps1009 TE\n",
       "4         17        12.0\n",
       "7         10        54.0\n",
       "16         9         1.0\n",
       "12         8        14.0\n",
       "13         8         NaN\n",
       "15         8         2.0\n",
       "2          6         2.0\n",
       "10         6         1.0\n",
       "5          4         8.0\n",
       "8          4         1.0\n",
       "14         4         NaN\n",
       "1          2         1.0\n",
       "3          2         1.0\n",
       "6          2         2.0\n",
       "9          1         NaN"
      ]
     },
     "execution_count": 30,
     "metadata": {},
     "output_type": "execute_result"
    }
   ],
   "source": [
    "TE_count"
   ]
  },
  {
   "cell_type": "code",
   "execution_count": 31,
   "id": "e051b7e5",
   "metadata": {},
   "outputs": [],
   "source": [
    "TE7_yps = list(TE[TE['Chromosome'] == 7]['Name'])\n",
    "TE7_s288 = list(TE_s288c[TE_s288c['Chromosome'] == 7]['Name'])"
   ]
  },
  {
   "cell_type": "code",
   "execution_count": 32,
   "id": "c7d0810a",
   "metadata": {},
   "outputs": [
    {
     "data": {
      "text/plain": [
       "{'YGR027W-A', 'YGR027W-B', 'YGR038C-A', 'YGR038C-B', 'YGR161C-C'}"
      ]
     },
     "execution_count": 32,
     "metadata": {},
     "output_type": "execute_result"
    }
   ],
   "source": [
    "set(TE7_s288) & set(TE7_yps)"
   ]
  },
  {
   "cell_type": "code",
   "execution_count": 33,
   "id": "548569f0",
   "metadata": {},
   "outputs": [
    {
     "data": {
      "text/plain": [
       "1    61\n",
       "0    38\n",
       "Name: valid_ORFs, dtype: int64"
      ]
     },
     "execution_count": 33,
     "metadata": {},
     "output_type": "execute_result"
    }
   ],
   "source": [
    "TE['valid_ORFs'].value_counts()"
   ]
  },
  {
   "cell_type": "code",
   "execution_count": null,
   "id": "59ce1fe0",
   "metadata": {},
   "outputs": [],
   "source": []
  },
  {
   "cell_type": "code",
   "execution_count": 34,
   "id": "1ec45b2d",
   "metadata": {},
   "outputs": [
    {
     "data": {
      "text/html": [
       "<div>\n",
       "<style scoped>\n",
       "    .dataframe tbody tr th:only-of-type {\n",
       "        vertical-align: middle;\n",
       "    }\n",
       "\n",
       "    .dataframe tbody tr th {\n",
       "        vertical-align: top;\n",
       "    }\n",
       "\n",
       "    .dataframe thead th {\n",
       "        text-align: right;\n",
       "    }\n",
       "</style>\n",
       "<table border=\"1\" class=\"dataframe\">\n",
       "  <thead>\n",
       "    <tr style=\"text-align: right;\">\n",
       "      <th></th>\n",
       "      <th>seq_id</th>\n",
       "      <th>start</th>\n",
       "      <th>end</th>\n",
       "      <th>Name</th>\n",
       "      <th>Alias</th>\n",
       "      <th>Note</th>\n",
       "      <th>Ontology_term</th>\n",
       "      <th>score</th>\n",
       "      <th>strand</th>\n",
       "      <th>phase</th>\n",
       "      <th>copy_num_ID</th>\n",
       "      <th>coverage</th>\n",
       "      <th>curie</th>\n",
       "      <th>display</th>\n",
       "      <th>extra_copy_number</th>\n",
       "      <th>sequence_ID</th>\n",
       "      <th>valid_ORFs</th>\n",
       "      <th>Chromosome</th>\n",
       "      <th>Contig</th>\n",
       "    </tr>\n",
       "  </thead>\n",
       "  <tbody>\n",
       "    <tr>\n",
       "      <th>5939</th>\n",
       "      <td>chrI_tig00000033</td>\n",
       "      <td>177837</td>\n",
       "      <td>179152</td>\n",
       "      <td>YDR034C-C</td>\n",
       "      <td>gag%20protein</td>\n",
       "      <td>Retrotransposon TYA Gag gene co-transcribed wi...</td>\n",
       "      <td>GO:0000943,GO:0003723,GO:0032197,SO:0000704</td>\n",
       "      <td>.</td>\n",
       "      <td>+</td>\n",
       "      <td>.</td>\n",
       "      <td>YDR034C-C_4</td>\n",
       "      <td>0.999</td>\n",
       "      <td>SGD:S000007344</td>\n",
       "      <td>Retrotransposon TYA Gag gene co-transcribed wi...</td>\n",
       "      <td>4</td>\n",
       "      <td>0.973</td>\n",
       "      <td>0</td>\n",
       "      <td>1</td>\n",
       "      <td>tig00000033</td>\n",
       "    </tr>\n",
       "  </tbody>\n",
       "</table>\n",
       "</div>"
      ],
      "text/plain": [
       "                seq_id   start     end       Name          Alias  \\\n",
       "5939  chrI_tig00000033  177837  179152  YDR034C-C  gag%20protein   \n",
       "\n",
       "                                                   Note  \\\n",
       "5939  Retrotransposon TYA Gag gene co-transcribed wi...   \n",
       "\n",
       "                                    Ontology_term score strand phase  \\\n",
       "5939  GO:0000943,GO:0003723,GO:0032197,SO:0000704     .      +     .   \n",
       "\n",
       "      copy_num_ID coverage           curie  \\\n",
       "5939  YDR034C-C_4    0.999  SGD:S000007344   \n",
       "\n",
       "                                                display extra_copy_number  \\\n",
       "5939  Retrotransposon TYA Gag gene co-transcribed wi...                 4   \n",
       "\n",
       "     sequence_ID valid_ORFs  Chromosome       Contig  \n",
       "5939       0.973          0           1  tig00000033  "
      ]
     },
     "execution_count": 34,
     "metadata": {},
     "output_type": "execute_result"
    }
   ],
   "source": [
    "TE[TE['Chromosome'] == 1]"
   ]
  },
  {
   "cell_type": "markdown",
   "id": "ec032b45",
   "metadata": {},
   "source": [
    "# snoRNA"
   ]
  },
  {
   "cell_type": "code",
   "execution_count": 35,
   "id": "7726d381",
   "metadata": {},
   "outputs": [],
   "source": [
    "sno_count = sno['Chromosome'].value_counts().to_frame()\n",
    "sno_count = sno_count.rename(columns = {'Chromosome': 'yps1009 snoRNA'})\n",
    "sno_count_s = sno_s288c['Chromosome'].value_counts().to_frame()\n",
    "sno_count_s = sno_count_s.rename(columns = {'Chromosome': 'S288C snoRNA'})\n",
    "sno_count = sno_count_s.join(sno_count)"
   ]
  },
  {
   "cell_type": "code",
   "execution_count": 36,
   "id": "0d0ff52b",
   "metadata": {},
   "outputs": [
    {
     "data": {
      "text/html": [
       "<div>\n",
       "<style scoped>\n",
       "    .dataframe tbody tr th:only-of-type {\n",
       "        vertical-align: middle;\n",
       "    }\n",
       "\n",
       "    .dataframe tbody tr th {\n",
       "        vertical-align: top;\n",
       "    }\n",
       "\n",
       "    .dataframe thead th {\n",
       "        text-align: right;\n",
       "    }\n",
       "</style>\n",
       "<table border=\"1\" class=\"dataframe\">\n",
       "  <thead>\n",
       "    <tr style=\"text-align: right;\">\n",
       "      <th></th>\n",
       "      <th>S288C snoRNA</th>\n",
       "      <th>yps1009 snoRNA</th>\n",
       "    </tr>\n",
       "  </thead>\n",
       "  <tbody>\n",
       "    <tr>\n",
       "      <th>13</th>\n",
       "      <td>13</td>\n",
       "      <td>13</td>\n",
       "    </tr>\n",
       "    <tr>\n",
       "      <th>15</th>\n",
       "      <td>11</td>\n",
       "      <td>11</td>\n",
       "    </tr>\n",
       "    <tr>\n",
       "      <th>12</th>\n",
       "      <td>7</td>\n",
       "      <td>7</td>\n",
       "    </tr>\n",
       "    <tr>\n",
       "      <th>7</th>\n",
       "      <td>6</td>\n",
       "      <td>6</td>\n",
       "    </tr>\n",
       "    <tr>\n",
       "      <th>16</th>\n",
       "      <td>6</td>\n",
       "      <td>6</td>\n",
       "    </tr>\n",
       "    <tr>\n",
       "      <th>5</th>\n",
       "      <td>5</td>\n",
       "      <td>5</td>\n",
       "    </tr>\n",
       "    <tr>\n",
       "      <th>10</th>\n",
       "      <td>5</td>\n",
       "      <td>5</td>\n",
       "    </tr>\n",
       "    <tr>\n",
       "      <th>11</th>\n",
       "      <td>5</td>\n",
       "      <td>5</td>\n",
       "    </tr>\n",
       "    <tr>\n",
       "      <th>14</th>\n",
       "      <td>5</td>\n",
       "      <td>5</td>\n",
       "    </tr>\n",
       "    <tr>\n",
       "      <th>3</th>\n",
       "      <td>4</td>\n",
       "      <td>4</td>\n",
       "    </tr>\n",
       "    <tr>\n",
       "      <th>4</th>\n",
       "      <td>4</td>\n",
       "      <td>4</td>\n",
       "    </tr>\n",
       "    <tr>\n",
       "      <th>2</th>\n",
       "      <td>2</td>\n",
       "      <td>2</td>\n",
       "    </tr>\n",
       "    <tr>\n",
       "      <th>8</th>\n",
       "      <td>2</td>\n",
       "      <td>2</td>\n",
       "    </tr>\n",
       "    <tr>\n",
       "      <th>1</th>\n",
       "      <td>1</td>\n",
       "      <td>1</td>\n",
       "    </tr>\n",
       "    <tr>\n",
       "      <th>9</th>\n",
       "      <td>1</td>\n",
       "      <td>1</td>\n",
       "    </tr>\n",
       "  </tbody>\n",
       "</table>\n",
       "</div>"
      ],
      "text/plain": [
       "    S288C snoRNA  yps1009 snoRNA\n",
       "13            13              13\n",
       "15            11              11\n",
       "12             7               7\n",
       "7              6               6\n",
       "16             6               6\n",
       "5              5               5\n",
       "10             5               5\n",
       "11             5               5\n",
       "14             5               5\n",
       "3              4               4\n",
       "4              4               4\n",
       "2              2               2\n",
       "8              2               2\n",
       "1              1               1\n",
       "9              1               1"
      ]
     },
     "execution_count": 36,
     "metadata": {},
     "output_type": "execute_result"
    }
   ],
   "source": [
    "sno_count"
   ]
  },
  {
   "cell_type": "markdown",
   "id": "530e98aa",
   "metadata": {},
   "source": [
    "# tRNA"
   ]
  },
  {
   "cell_type": "code",
   "execution_count": 37,
   "id": "4962e83e",
   "metadata": {},
   "outputs": [
    {
     "data": {
      "text/plain": [
       "0    299\n",
       "1     22\n",
       "Name: extra_copy_number, dtype: int64"
      ]
     },
     "execution_count": 37,
     "metadata": {},
     "output_type": "execute_result"
    }
   ],
   "source": [
    "tRNA['extra_copy_number'].value_counts()"
   ]
  },
  {
   "cell_type": "code",
   "execution_count": 38,
   "id": "bbef7664",
   "metadata": {},
   "outputs": [],
   "source": [
    "tRNA_count = tRNA['Chromosome'].value_counts().to_frame()\n",
    "tRNA_count = tRNA_count.rename(columns = {'Chromosome': 'yps1009 tRNARNA'})\n",
    "tRNA_count_s = tRNA_s288c['Chromosome'].value_counts().to_frame()\n",
    "tRNA_count_s = tRNA_count_s.rename(columns = {'Chromosome': 'S288C tRNARNA'})\n",
    "tRNA_count = tRNA_count_s.join(tRNA_count)"
   ]
  },
  {
   "cell_type": "code",
   "execution_count": 39,
   "id": "bda5f137",
   "metadata": {},
   "outputs": [
    {
     "data": {
      "text/html": [
       "<div>\n",
       "<style scoped>\n",
       "    .dataframe tbody tr th:only-of-type {\n",
       "        vertical-align: middle;\n",
       "    }\n",
       "\n",
       "    .dataframe tbody tr th {\n",
       "        vertical-align: top;\n",
       "    }\n",
       "\n",
       "    .dataframe thead th {\n",
       "        text-align: right;\n",
       "    }\n",
       "</style>\n",
       "<table border=\"1\" class=\"dataframe\">\n",
       "  <thead>\n",
       "    <tr style=\"text-align: right;\">\n",
       "      <th></th>\n",
       "      <th>S288C tRNARNA</th>\n",
       "      <th>yps1009 tRNARNA</th>\n",
       "    </tr>\n",
       "  </thead>\n",
       "  <tbody>\n",
       "    <tr>\n",
       "      <th>7</th>\n",
       "      <td>36</td>\n",
       "      <td>38</td>\n",
       "    </tr>\n",
       "    <tr>\n",
       "      <th>4</th>\n",
       "      <td>28</td>\n",
       "      <td>30</td>\n",
       "    </tr>\n",
       "    <tr>\n",
       "      <th>mitoch</th>\n",
       "      <td>24</td>\n",
       "      <td>26</td>\n",
       "    </tr>\n",
       "    <tr>\n",
       "      <th>10</th>\n",
       "      <td>24</td>\n",
       "      <td>27</td>\n",
       "    </tr>\n",
       "    <tr>\n",
       "      <th>12</th>\n",
       "      <td>21</td>\n",
       "      <td>22</td>\n",
       "    </tr>\n",
       "    <tr>\n",
       "      <th>13</th>\n",
       "      <td>21</td>\n",
       "      <td>22</td>\n",
       "    </tr>\n",
       "    <tr>\n",
       "      <th>5</th>\n",
       "      <td>20</td>\n",
       "      <td>21</td>\n",
       "    </tr>\n",
       "    <tr>\n",
       "      <th>15</th>\n",
       "      <td>20</td>\n",
       "      <td>20</td>\n",
       "    </tr>\n",
       "    <tr>\n",
       "      <th>16</th>\n",
       "      <td>17</td>\n",
       "      <td>18</td>\n",
       "    </tr>\n",
       "    <tr>\n",
       "      <th>11</th>\n",
       "      <td>16</td>\n",
       "      <td>18</td>\n",
       "    </tr>\n",
       "    <tr>\n",
       "      <th>14</th>\n",
       "      <td>14</td>\n",
       "      <td>14</td>\n",
       "    </tr>\n",
       "    <tr>\n",
       "      <th>2</th>\n",
       "      <td>13</td>\n",
       "      <td>13</td>\n",
       "    </tr>\n",
       "    <tr>\n",
       "      <th>8</th>\n",
       "      <td>11</td>\n",
       "      <td>13</td>\n",
       "    </tr>\n",
       "    <tr>\n",
       "      <th>9</th>\n",
       "      <td>10</td>\n",
       "      <td>11</td>\n",
       "    </tr>\n",
       "    <tr>\n",
       "      <th>6</th>\n",
       "      <td>10</td>\n",
       "      <td>11</td>\n",
       "    </tr>\n",
       "    <tr>\n",
       "      <th>3</th>\n",
       "      <td>10</td>\n",
       "      <td>13</td>\n",
       "    </tr>\n",
       "    <tr>\n",
       "      <th>1</th>\n",
       "      <td>4</td>\n",
       "      <td>4</td>\n",
       "    </tr>\n",
       "  </tbody>\n",
       "</table>\n",
       "</div>"
      ],
      "text/plain": [
       "        S288C tRNARNA  yps1009 tRNARNA\n",
       "7                  36               38\n",
       "4                  28               30\n",
       "mitoch             24               26\n",
       "10                 24               27\n",
       "12                 21               22\n",
       "13                 21               22\n",
       "5                  20               21\n",
       "15                 20               20\n",
       "16                 17               18\n",
       "11                 16               18\n",
       "14                 14               14\n",
       "2                  13               13\n",
       "8                  11               13\n",
       "9                  10               11\n",
       "6                  10               11\n",
       "3                  10               13\n",
       "1                   4                4"
      ]
     },
     "execution_count": 39,
     "metadata": {},
     "output_type": "execute_result"
    }
   ],
   "source": [
    "tRNA_count"
   ]
  },
  {
   "cell_type": "markdown",
   "id": "8effbe52",
   "metadata": {},
   "source": [
    "# GENE"
   ]
  },
  {
   "cell_type": "code",
   "execution_count": 40,
   "id": "c117842e",
   "metadata": {},
   "outputs": [
    {
     "data": {
      "text/plain": [
       "Verified           5249\n",
       "Uncharacterized     737\n",
       "Dubious             719\n",
       "Name: orf_classification, dtype: int64"
      ]
     },
     "execution_count": 40,
     "metadata": {},
     "output_type": "execute_result"
    }
   ],
   "source": [
    "gene['orf_classification'].value_counts()"
   ]
  },
  {
   "cell_type": "code",
   "execution_count": 41,
   "id": "6b91315f",
   "metadata": {},
   "outputs": [
    {
     "data": {
      "text/plain": [
       "1    524\n",
       "0    195\n",
       "Name: valid_ORFs, dtype: int64"
      ]
     },
     "execution_count": 41,
     "metadata": {},
     "output_type": "execute_result"
    }
   ],
   "source": [
    "dubious = gene[gene['orf_classification'] == 'Dubious']\n",
    "dubious['valid_ORFs'].value_counts()"
   ]
  },
  {
   "cell_type": "code",
   "execution_count": 42,
   "id": "fd97eac3",
   "metadata": {},
   "outputs": [
    {
     "data": {
      "text/plain": [
       "1    564\n",
       "0    173\n",
       "Name: valid_ORFs, dtype: int64"
      ]
     },
     "execution_count": 42,
     "metadata": {},
     "output_type": "execute_result"
    }
   ],
   "source": [
    "uncharacterized = gene[gene['orf_classification'] == 'Uncharacterized']\n",
    "uncharacterized['valid_ORFs'].value_counts()"
   ]
  },
  {
   "cell_type": "markdown",
   "id": "e8b062b2",
   "metadata": {},
   "source": [
    "# Verified ORF"
   ]
  },
  {
   "cell_type": "code",
   "execution_count": 43,
   "id": "faddeacc",
   "metadata": {},
   "outputs": [],
   "source": [
    "verified = gene[gene['orf_classification'] == 'Verified']"
   ]
  },
  {
   "cell_type": "code",
   "execution_count": 44,
   "id": "7b49021f",
   "metadata": {},
   "outputs": [
    {
     "data": {
      "text/plain": [
       "1    5087\n",
       "0     162\n",
       "Name: valid_ORFs, dtype: int64"
      ]
     },
     "execution_count": 44,
     "metadata": {},
     "output_type": "execute_result"
    }
   ],
   "source": [
    "verified['valid_ORFs'].value_counts()"
   ]
  },
  {
   "cell_type": "code",
   "execution_count": 77,
   "id": "bd6300ca",
   "metadata": {},
   "outputs": [],
   "source": [
    "verified_s288c = gene_s288c[gene_s288c['orf_classification'] == 'Verified']"
   ]
  },
  {
   "cell_type": "code",
   "execution_count": 79,
   "id": "d019b4f8",
   "metadata": {},
   "outputs": [
    {
     "data": {
      "text/plain": [
       "(5216, 14)"
      ]
     },
     "execution_count": 79,
     "metadata": {},
     "output_type": "execute_result"
    }
   ],
   "source": [
    "verified_s288c.shape"
   ]
  },
  {
   "cell_type": "code",
   "execution_count": 80,
   "id": "6a766625",
   "metadata": {},
   "outputs": [],
   "source": [
    "verified_valid = verified[verified['valid_ORFs'] == '1']\n",
    "verified_unvalid = verified[verified['valid_ORFs'] == '0']\n",
    "\n",
    "verified_valid_count = verified_valid['Chromosome'].value_counts().to_frame()\n",
    "verified_valid_count = verified_valid_count.rename(columns={'Chromosome': 'Number valid genes'})\n",
    "verified_unvalid_count = verified_unvalid['Chromosome'].value_counts().to_frame()\n",
    "verified_unvalid_count = verified_unvalid_count.rename(columns={'Chromosome': 'Number unvalid genes'})"
   ]
  },
  {
   "cell_type": "code",
   "execution_count": 81,
   "id": "307aec99",
   "metadata": {},
   "outputs": [
    {
     "data": {
      "text/html": [
       "<div>\n",
       "<style scoped>\n",
       "    .dataframe tbody tr th:only-of-type {\n",
       "        vertical-align: middle;\n",
       "    }\n",
       "\n",
       "    .dataframe tbody tr th {\n",
       "        vertical-align: top;\n",
       "    }\n",
       "\n",
       "    .dataframe thead th {\n",
       "        text-align: right;\n",
       "    }\n",
       "</style>\n",
       "<table border=\"1\" class=\"dataframe\">\n",
       "  <thead>\n",
       "    <tr style=\"text-align: right;\">\n",
       "      <th></th>\n",
       "      <th>seq_id</th>\n",
       "      <th>start</th>\n",
       "      <th>end</th>\n",
       "      <th>Name</th>\n",
       "      <th>Alias</th>\n",
       "      <th>Note</th>\n",
       "      <th>Ontology_term</th>\n",
       "      <th>score</th>\n",
       "      <th>strand</th>\n",
       "      <th>phase</th>\n",
       "      <th>...</th>\n",
       "      <th>display</th>\n",
       "      <th>extra_copy_number</th>\n",
       "      <th>gene</th>\n",
       "      <th>low_identity</th>\n",
       "      <th>orf_classification</th>\n",
       "      <th>partial_mapping</th>\n",
       "      <th>sequence_ID</th>\n",
       "      <th>valid_ORFs</th>\n",
       "      <th>Chromosome</th>\n",
       "      <th>Contig</th>\n",
       "    </tr>\n",
       "  </thead>\n",
       "  <tbody>\n",
       "    <tr>\n",
       "      <th>0</th>\n",
       "      <td>chrII-2_tig00004927</td>\n",
       "      <td>8297</td>\n",
       "      <td>10119</td>\n",
       "      <td>YBR298C</td>\n",
       "      <td>MAL31,MAL3T,MALT,maltose%20permease</td>\n",
       "      <td>Maltose permease%3B high-affinity maltose tran...</td>\n",
       "      <td>GO:0000017,GO:0005352,GO:0071944,SO:0000704</td>\n",
       "      <td>.</td>\n",
       "      <td>-</td>\n",
       "      <td>.</td>\n",
       "      <td>...</td>\n",
       "      <td>Maltose permease</td>\n",
       "      <td>1</td>\n",
       "      <td>MAL31</td>\n",
       "      <td>None</td>\n",
       "      <td>Verified</td>\n",
       "      <td>None</td>\n",
       "      <td>0.946</td>\n",
       "      <td>0</td>\n",
       "      <td>2</td>\n",
       "      <td>tig00004927</td>\n",
       "    </tr>\n",
       "    <tr>\n",
       "      <th>6</th>\n",
       "      <td>chrII-2_tig00004927</td>\n",
       "      <td>10985</td>\n",
       "      <td>12717</td>\n",
       "      <td>YBR299W</td>\n",
       "      <td>MAL32,MAL3S,MALS,alpha-glucosidase%20MAL32</td>\n",
       "      <td>Maltase %28alpha-D-glucosidase%29%3B inducible...</td>\n",
       "      <td>GO:0000025,GO:0004575,GO:0005886,GO:0005987,GO...</td>\n",
       "      <td>.</td>\n",
       "      <td>+</td>\n",
       "      <td>.</td>\n",
       "      <td>...</td>\n",
       "      <td>Maltase %28alpha-D-glucosidase%29</td>\n",
       "      <td>1</td>\n",
       "      <td>MAL32</td>\n",
       "      <td>None</td>\n",
       "      <td>Verified</td>\n",
       "      <td>None</td>\n",
       "      <td>0.981</td>\n",
       "      <td>0</td>\n",
       "      <td>2</td>\n",
       "      <td>tig00004927</td>\n",
       "    </tr>\n",
       "  </tbody>\n",
       "</table>\n",
       "<p>2 rows × 23 columns</p>\n",
       "</div>"
      ],
      "text/plain": [
       "                seq_id  start    end     Name  \\\n",
       "0  chrII-2_tig00004927   8297  10119  YBR298C   \n",
       "6  chrII-2_tig00004927  10985  12717  YBR299W   \n",
       "\n",
       "                                        Alias  \\\n",
       "0         MAL31,MAL3T,MALT,maltose%20permease   \n",
       "6  MAL32,MAL3S,MALS,alpha-glucosidase%20MAL32   \n",
       "\n",
       "                                                Note  \\\n",
       "0  Maltose permease%3B high-affinity maltose tran...   \n",
       "6  Maltase %28alpha-D-glucosidase%29%3B inducible...   \n",
       "\n",
       "                                       Ontology_term score strand phase  ...  \\\n",
       "0        GO:0000017,GO:0005352,GO:0071944,SO:0000704     .      -     .  ...   \n",
       "6  GO:0000025,GO:0004575,GO:0005886,GO:0005987,GO...     .      +     .  ...   \n",
       "\n",
       "                             display extra_copy_number   gene low_identity  \\\n",
       "0                   Maltose permease                 1  MAL31         None   \n",
       "6  Maltase %28alpha-D-glucosidase%29                 1  MAL32         None   \n",
       "\n",
       "  orf_classification partial_mapping sequence_ID valid_ORFs Chromosome  \\\n",
       "0           Verified            None       0.946          0          2   \n",
       "6           Verified            None       0.981          0          2   \n",
       "\n",
       "        Contig  \n",
       "0  tig00004927  \n",
       "6  tig00004927  \n",
       "\n",
       "[2 rows x 23 columns]"
      ]
     },
     "execution_count": 81,
     "metadata": {},
     "output_type": "execute_result"
    }
   ],
   "source": [
    "verified_unvalid.head(2)"
   ]
  },
  {
   "cell_type": "code",
   "execution_count": 82,
   "id": "32c1a04f",
   "metadata": {},
   "outputs": [],
   "source": [
    "unval_dic = {}\n",
    "for ind, row in verified_unvalid.iterrows():\n",
    "    if row['Chromosome'] in unval_dic:\n",
    "        unval_dic[row['Chromosome']] = unval_dic[row['Chromosome']] + [row['Name']]\n",
    "    else:\n",
    "        unval_dic[row['Chromosome']] = [row['Name']]    "
   ]
  },
  {
   "cell_type": "code",
   "execution_count": 83,
   "id": "63ab8ca2",
   "metadata": {},
   "outputs": [],
   "source": [
    "verified_sum = verified_valid_count.join(verified_unvalid_count)"
   ]
  },
  {
   "cell_type": "code",
   "execution_count": 84,
   "id": "52c99402",
   "metadata": {},
   "outputs": [],
   "source": [
    "tmp = []\n",
    "for ind in verified_sum.index:\n",
    "    tmp.append(unval_dic[ind])"
   ]
  },
  {
   "cell_type": "code",
   "execution_count": 85,
   "id": "ec34117a",
   "metadata": {},
   "outputs": [],
   "source": [
    "verified_sum['unvalid genes'] = tmp"
   ]
  },
  {
   "cell_type": "code",
   "execution_count": null,
   "id": "e7ad4015",
   "metadata": {},
   "outputs": [],
   "source": [
    "tmp = []\n",
    "count = []\n",
    "for Ch in verified_sum.index:\n",
    "    s288 = verifiedS288C[verifiedS288C['S288C Chromosome'] == Ch]\n",
    "    yps = verified[verified['Chromosome'] == Ch]\n",
    "    tmp.append(list(set(s288.index) - set(yps['Name'])))\n",
    "    count.append(len(list(set(s288.index) - set(yps['Name']))))"
   ]
  },
  {
   "cell_type": "code",
   "execution_count": null,
   "id": "0e731ec9",
   "metadata": {},
   "outputs": [],
   "source": [
    "verified_sum['Number of missing genes'] = count\n",
    "verified_sum['Missing verified genes'] = tmp"
   ]
  },
  {
   "cell_type": "code",
   "execution_count": null,
   "id": "385874ef",
   "metadata": {},
   "outputs": [],
   "source": [
    "verified_sum"
   ]
  },
  {
   "cell_type": "code",
   "execution_count": null,
   "id": "5a783f74",
   "metadata": {},
   "outputs": [],
   "source": [
    "verified_sum.sum"
   ]
  },
  {
   "cell_type": "code",
   "execution_count": null,
   "id": "9ad232b2",
   "metadata": {},
   "outputs": [],
   "source": [
    "verified_sum.to_excel('verified_genes_summary.xlsx')"
   ]
  },
  {
   "cell_type": "markdown",
   "id": "0b43324b",
   "metadata": {},
   "source": [
    "# Blast"
   ]
  },
  {
   "cell_type": "code",
   "execution_count": null,
   "id": "3fd80818",
   "metadata": {},
   "outputs": [],
   "source": [
    "\n",
    "# Import Biopython tools for running local BLASTX\n",
    "from Bio.Blast.Applications import NcbiblastnCommandline"
   ]
  },
  {
   "cell_type": "markdown",
   "id": "0613ee57",
   "metadata": {},
   "source": [
    "# Chromosome IV\n",
    "[YDR385W, YDR542W, YDL248W, YDR545W, YDL244W]"
   ]
  },
  {
   "cell_type": "code",
   "execution_count": null,
   "id": "aa42fcbd",
   "metadata": {},
   "outputs": [],
   "source": [
    "cmd_blastn = NcbiblastnCommandline(query= 'fasta_file/S288C_YDR038C_ENA5_genomic.fsa', out='Blast_results/YDR038C.tab', evalue=0.001, db= 'YPS1009_DB/YPS1009_DB')"
   ]
  },
  {
   "cell_type": "code",
   "execution_count": null,
   "id": "82a58ff0",
   "metadata": {},
   "outputs": [],
   "source": [
    "cmd_blastn = NcbiblastnCommandline(query= 'fasta_file/S288C_YDR039C_ENA2_genomic.fsa', out='Blast_results/YDR039C.tab', evalue=0.001, db= 'YPS1009_DB/YPS1009_DB')\n",
    "stdout, stderr = cmd_blastn()\n",
    "# Check STDOUT, STDERR\n",
    "print(\"STDOUT: %s\" % stdout)\n",
    "print(\"STDERR: %s\" % stderr)"
   ]
  },
  {
   "cell_type": "code",
   "execution_count": null,
   "id": "720236b2",
   "metadata": {},
   "outputs": [],
   "source": [
    "cmd_blastn = NcbiblastnCommandline(query= 'fasta_file/S288C_YDR545W_YRF1-1_genomic.fsa', out='Blast_results/YDR545W.tab', evalue=0.001, db= 'YPS1009_DB/YPS1009_DB')\n",
    "stdout, stderr = cmd_blastn()\n",
    "# Check STDOUT, STDERR\n",
    "print(\"STDOUT: %s\" % stdout)\n",
    "print(\"STDERR: %s\" % stderr)"
   ]
  },
  {
   "cell_type": "code",
   "execution_count": null,
   "id": "8b6b5931",
   "metadata": {},
   "outputs": [],
   "source": [
    "verified[verified['Name'] == 'YDR545W']"
   ]
  },
  {
   "cell_type": "markdown",
   "id": "ee4d1c07",
   "metadata": {},
   "source": [
    "Chromosome 4: 2 near centromere, 1 at the very end of teleomere\n",
    "at centromere: ENA2 and ENA5 : next to each other, Na(+)-exporting P-type ATPase ENA2\n",
    "ENA5 align with 90% identity to contig tig00000001 IV\n",
    "ENA2 align to exactly the same region of contig IV, with 90% identity, duplication in s288C?\n",
    "\n",
    "YRF1 align to contig >tig00000015 on chromosome V with 97% identity, at the very end/beginning (complement?)\n",
    "Liftoff did not detect YRF1 on chromosome V. \n",
    "\n",
    "Is it a valid ORF, is there easy tool to check that?"
   ]
  },
  {
   "cell_type": "markdown",
   "id": "1c8fcaeb",
   "metadata": {},
   "source": [
    "# Chromosome I"
   ]
  },
  {
   "cell_type": "code",
   "execution_count": null,
   "id": "33685886",
   "metadata": {},
   "outputs": [],
   "source": [
    "cmd_blastn = NcbiblastnCommandline(query= 'fasta_file/S288C_YAL063C_FLO9_genomic.fsa', out='Blast_results/YAL063C.tab', evalue=0.001, db= 'YPS1009_DB/YPS1009_DB')\n",
    "stdout, stderr = cmd_blastn()\n",
    "# Check STDOUT, STDERR\n",
    "print(\"STDOUT: %s\" % stdout)\n",
    "print(\"STDERR: %s\" % stderr)\n",
    "cmd_blastn = NcbiblastnCommandline(query= 'fasta_file/S288C_YAR027W_UIP3_genomic.fsa', out='Blast_results/YAR027W.tab', evalue=0.001, db= 'YPS1009_DB/YPS1009_DB')\n",
    "stdout, stderr = cmd_blastn()\n",
    "# Check STDOUT, STDERR\n",
    "print(\"STDOUT: %s\" % stdout)\n",
    "print(\"STDERR: %s\" % stderr)"
   ]
  },
  {
   "cell_type": "markdown",
   "id": "c6dd360e",
   "metadata": {},
   "source": [
    "FLO9:\n",
    "2 matches: score    e-val\n",
    "tig00000033 I 2691    0.0  12 gap   86% identity\n",
    "tig00000017 VIII  1718    0.0  57 gap \n",
    "\n",
    "UIP3: \n",
    "2 matches\n",
    "tig00000033 I  233     3e-61  87% identity 6 gap alignment without stop codon at the end.\n",
    "tig00004928 VII  171     3e-42  82% 6 gap, alignment finish with stop codon"
   ]
  },
  {
   "cell_type": "markdown",
   "id": "4cf896fd",
   "metadata": {},
   "source": [
    "# Chromosome II"
   ]
  },
  {
   "cell_type": "code",
   "execution_count": null,
   "id": "89aef4c1",
   "metadata": {},
   "outputs": [],
   "source": [
    "cmd_blastn = NcbiblastnCommandline(query= 'fasta_file/S288C_YBL108C-A_PAU9_genomic.fsa', out='Blast_results/YBL108C.tab', evalue=0.001, db= 'YPS1009_DB/YPS1009_DB')\n",
    "stdout, stderr = cmd_blastn()\n",
    "# Check STDOUT, STDERR\n",
    "print(\"STDOUT: %s\" % stdout)\n",
    "print(\"STDERR: %s\" % stderr)\n",
    "cmd_blastn = NcbiblastnCommandline(query= 'fasta_file/S288C_YBL111C_YBL111C_genomic.fsa', out='Blast_results/YBL111C.tab', evalue=0.001, db= 'YPS1009_DB/YPS1009_DB')\n",
    "stdout, stderr = cmd_blastn()\n",
    "# Check STDOUT, STDERR\n",
    "print(\"STDOUT: %s\" % stdout)\n",
    "print(\"STDERR: %s\" % stderr)\n",
    "cmd_blastn = NcbiblastnCommandline(query= 'fasta_file/S288C_YBR298C_MAL31_genomic.fsa', out='Blast_results/YBR298C.tab', evalue=0.001, db= 'YPS1009_DB/YPS1009_DB')\n",
    "stdout, stderr = cmd_blastn()\n",
    "# Check STDOUT, STDERR\n",
    "print(\"STDOUT: %s\" % stdout)\n",
    "print(\"STDERR: %s\" % stderr)"
   ]
  },
  {
   "cell_type": "code",
   "execution_count": null,
   "id": "762f71db",
   "metadata": {},
   "outputs": [],
   "source": [
    "verified[verified['Name'] == 'YBL111C']"
   ]
  },
  {
   "cell_type": "raw",
   "id": "3ba2720f",
   "metadata": {},
   "source": [
    "The 3 genes missing are all in subtelomeric regions (Mal31 in the long arm telomere, the 2 others in the short arm teleomere)\n",
    "MAL31, 2 alignment\n",
    "tig00004928 VII  2968    0.0 96% identity, 6 GAP, finish by stop codon, LIFTOFF IDENTIFIED IT ON CHR 7\n",
    "tig00004927 II  2839    0.0  95% identity, 26 GAP, spread through sequence, finish by stop codon.\n",
    "\n",
    "PAU9: small gene (129 bp) with a lots of 100% identity hits, Liftoff only annotated it twice on chromosome 6 (2 different contigs), \n",
    "even though also perfect match on chromosomes 7, 8, 9, 10,1 why only on 6? syntheny?\n",
    "Sequences producing significant alignments:                          (Bits)  Value\n",
    "\n",
    "tig00004938 VI                                                        239     1e-63\n",
    "tig00004937 VI                                                        239     1e-63\n",
    "tig00004934 XII                                                       239     1e-63\n",
    "tig00004933 XII                                                       239     1e-63\n",
    "tig00001099 X                                                         239     1e-63\n",
    "tig00000033 I                                                         239     1e-63\n",
    "tig00000023 IX                                                        239     1e-63\n",
    "tig00000020 XII                                                       239     1e-63\n",
    "tig00000017 VIII                                                      239     1e-63\n",
    "tig00000001 IV                                                        239     1e-63\n",
    "tig00000038 VII                                                       233     5e-62\n",
    "tig00000015 V                                                         233     5e-62\n",
    "tig00004936 III                                                       228     3e-60\n",
    "tig00001098 X                                                         228     3e-60\n",
    "tig00004932 XI                                                        222     1e-58\n",
    "tig00000010 II                                                        222     1e-58\n",
    "tig00004928 VII                                                       206     1e-53\n",
    "tig00004927 II                                                        206     1e-53\n",
    "\n",
    "YBL111C: not detected by liftoff on chr5\n",
    "tig00000015 V  1991    0.0 98% identity 1GAP, finish by stop codon\n"
   ]
  },
  {
   "cell_type": "markdown",
   "id": "f7089d05",
   "metadata": {},
   "source": []
  },
  {
   "cell_type": "markdown",
   "id": "4c6a1c7b",
   "metadata": {},
   "source": [
    "# Duplicated genes???\n",
    "\n"
   ]
  },
  {
   "cell_type": "code",
   "execution_count": null,
   "id": "c130b50c",
   "metadata": {},
   "outputs": [],
   "source": [
    "# Many duplicated genes in this version\n",
    "gene_attr['extra_copy_number'].value_counts()"
   ]
  },
  {
   "cell_type": "code",
   "execution_count": null,
   "id": "bda8b613",
   "metadata": {},
   "outputs": [],
   "source": [
    "gene_attr[gene_attr['extra_copy_number'] > '1']"
   ]
  },
  {
   "cell_type": "code",
   "execution_count": null,
   "id": "73d236f8",
   "metadata": {},
   "outputs": [],
   "source": [
    "gene_attr[gene_attr.duplicated(subset=['Name'], keep=False) == True]"
   ]
  },
  {
   "cell_type": "markdown",
   "id": "d155e624",
   "metadata": {},
   "source": [
    "Duplicated genes:\n",
    "\n",
    "ATP8/Q0080: Subunit 8 of the F0 sector of mitochondrial F1F0 ATP synthase; encoded on the mitochondrial genome; ATP8 and ATP6 mRNAs are not translated in the absence of the F1 sector of ATPase\n",
    "\n",
    "OLI1/Q0130: F0-ATP synthase subunit c (ATPase-associated proteolipid); encoded on the mitochondrial genome; mutation confers oligomycin resistance; expression is specifically dependent on the nuclear genes AEP1 and AEP2 1 2 3 4\n",
    "Name Description\n",
    "OLIgomycin resistance 1\n",
    "\n",
    "Both on mitochondria so not that relevant to my project.\n",
    "\n",
    "PAU9/YBL108C-A: Protein of unknown function; member of the seripauperin multigene family encoded mainly in subtelomeric regions; SWAT-GFP and mCherry fusion proteins localize to the endoplasmic reticulum and vacuole respectively\n",
    "\n",
    "YHR213W-A: Putative protein of unknown function; identified by gene-trapping, microarray-based expression analysis, and genome-wide homology searching "
   ]
  }
 ],
 "metadata": {
  "kernelspec": {
   "display_name": "Python 3 (ipykernel)",
   "language": "python",
   "name": "python3"
  },
  "language_info": {
   "codemirror_mode": {
    "name": "ipython",
    "version": 3
   },
   "file_extension": ".py",
   "mimetype": "text/x-python",
   "name": "python",
   "nbconvert_exporter": "python",
   "pygments_lexer": "ipython3",
   "version": "3.8.3"
  }
 },
 "nbformat": 4,
 "nbformat_minor": 5
}
