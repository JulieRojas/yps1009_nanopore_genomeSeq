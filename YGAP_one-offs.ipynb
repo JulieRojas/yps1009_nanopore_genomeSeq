{
 "cells": [
  {
   "cell_type": "code",
   "execution_count": 1,
   "id": "3bc66e6c",
   "metadata": {},
   "outputs": [
    {
     "data": {
      "text/plain": [
       "'/mnt/data0/projects/YPS1009_Genome_Annotation/YGAP_NWGD-2'"
      ]
     },
     "execution_count": 1,
     "metadata": {},
     "output_type": "execute_result"
    }
   ],
   "source": [
    "import os\n",
    "import re\n",
    "os.getcwd()"
   ]
  },
  {
   "cell_type": "markdown",
   "id": "594fc9ce",
   "metadata": {},
   "source": [
    "# Get a list of all YGAP annotated genes"
   ]
  },
  {
   "cell_type": "code",
   "execution_count": 18,
   "id": "66b7ab1f",
   "metadata": {},
   "outputs": [
    {
     "data": {
      "text/plain": [
       "5383"
      ]
     },
     "execution_count": 18,
     "metadata": {},
     "output_type": "execute_result"
    }
   ],
   "source": [
    "genes = {}\n",
    "with open('annotation/Genes_annotated.txt', 'r') as f:\n",
    "    for line in f:\n",
    "        if not len(line.strip()) == 0: \n",
    "            dat = line.rstrip()\n",
    "            for x in dat.split('|'):\n",
    "                if x not in genes:\n",
    "                    genes[x] = 1\n",
    "                else:\n",
    "                    genes[x] +=1\n",
    "                    \n",
    "len(genes)"
   ]
  },
  {
   "cell_type": "markdown",
   "id": "2106e6e8",
   "metadata": {},
   "source": [
    "# Add S288C Chromosome name to the final annotation file"
   ]
  },
  {
   "cell_type": "code",
   "execution_count": 19,
   "id": "1a754474",
   "metadata": {},
   "outputs": [],
   "source": [
    "# Open Contig_Chromosome_correspondence file and create a lookup dictionary matching S288C chrom to YGAP short name\n",
    "file = 'YPS1009.correspondances.txt'\n",
    "ChrLookUp = {} # key = YGAP contig number value = S288C chromosome\n",
    "with open(file, 'r') as f:\n",
    "    f.readline()      # skip header\n",
    "    for line in f:\n",
    "        dat = line.rstrip().split('\\t')\n",
    "        if dat[1] not in ChrLookUp:\n",
    "            ChrLookUp[dat[1]] = dat[3]\n"
   ]
  },
  {
   "cell_type": "code",
   "execution_count": 16,
   "id": "8f03ddb7",
   "metadata": {},
   "outputs": [],
   "source": [
    "# open annotation file and add the S288C chromosome\n",
    "annotFile = 'YPS1009.annotation_final-tmp.csv'\n",
    "with open(annotFile, 'r') as f, open('YPS1009.annotation_final_S288C_chrom.txt', 'w') as out:\n",
    "    header = f.readline().split('\\t')\n",
    "    header.insert(4,'S288C_chrom')\n",
    "    out.write('\\t'.join(header))                              # write original header     \n",
    "    for line in f:\n",
    "        dat = line.rstrip().split('\\t')\n",
    "        \n",
    "        # replace Scaffold # with S288C chromosome\n",
    "        if dat[4] in ChrLookUp:\n",
    "            dat.insert(4,ChrLookUp[dat[4]])\n",
    "        # write new line    \n",
    "        outLine = '\\t'.join(dat) + '\\n'\n",
    "        out.write(outLine)\n"
   ]
  },
  {
   "cell_type": "code",
   "execution_count": 21,
   "id": "bf0a00fd",
   "metadata": {},
   "outputs": [],
   "source": [
    "# open trna annotation file and add the S288C chromosome\n",
    "trnaFile = 'YPS1009.trna.txt'\n",
    "with open(trnaFile, 'r') as f, open('YPS1009.trna_S288C_chrom.txt', 'w') as out:\n",
    "    header = f.readline().split('\\t')\n",
    "    header.insert(4,'S288C_chrom')\n",
    "    out.write('\\t'.join(header))                              # write original header     \n",
    "    for line in f:\n",
    "        dat = line.rstrip().split('\\t')\n",
    "        \n",
    "        # replace Scaffold # with S288C chromosome\n",
    "        if dat[4] in ChrLookUp:\n",
    "            dat.insert(4,ChrLookUp[dat[4]])\n",
    "        # write new line    \n",
    "        outLine = '\\t'.join(dat) + '\\n'\n",
    "        out.write(outLine)\n",
    "\n",
    "\n",
    "\n"
   ]
  },
  {
   "cell_type": "code",
   "execution_count": null,
   "id": "23d97790",
   "metadata": {},
   "outputs": [],
   "source": [
    "\n",
    "\n",
    "\n",
    "\n",
    "\n",
    "\n",
    "\n",
    "\n",
    "\n",
    "\n",
    "\n",
    "\n"
   ]
  }
 ],
 "metadata": {
  "kernelspec": {
   "display_name": "Python [conda env:root] *",
   "language": "python",
   "name": "conda-root-py"
  },
  "language_info": {
   "codemirror_mode": {
    "name": "ipython",
    "version": 3
   },
   "file_extension": ".py",
   "mimetype": "text/x-python",
   "name": "python",
   "nbconvert_exporter": "python",
   "pygments_lexer": "ipython3",
   "version": "3.9.7"
  }
 },
 "nbformat": 4,
 "nbformat_minor": 5
}
